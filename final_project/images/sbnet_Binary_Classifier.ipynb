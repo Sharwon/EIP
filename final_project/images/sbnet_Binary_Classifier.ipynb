{
  "nbformat": 4,
  "nbformat_minor": 0,
  "metadata": {
    "colab": {
      "name": "sbnet_Binary_Classifier.ipynb",
      "version": "0.3.2",
      "views": {},
      "default_view": {},
      "provenance": [
        {
          "file_id": "1Qz1Q_MLY1e21RXu3nfKieZWiezGNdPyY",
          "timestamp": 1529842355599
        },
        {
          "file_id": "1ZHBgK_Tw1kJoPexPUVfjQH_bkzLAz9Z3",
          "timestamp": 1529674697339
        },
        {
          "file_id": "0B5ENnvzv-7xiQk9wc205cWVucnVZQVotdEZ5T0t2SHBIUW5F",
          "timestamp": 1529670902328
        },
        {
          "file_id": "1tUoOxmp-Eo3mXMAwlcRx5ujf39c7Ddbl",
          "timestamp": 1529298390179
        },
        {
          "file_id": "1uvz9lNwk7K87vZdvzOIfO4y7UMiSoLDO",
          "timestamp": 1529295931055
        }
      ],
      "collapsed_sections": []
    },
    "kernelspec": {
      "name": "python3",
      "display_name": "Python 3"
    },
    "accelerator": "GPU"
  },
  "cells": [
    {
      "metadata": {
        "id": "KYRZOx4pA1cv",
        "colab_type": "text"
      },
      "cell_type": "markdown",
      "source": [
        ""
      ]
    },
    {
      "metadata": {
        "id": "A3mqyQUBkklG",
        "colab_type": "code",
        "colab": {
          "autoexec": {
            "startup": false,
            "wait_interval": 0
          },
          "base_uri": "https://localhost:8080/",
          "height": 277
        },
        "outputId": "b29e44f7-9910-4da1-96a8-74eb337af5a8",
        "executionInfo": {
          "status": "ok",
          "timestamp": 1529843295467,
          "user_tz": -330,
          "elapsed": 4435,
          "user": {
            "displayName": "Sharwon Pius",
            "photoUrl": "//lh5.googleusercontent.com/-lJsK5I6t9hs/AAAAAAAAAAI/AAAAAAAAAPw/L65Rjsg1dXA/s50-c-k-no/photo.jpg",
            "userId": "109026520467702366446"
          }
        }
      },
      "cell_type": "code",
      "source": [
        "!wget https://github.com/Sharwon/EIP/raw/master/final_project/numpy_array.zip"
      ],
      "execution_count": 8,
      "outputs": [
        {
          "output_type": "stream",
          "text": [
            "--2018-06-24 12:28:12--  https://github.com/Sharwon/EIP/raw/master/final_project/numpy_array.zip\r\n",
            "Resolving github.com (github.com)... 192.30.253.112, 192.30.253.113\r\n",
            "Connecting to github.com (github.com)|192.30.253.112|:443... connected.\n",
            "HTTP request sent, awaiting response... 302 Found\n",
            "Location: https://raw.githubusercontent.com/Sharwon/EIP/master/final_project/numpy_array.zip [following]\n",
            "--2018-06-24 12:28:12--  https://raw.githubusercontent.com/Sharwon/EIP/master/final_project/numpy_array.zip\n",
            "Resolving raw.githubusercontent.com (raw.githubusercontent.com)... 151.101.0.133, 151.101.64.133, 151.101.128.133, ...\n",
            "Connecting to raw.githubusercontent.com (raw.githubusercontent.com)|151.101.0.133|:443... connected.\n",
            "HTTP request sent, awaiting response... 200 OK\n",
            "Length: 17812037 (17M) [application/zip]\n",
            "Saving to: ‘numpy_array.zip’\n",
            "\n",
            "numpy_array.zip     100%[===================>]  16.99M  40.4MB/s    in 0.4s    \n",
            "\n",
            "2018-06-24 12:28:13 (40.4 MB/s) - ‘numpy_array.zip’ saved [17812037/17812037]\n",
            "\n"
          ],
          "name": "stdout"
        }
      ]
    },
    {
      "metadata": {
        "id": "m1oolXGOkpLG",
        "colab_type": "code",
        "colab": {
          "autoexec": {
            "startup": false,
            "wait_interval": 0
          },
          "base_uri": "https://localhost:8080/",
          "height": 115
        },
        "outputId": "fab96a86-8ee4-431b-8f0c-5fec0d0c4f6a",
        "executionInfo": {
          "status": "ok",
          "timestamp": 1529843307266,
          "user_tz": -330,
          "elapsed": 2559,
          "user": {
            "displayName": "Sharwon Pius",
            "photoUrl": "//lh5.googleusercontent.com/-lJsK5I6t9hs/AAAAAAAAAAI/AAAAAAAAAPw/L65Rjsg1dXA/s50-c-k-no/photo.jpg",
            "userId": "109026520467702366446"
          }
        }
      },
      "cell_type": "code",
      "source": [
        "!unzip numpy_array.zip"
      ],
      "execution_count": 9,
      "outputs": [
        {
          "output_type": "stream",
          "text": [
            "Archive:  numpy_array.zip\r\n",
            "   creating: numpy_array/\r\n",
            "  inflating: numpy_array/pedestrian_mask.bz2  \r\n",
            "  inflating: numpy_array/vehicles_mask.bz2  \n",
            "  inflating: numpy_array/vehicles.bz2  \n",
            "  inflating: numpy_array/pedestrians.bz2  \n"
          ],
          "name": "stdout"
        }
      ]
    },
    {
      "metadata": {
        "id": "fLS83RhP0B8p",
        "colab_type": "code",
        "colab": {
          "autoexec": {
            "startup": false,
            "wait_interval": 0
          },
          "base_uri": "https://localhost:8080/",
          "height": 33
        },
        "outputId": "18b09f01-9b14-43c4-dafd-9e274a173eb2",
        "executionInfo": {
          "status": "ok",
          "timestamp": 1529843281898,
          "user_tz": -330,
          "elapsed": 6582,
          "user": {
            "displayName": "Sharwon Pius",
            "photoUrl": "//lh5.googleusercontent.com/-lJsK5I6t9hs/AAAAAAAAAAI/AAAAAAAAAPw/L65Rjsg1dXA/s50-c-k-no/photo.jpg",
            "userId": "109026520467702366446"
          }
        }
      },
      "cell_type": "code",
      "source": [
        "import numpy as np\n",
        "\n",
        "#pytorch\n",
        "!pip3 install -q http://download.pytorch.org/whl/cu90/torch-0.4.0-cp36-cp36m-linux_x86_64.whl \n",
        "!pip3 install -q torchvision\n",
        "import torch\n",
        "print(\"pytorch version: \", torch.__version__)"
      ],
      "execution_count": 7,
      "outputs": [
        {
          "output_type": "stream",
          "text": [
            "pytorch version:  0.4.0\n"
          ],
          "name": "stdout"
        }
      ]
    },
    {
      "metadata": {
        "id": "wMHG3j0z0B_B",
        "colab_type": "code",
        "colab": {
          "autoexec": {
            "startup": false,
            "wait_interval": 0
          }
        }
      },
      "cell_type": "code",
      "source": [
        "import torch \n",
        "import torchvision\n",
        "import torchvision.transforms as transforms\n",
        "import torch.nn as nn\n",
        "import numpy as np \n",
        "import torch.optim as optim\n",
        "import torch.utils.data\n",
        "from torch.autograd import Variable\n",
        "from torch.utils.data import DataLoader \n",
        "import torch.nn.functional as F\n",
        "\n",
        "# import keras\n",
        "# from keras.datasets import mnist"
      ],
      "execution_count": 0,
      "outputs": []
    },
    {
      "metadata": {
        "id": "A9hTVk1BuhPT",
        "colab_type": "code",
        "colab": {
          "autoexec": {
            "startup": false,
            "wait_interval": 0
          },
          "base_uri": "https://localhost:8080/",
          "height": 289
        },
        "outputId": "870e92d5-890b-4755-ecc4-e00f78b8a966",
        "executionInfo": {
          "status": "ok",
          "timestamp": 1529840250142,
          "user_tz": -330,
          "elapsed": 2787,
          "user": {
            "displayName": "Ashwin Kulkarni",
            "photoUrl": "https://lh3.googleusercontent.com/a/default-user=s128",
            "userId": "106069713485154044351"
          }
        }
      },
      "cell_type": "code",
      "source": [
        "!pip3 install ipdb"
      ],
      "execution_count": 0,
      "outputs": [
        {
          "output_type": "stream",
          "text": [
            "Requirement already satisfied: ipdb in /usr/local/lib/python3.6/dist-packages (0.11)\r\n",
            "Requirement already satisfied: setuptools in /usr/local/lib/python3.6/dist-packages (from ipdb) (39.1.0)\r\n",
            "Requirement already satisfied: ipython>=5.0.0; python_version >= \"3.3\" in /usr/local/lib/python3.6/dist-packages (from ipdb) (5.5.0)\n",
            "Requirement already satisfied: simplegeneric>0.8 in /usr/local/lib/python3.6/dist-packages (from ipython>=5.0.0; python_version >= \"3.3\"->ipdb) (0.8.1)\n",
            "Requirement already satisfied: prompt-toolkit<2.0.0,>=1.0.4 in /usr/local/lib/python3.6/dist-packages (from ipython>=5.0.0; python_version >= \"3.3\"->ipdb) (1.0.15)\n",
            "Requirement already satisfied: decorator in /usr/local/lib/python3.6/dist-packages (from ipython>=5.0.0; python_version >= \"3.3\"->ipdb) (4.3.0)\n",
            "Requirement already satisfied: pygments in /usr/local/lib/python3.6/dist-packages (from ipython>=5.0.0; python_version >= \"3.3\"->ipdb) (2.1.3)\n",
            "Requirement already satisfied: pexpect; sys_platform != \"win32\" in /usr/local/lib/python3.6/dist-packages (from ipython>=5.0.0; python_version >= \"3.3\"->ipdb) (4.6.0)\n",
            "Requirement already satisfied: traitlets>=4.2 in /usr/local/lib/python3.6/dist-packages (from ipython>=5.0.0; python_version >= \"3.3\"->ipdb) (4.3.2)\n",
            "Requirement already satisfied: pickleshare in /usr/local/lib/python3.6/dist-packages (from ipython>=5.0.0; python_version >= \"3.3\"->ipdb) (0.7.4)\n",
            "Requirement already satisfied: six>=1.9.0 in /usr/local/lib/python3.6/dist-packages (from prompt-toolkit<2.0.0,>=1.0.4->ipython>=5.0.0; python_version >= \"3.3\"->ipdb) (1.11.0)\n",
            "Requirement already satisfied: wcwidth in /usr/local/lib/python3.6/dist-packages (from prompt-toolkit<2.0.0,>=1.0.4->ipython>=5.0.0; python_version >= \"3.3\"->ipdb) (0.1.7)\n",
            "Requirement already satisfied: ptyprocess>=0.5 in /usr/local/lib/python3.6/dist-packages (from pexpect; sys_platform != \"win32\"->ipython>=5.0.0; python_version >= \"3.3\"->ipdb) (0.5.2)\n",
            "Requirement already satisfied: ipython-genutils in /usr/local/lib/python3.6/dist-packages (from traitlets>=4.2->ipython>=5.0.0; python_version >= \"3.3\"->ipdb) (0.2.0)\n"
          ],
          "name": "stdout"
        }
      ]
    },
    {
      "metadata": {
        "id": "xUsH4J89odNd",
        "colab_type": "code",
        "colab": {
          "autoexec": {
            "startup": false,
            "wait_interval": 0
          },
          "base_uri": "https://localhost:8080/",
          "height": 50
        },
        "outputId": "297cac0a-c129-4b64-a5b6-97b4ad64d6e9",
        "executionInfo": {
          "status": "ok",
          "timestamp": 1529843313877,
          "user_tz": -330,
          "elapsed": 2106,
          "user": {
            "displayName": "Sharwon Pius",
            "photoUrl": "//lh5.googleusercontent.com/-lJsK5I6t9hs/AAAAAAAAAAI/AAAAAAAAAPw/L65Rjsg1dXA/s50-c-k-no/photo.jpg",
            "userId": "109026520467702366446"
          }
        }
      },
      "cell_type": "code",
      "source": [
        "import matplotlib.pyplot as plt\n",
        "%matplotlib inline"
      ],
      "execution_count": 11,
      "outputs": [
        {
          "output_type": "stream",
          "text": [
            "\u001b[0m\u001b[01;34mdatalab\u001b[0m/       images_sbnet-20180623T200144Z-001.zip  \u001b[01;34mnumpy_array\u001b[0m/\r\n",
            "\u001b[01;34mimages_sbnet\u001b[0m/  images_sbnet-20180624T095625Z-001.zip  numpy_array.zip\r\n"
          ],
          "name": "stdout"
        }
      ]
    },
    {
      "metadata": {
        "id": "gmEbmxMeYw7w",
        "colab_type": "code",
        "colab": {
          "autoexec": {
            "startup": false,
            "wait_interval": 0
          }
        }
      },
      "cell_type": "code",
      "source": [
        "import pickle\n",
        "import bz2\n",
        "import os"
      ],
      "execution_count": 0,
      "outputs": []
    },
    {
      "metadata": {
        "id": "_SjFSkub0Iyc",
        "colab_type": "code",
        "colab": {
          "autoexec": {
            "startup": false,
            "wait_interval": 0
          }
        }
      },
      "cell_type": "code",
      "source": [
        "device = torch.device('cuda:0' if torch.cuda.is_available() else 'cpu')\n"
      ],
      "execution_count": 0,
      "outputs": []
    },
    {
      "metadata": {
        "id": "USn4RNdOWZ6i",
        "colab_type": "code",
        "colab": {
          "autoexec": {
            "startup": false,
            "wait_interval": 0
          },
          "base_uri": "https://localhost:8080/",
          "height": 50
        },
        "outputId": "c41999f4-6803-4543-9cc5-81b985477eff",
        "executionInfo": {
          "status": "ok",
          "timestamp": 1529843321306,
          "user_tz": -330,
          "elapsed": 947,
          "user": {
            "displayName": "Sharwon Pius",
            "photoUrl": "//lh5.googleusercontent.com/-lJsK5I6t9hs/AAAAAAAAAAI/AAAAAAAAAPw/L65Rjsg1dXA/s50-c-k-no/photo.jpg",
            "userId": "109026520467702366446"
          }
        }
      },
      "cell_type": "code",
      "source": [
        "cd image_sbnet"
      ],
      "execution_count": 14,
      "outputs": [
        {
          "output_type": "stream",
          "text": [
            "[Errno 2] No such file or directory: 'image_sbnet'\n",
            "/content\n"
          ],
          "name": "stdout"
        }
      ]
    },
    {
      "metadata": {
        "id": "m0k4JwHgl7aS",
        "colab_type": "code",
        "colab": {
          "autoexec": {
            "startup": false,
            "wait_interval": 0
          },
          "base_uri": "https://localhost:8080/",
          "height": 50
        },
        "outputId": "117bd7c5-0cf8-4dc8-ba31-3e3a7d207261",
        "executionInfo": {
          "status": "ok",
          "timestamp": 1529843325055,
          "user_tz": -330,
          "elapsed": 2152,
          "user": {
            "displayName": "Sharwon Pius",
            "photoUrl": "//lh5.googleusercontent.com/-lJsK5I6t9hs/AAAAAAAAAAI/AAAAAAAAAPw/L65Rjsg1dXA/s50-c-k-no/photo.jpg",
            "userId": "109026520467702366446"
          }
        }
      },
      "cell_type": "code",
      "source": [
        "ls"
      ],
      "execution_count": 15,
      "outputs": [
        {
          "output_type": "stream",
          "text": [
            "\u001b[0m\u001b[01;34mdatalab\u001b[0m/       images_sbnet-20180623T200144Z-001.zip  \u001b[01;34mnumpy_array\u001b[0m/\r\n",
            "\u001b[01;34mimages_sbnet\u001b[0m/  images_sbnet-20180624T095625Z-001.zip  numpy_array.zip\r\n"
          ],
          "name": "stdout"
        }
      ]
    },
    {
      "metadata": {
        "id": "GO5NyxPUWaEF",
        "colab_type": "code",
        "colab": {
          "autoexec": {
            "startup": false,
            "wait_interval": 0
          },
          "base_uri": "https://localhost:8080/",
          "height": 33
        },
        "outputId": "7877d007-edce-465e-e74e-b305815c4b9e",
        "executionInfo": {
          "status": "ok",
          "timestamp": 1529843973596,
          "user_tz": -330,
          "elapsed": 14919,
          "user": {
            "displayName": "Sharwon Pius",
            "photoUrl": "//lh5.googleusercontent.com/-lJsK5I6t9hs/AAAAAAAAAAI/AAAAAAAAAPw/L65Rjsg1dXA/s50-c-k-no/photo.jpg",
            "userId": "109026520467702366446"
          }
        }
      },
      "cell_type": "code",
      "source": [
        "def load(name):\n",
        "\tsfile = bz2.BZ2File(name, 'rb')\n",
        "\tdata = pickle.load(sfile)\n",
        "\tsfile.close()\n",
        "\treturn data\n",
        "\n",
        "data1 = load(\"numpy_array/vehicles.bz2\")\n",
        "data1_mask = load(\"numpy_array/vehicles_mask.bz2\")\n",
        "data2 = load(\"numpy_array/pedestrians.bz2\")\n",
        "data2_mask = load(\"numpy_array/pedestrian_mask.bz2\")\n",
        "\n",
        "\n",
        "\n",
        "data1 = torch.Tensor(data1).to(device)\n",
        "data1_mask = torch.Tensor(data1_mask).to(device)\n",
        "data2 = torch.Tensor(data2).to(device)\n",
        "data2_mask = torch.Tensor(data2_mask).to(device)\n",
        "print(data1.size())\n"
      ],
      "execution_count": 17,
      "outputs": [
        {
          "output_type": "stream",
          "text": [
            "torch.Size([90, 3, 224, 224])\n"
          ],
          "name": "stdout"
        }
      ]
    },
    {
      "metadata": {
        "id": "I22asgDwY5hL",
        "colab_type": "code",
        "colab": {
          "autoexec": {
            "startup": false,
            "wait_interval": 0
          }
        }
      },
      "cell_type": "code",
      "source": [
        "x_train = torch.cat((data1, data2), 0).to(device)\n",
        "y_train = torch.cat((torch.zeros(90,0), torch.ones(90,0)), 0).to(device) # labels '0' for car and '1' for person.\n",
        "mask = torch.cat((data1_mask, data2_mask), 0).to(device)\n",
        "\n",
        "x_train = x_train/255\n",
        "Mask = (mask > (1/255)).float()\n",
        "Mask = Mask[:,0,:,:]\n",
        "Mask.require_grad = False\n"
      ],
      "execution_count": 0,
      "outputs": []
    },
    {
      "metadata": {
        "id": "yjRkdbGocGAm",
        "colab_type": "code",
        "colab": {
          "autoexec": {
            "startup": false,
            "wait_interval": 0
          }
        }
      },
      "cell_type": "code",
      "source": [
        "mask=Mask.clone()\n"
      ],
      "execution_count": 0,
      "outputs": []
    },
    {
      "metadata": {
        "id": "DVPq2Bs-nn67",
        "colab_type": "code",
        "colab": {
          "autoexec": {
            "startup": false,
            "wait_interval": 0
          }
        }
      },
      "cell_type": "code",
      "source": [
        "mask[Mask==0]=1\n",
        "mask[Mask==1]=0"
      ],
      "execution_count": 0,
      "outputs": []
    },
    {
      "metadata": {
        "id": "ljXO87tzm5zq",
        "colab_type": "code",
        "colab": {
          "autoexec": {
            "startup": false,
            "wait_interval": 0
          },
          "base_uri": "https://localhost:8080/",
          "height": 33
        },
        "outputId": "7c1c5194-084a-43f1-d193-c7e775c8133e",
        "executionInfo": {
          "status": "ok",
          "timestamp": 1529844146086,
          "user_tz": -330,
          "elapsed": 1253,
          "user": {
            "displayName": "Sharwon Pius",
            "photoUrl": "//lh5.googleusercontent.com/-lJsK5I6t9hs/AAAAAAAAAAI/AAAAAAAAAPw/L65Rjsg1dXA/s50-c-k-no/photo.jpg",
            "userId": "109026520467702366446"
          }
        }
      },
      "cell_type": "code",
      "source": [
        "mask.shape"
      ],
      "execution_count": 26,
      "outputs": [
        {
          "output_type": "execute_result",
          "data": {
            "text/plain": [
              "torch.Size([180, 224, 224])"
            ]
          },
          "metadata": {
            "tags": []
          },
          "execution_count": 26
        }
      ]
    },
    {
      "metadata": {
        "id": "gLNZQQq2QmI9",
        "colab_type": "code",
        "colab": {
          "autoexec": {
            "startup": false,
            "wait_interval": 0
          }
        }
      },
      "cell_type": "code",
      "source": [
        "labels = torch.cat((torch.zeros(90,), torch.ones(90,)), 0).long().to(device)\n",
        "labels.shape\n"
      ],
      "execution_count": 0,
      "outputs": []
    },
    {
      "metadata": {
        "id": "wJ3YxW1XO3B7",
        "colab_type": "code",
        "colab": {
          "autoexec": {
            "startup": false,
            "wait_interval": 0
          },
          "base_uri": "https://localhost:8080/",
          "height": 286
        },
        "outputId": "bfa7f2bb-271f-4ed2-dd81-aea810e09952",
        "executionInfo": {
          "status": "ok",
          "timestamp": 1529851611515,
          "user_tz": -330,
          "elapsed": 1279,
          "user": {
            "displayName": "Sharwon Pius",
            "photoUrl": "//lh5.googleusercontent.com/-lJsK5I6t9hs/AAAAAAAAAAI/AAAAAAAAAPw/L65Rjsg1dXA/s50-c-k-no/photo.jpg",
            "userId": "109026520467702366446"
          }
        }
      },
      "cell_type": "code",
      "source": [
        "#viusalizing the images and their respective masks. \n",
        "\n",
        "# Car\n",
        "plt.imshow(x_train[5, 0, :, :].cpu().detach().numpy())"
      ],
      "execution_count": 72,
      "outputs": [
        {
          "output_type": "execute_result",
          "data": {
            "text/plain": [
              "<matplotlib.image.AxesImage at 0x7ff83225b710>"
            ]
          },
          "metadata": {
            "tags": []
          },
          "execution_count": 72
        },
        {
          "output_type": "display_data",
          "data": {
            "image/png": "[encoded data removed]",
            "text/plain": [
              "<matplotlib.figure.Figure at 0x7ff903a88e48>"
            ]
          },
          "metadata": {
            "tags": []
          }
        }
      ]
    },
    {
      "metadata": {
        "id": "KtHqfzFwPwaf",
        "colab_type": "code",
        "colab": {
          "autoexec": {
            "startup": false,
            "wait_interval": 0
          }
        },
        "collapsed": true
      },
      "cell_type": "code",
      "source": [
        "mask.cpu().detach().numpy()"
      ],
      "execution_count": 0,
      "outputs": []
    },
    {
      "metadata": {
        "id": "6d5FbD7UP-gD",
        "colab_type": "code",
        "colab": {
          "autoexec": {
            "startup": false,
            "wait_interval": 0
          },
          "base_uri": "https://localhost:8080/",
          "height": 286
        },
        "outputId": "1254cbdb-bd6b-408d-f4b0-77b5698ebfe1",
        "executionInfo": {
          "status": "ok",
          "timestamp": 1529844176558,
          "user_tz": -330,
          "elapsed": 2360,
          "user": {
            "displayName": "Sharwon Pius",
            "photoUrl": "//lh5.googleusercontent.com/-lJsK5I6t9hs/AAAAAAAAAAI/AAAAAAAAAPw/L65Rjsg1dXA/s50-c-k-no/photo.jpg",
            "userId": "109026520467702366446"
          }
        }
      },
      "cell_type": "code",
      "source": [
        "plt.imshow(mask[5].cpu().detach().numpy())"
      ],
      "execution_count": 31,
      "outputs": [
        {
          "output_type": "execute_result",
          "data": {
            "text/plain": [
              "<matplotlib.image.AxesImage at 0x7ff8337bbc88>"
            ]
          },
          "metadata": {
            "tags": []
          },
          "execution_count": 31
        },
        {
          "output_type": "display_data",
          "data": {
            "image/png": "[encoded data removed]",
            "text/plain": [
              "<matplotlib.figure.Figure at 0x7ff89e3f43c8>"
            ]
          },
          "metadata": {
            "tags": []
          }
        }
      ]
    },
    {
      "metadata": {
        "id": "YwyBkvTtQZq7",
        "colab_type": "code",
        "colab": {
          "autoexec": {
            "startup": false,
            "wait_interval": 0
          },
          "base_uri": "https://localhost:8080/",
          "height": 286
        },
        "outputId": "35f71084-72e3-469d-c009-173519ed5c70",
        "executionInfo": {
          "status": "ok",
          "timestamp": 1529851733610,
          "user_tz": -330,
          "elapsed": 897,
          "user": {
            "displayName": "Sharwon Pius",
            "photoUrl": "//lh5.googleusercontent.com/-lJsK5I6t9hs/AAAAAAAAAAI/AAAAAAAAAPw/L65Rjsg1dXA/s50-c-k-no/photo.jpg",
            "userId": "109026520467702366446"
          }
        }
      },
      "cell_type": "code",
      "source": [
        "# Person\n",
        "plt.imshow(x_train[120,0, :, :].cpu().detach().numpy())"
      ],
      "execution_count": 76,
      "outputs": [
        {
          "output_type": "execute_result",
          "data": {
            "text/plain": [
              "<matplotlib.image.AxesImage at 0x7ff8321007f0>"
            ]
          },
          "metadata": {
            "tags": []
          },
          "execution_count": 76
        },
        {
          "output_type": "display_data",
          "data": {
            "image/png": "[encoded data removed]",
            "text/plain": [
              "<matplotlib.figure.Figure at 0x7ff832178c50>"
            ]
          },
          "metadata": {
            "tags": []
          }
        }
      ]
    },
    {
      "metadata": {
        "id": "KmKLOEvEQZ4Y",
        "colab_type": "code",
        "colab": {
          "autoexec": {
            "startup": false,
            "wait_interval": 0
          },
          "base_uri": "https://localhost:8080/",
          "height": 286
        },
        "outputId": "57ba1c54-1fec-4a85-a939-c4ba76279cc3",
        "executionInfo": {
          "status": "ok",
          "timestamp": 1529851781789,
          "user_tz": -330,
          "elapsed": 801,
          "user": {
            "displayName": "Sharwon Pius",
            "photoUrl": "//lh5.googleusercontent.com/-lJsK5I6t9hs/AAAAAAAAAAI/AAAAAAAAAPw/L65Rjsg1dXA/s50-c-k-no/photo.jpg",
            "userId": "109026520467702366446"
          }
        }
      },
      "cell_type": "code",
      "source": [
        "plt.imshow(mask[120].cpu().detach().numpy())"
      ],
      "execution_count": 77,
      "outputs": [
        {
          "output_type": "execute_result",
          "data": {
            "text/plain": [
              "<matplotlib.image.AxesImage at 0x7ff8320e55c0>"
            ]
          },
          "metadata": {
            "tags": []
          },
          "execution_count": 77
        },
        {
          "output_type": "display_data",
          "data": {
            "image/png": "[encoded data removed]",
            "text/plain": [
              "<matplotlib.figure.Figure at 0x7ff832115a90>"
            ]
          },
          "metadata": {
            "tags": []
          }
        }
      ]
    },
    {
      "metadata": {
        "id": "ekm4nfMsdtMA",
        "colab_type": "code",
        "colab": {
          "autoexec": {
            "startup": false,
            "wait_interval": 0
          },
          "base_uri": "https://localhost:8080/",
          "height": 35
        },
        "outputId": "f6c924ae-bc86-4bf1-b318-8fe286d796cf",
        "executionInfo": {
          "status": "ok",
          "timestamp": 1529840570342,
          "user_tz": -330,
          "elapsed": 3460,
          "user": {
            "displayName": "Ashwin Kulkarni",
            "photoUrl": "https://lh3.googleusercontent.com/a/default-user=s128",
            "userId": "106069713485154044351"
          }
        }
      },
      "cell_type": "code",
      "source": [
        "Mask.shape"
      ],
      "execution_count": 0,
      "outputs": [
        {
          "output_type": "execute_result",
          "data": {
            "text/plain": [
              "torch.Size([40, 128, 128])"
            ]
          },
          "metadata": {
            "tags": []
          },
          "execution_count": 48
        }
      ]
    },
    {
      "metadata": {
        "id": "kRk9e-ccLt5K",
        "colab_type": "text"
      },
      "cell_type": "markdown",
      "source": [
        "X_train.shape"
      ]
    },
    {
      "metadata": {
        "id": "Om7iADHd0CDq",
        "colab_type": "code",
        "colab": {
          "autoexec": {
            "startup": false,
            "wait_interval": 0
          }
        }
      },
      "cell_type": "code",
      "source": [
        "num_epochs = 5\n",
        "num_classes = 2\n",
        "batch_size = 16\n",
        "learning_rate = 0.01\n",
        "#img_channel, img_height, img_width = x_train.shape[0], x_train.shape[1], x_train.shape[2]\n",
        "img_channel, img_height, img_width = x_train.shape[1], x_train.shape[2], x_train.shape[3]"
      ],
      "execution_count": 0,
      "outputs": []
    },
    {
      "metadata": {
        "id": "_rUe61fGQKKy",
        "colab_type": "code",
        "colab": {
          "autoexec": {
            "startup": false,
            "wait_interval": 0
          },
          "base_uri": "https://localhost:8080/",
          "height": 33
        },
        "outputId": "b278fe22-2563-49d0-b1ee-74686a89e255",
        "executionInfo": {
          "status": "ok",
          "timestamp": 1529844231076,
          "user_tz": -330,
          "elapsed": 4751,
          "user": {
            "displayName": "Sharwon Pius",
            "photoUrl": "//lh5.googleusercontent.com/-lJsK5I6t9hs/AAAAAAAAAAI/AAAAAAAAAPw/L65Rjsg1dXA/s50-c-k-no/photo.jpg",
            "userId": "109026520467702366446"
          }
        }
      },
      "cell_type": "code",
      "source": [
        "print(img_channel, img_height, img_width)"
      ],
      "execution_count": 33,
      "outputs": [
        {
          "output_type": "stream",
          "text": [
            "3 224 224\n"
          ],
          "name": "stdout"
        }
      ]
    },
    {
      "metadata": {
        "id": "h8vSNw2g0CGD",
        "colab_type": "code",
        "colab": {
          "autoexec": {
            "startup": false,
            "wait_interval": 0
          }
        }
      },
      "cell_type": "code",
      "source": [
        "def reduce_mask_pool2d(mask, ksize, kstride, thresh = 0.2, avg= True):\n",
        "\t'''\n",
        "\tReduce mask operation:Takes a binary mask as input and after performing \n",
        "\tavg pooling or max pooling selects active blocksand return indices of \n",
        "\tthe active blocks\n",
        "\t\n",
        "\tInputs:\n",
        "\t:param mask:\t\ttorch tensor\t#[N,H,W] binary mask, where N is batch diemension, W, H are width and height of mask\n",
        "\t:param kszie:\t\t[list, tuple]\t#[h,w] Size of kernel to perform pooling\n",
        "\t:param kstride:\t\t[list, tuple] \t#[h_stride,w_stride] Stride of Kernel\n",
        "\t:param thresh:\t\tint \t\t\t#applicable for avg pooling\n",
        "\t:param avg:\t\t\tbool \t\t\t#Avg pooling or max pooling \n",
        "\n",
        "\tRequire_grad = Fasle\n",
        "\n",
        "\tOutput:\n",
        "\t\tindicies of size [B, 3] where B is the number of active blocks \n",
        "\t\tand 3 corresponds to [N, y, x] where N is batch size, and (y,x) is the \n",
        "\t\tco-ordinates of the \"centre\" of the block.\n",
        "\t\tindicies is a torch tensor\n",
        "\tNote:\n",
        "\t\tpadding is done automatically\n",
        "\t'''\n",
        "\n",
        "\tassert torch.is_tensor(mask) == True, 'Expect mask to be a pytorch tensor'\n",
        "\tisize = list(mask.size())\n",
        "\tassert len(mask.size()) == 3 , 'Expect input rank = 3'\n",
        "\tassert type(ksize) in [list, tuple], 'Expect `ksize` to be list or tuple'\n",
        "\tassert type(kstride) in [list, tuple], 'Expect `kstride` to be list or tuple'\n",
        "\tassert len(kstride) == 2 and len(ksize) == 2, 'Expect length of kstride and ksize to be 2'\n",
        "\tassert type(thresh) in [int, float], 'Expect `thresh` to be int or float'\n",
        "\n",
        "\tmask = mask.unsqueeze(1)\n",
        "\n",
        "\tif avg:\n",
        "\t\ttemp = F.avg_pool2d(input = mask, kernel_size = ksize, stride = kstride, padding = 0).to(device).squeeze()\n",
        "\t\tindicesm = torch.where(temp > thresh, torch.ones_like(temp).to(device), torch.zeros_like(temp).to(device)).int()\n",
        "\t\tindices = (indicesm != 0).nonzero().to(device)\n",
        "\t\treturn indices\n",
        "\telse:\n",
        "\t\ttemp = F.max_pool2d(input = mask, kernel_size = ksize, stride = kstride, padding = 0).to(device).squeeze()\n",
        "\t\tindicesm = torch.where(temp > thresh, torch.ones_like(temp).to(device), torch.zeros_like(temp).to(device)).int()\n",
        "\t\tindices = (indicesm != 0).nonzero().to(device)\n",
        "\t\treturn indices"
      ],
      "execution_count": 0,
      "outputs": []
    },
    {
      "metadata": {
        "id": "5NlUO5260zeN",
        "colab_type": "code",
        "colab": {
          "autoexec": {
            "startup": false,
            "wait_interval": 0
          }
        }
      },
      "cell_type": "code",
      "source": [
        "def pad_input(input, ksize, kstride):\n",
        "\t'''\n",
        "\tPads the input or mask according to the required kernel to perform sparse convolution\n",
        "\n",
        "\tInputs:\n",
        "\t:param input:\t\ttorch tensor\t#[N,H,W] binary mask or [N,C,H,W] input, where N is batch\n",
        "\t:param kszie:\t\t[list, tuple]\t#[h,w] Size of kernel to perform pooling\n",
        "\t:param kstride:\t\t[list, tuple] \t#[h_stride,w_stride] Stride of Kernel\n",
        "\n",
        "\tOutput: Zero padded torch tensor\n",
        "\t'''\n",
        "\tassert torch.is_tensor(input) == True, 'Expect input to be a pytorch tensor'\n",
        "\tisize = list(input.size())\n",
        "\tassert len(input.size()) == 3 or len(input.size()) == 4, 'Expect input rank = 3(mask) or 4(input)'\n",
        "\tassert type(ksize) in [list, tuple], 'Expect `ksize` to be list or tuple'\n",
        "\tassert type(kstride) in [list, tuple], 'Expect `kstride` to be list or tuple'\n",
        "\tassert len(kstride) == 2 and len(ksize) == 2, 'Expect length of kstride and ksize to be 2'\n",
        "\n",
        "\t#padding along width!\n",
        "\tpad_w = kstride[-1] - ((isize[-1]-ksize[-1])%kstride[-1])\n",
        "\tpad_w1 = pad_w2 = pad_w//2\n",
        "\tif pad_w%2 == 1:\n",
        "\t\tpad_w2 += 1\n",
        "\n",
        "\t#padding along height\n",
        "\tpad_h = kstride[-2] - ((isize[-2]-ksize[-2])%kstride[-2])\n",
        "\tpad_h1 = pad_h2 = pad_h//2\n",
        "\tif pad_h%2 == 1:\n",
        "\t\tpad_h2 += 1\n",
        "\n",
        "\tpad = (pad_w1, pad_w2, pad_h1, pad_h2)\n",
        "\treturn F.pad(input, pad, \"constant\", 0).to(device)"
      ],
      "execution_count": 0,
      "outputs": []
    },
    {
      "metadata": {
        "id": "DjTdkZPD5eCP",
        "colab_type": "code",
        "colab": {
          "autoexec": {
            "startup": false,
            "wait_interval": 0
          }
        }
      },
      "cell_type": "code",
      "source": [
        "def gather2d(input, indices, ksize, kstride):\n",
        "\t'''\n",
        "\tSparse gather operation:\n",
        "\n",
        "\tTakes a torch tensor as input and gathers blocks on basis of indices generated \n",
        "\tfrom reduce_mask_pool2d. Essentialy a slicing and concatenation along the batch dimension\n",
        "\n",
        "\tParams:\n",
        "\t:param input:\t\ttorch tensor\t#[N,C,H,W] size tensor, where N is batch diemension, W, H are width and height of mask \n",
        "\t:param indices:\t\ttorch tensor \t#[B,3] where B is the number of active blocks and 3 corresponds to [N,y,x]\n",
        "\t:param kszie:\t\t[list, tuple]\t#[h,w] Size of kernel to perform pooling\n",
        "\t:param kstride:\t\t[list, tuple] \t#[h_stride,w_stride] Stride of Kernel\n",
        "\n",
        "\tOutput:\n",
        "\t\tReturns a [B,C,h,w] shape tensor which is the active blocks stacked in the \n",
        "\t\tbatch diemension\n",
        "\tgradient flow is fine: https://github.com/pytorch/pytorch/issues/822\n",
        "\t\n",
        "\tProblems? : How to remove the for loop and vectorize it?\n",
        "\tidea: flatten and multiply and reshape !\n",
        "\t'''\n",
        "\tassert torch.is_tensor(input) == True, 'Expect input to be a pytorch tensor'\n",
        "\tisize = list(input.size())\n",
        "\tassert len(input.size()) == 4, 'Expect input rank = 4 , [N,C,H,W]'\n",
        "\n",
        "\tassert torch.is_tensor(indices) == True, 'Expect indicies to be a pytorch tensor'\n",
        "\tasize = list(indices.size()) \n",
        "\n",
        "\tassert type(ksize) in [list, tuple], 'Expect `ksize` to be list or tuple'\n",
        "\tassert type(kstride) in [list, tuple], 'Expect `kstride` to be list or tuple'\n",
        "\tassert len(kstride) == 2 and len(ksize) == 2, 'Expect length of kstride and ksize to be 2'\n",
        "\n",
        "\t#gathered = torch.empty((asize[0], isize[1], ksize[0], ksize[1])).to(device)\n",
        "\tgathered = input[indices[0][0]:indices[0][0]+1, :, indices[0][1]*kstride[0]:indices[0][1]*kstride[0]+ksize[0], indices[0][2]*kstride[1]: indices[0][2]*kstride[1]+ksize[1]]\n",
        "\tfor B, h0, w0 in indices[1:]:\n",
        "\t\tgathered = torch.cat((gathered, input[B:B+1, :, h0*kstride[0]:h0*kstride[0]+ksize[0], w0*kstride[1]: w0*kstride[1]+ksize[1]]), 0)\n",
        "\treturn gathered\n",
        "\n"
      ],
      "execution_count": 0,
      "outputs": []
    },
    {
      "metadata": {
        "id": "wc_G6EPnrQZv",
        "colab_type": "code",
        "colab": {
          "autoexec": {
            "startup": false,
            "wait_interval": 0
          }
        }
      },
      "cell_type": "code",
      "source": [
        "def gather2dd(input, indices, ksize, kstride):\n",
        "\t'''\n",
        "\tSparse gather operation:\n",
        "\n",
        "\tTakes a torch tensor as input and gathers blocks on basis of indices generated \n",
        "\tfrom reduce_mask_pool2d. Essentialy a slicing and concatenation along the batch dimension\n",
        "\n",
        "\tParams:\n",
        "\t:param input:\t\ttorch tensor\t#[N,C,H,W] size tensor, where N is batch diemension, W, H are width and height of mask \n",
        "\t:param indices:\t\ttorch tensor \t#[B,3] where B is the number of active blocks and 3 corresponds to [N,y,x]\n",
        "\t:param kszie:\t\t[list, tuple]\t#[h,w] Size of kernel to perform pooling\n",
        "\t:param kstride:\t\t[list, tuple] \t#[h_stride,w_stride] Stride of Kernel\n",
        "\n",
        "\tOutput:\n",
        "\t\tReturns a [B,C,h,w] shape tensor which is the active blocks stacked in the \n",
        "\t\tbatch diemension\n",
        "\tgradient flow is fine: https://github.com/pytorch/pytorch/issues/822\n",
        "\t\n",
        "\tProblems? : How to remove the for loop and vectorize it?\n",
        "\tidea: flatten and multiply and reshape !\n",
        "\t'''\n",
        "\tassert torch.is_tensor(input) == True, 'Expect input to be a pytorch tensor'\n",
        "\tisize = list(input.size())\n",
        "\tassert len(input.size()) == 3, 'Expect input rank = 4 , [N,C,H,W]'\n",
        "\n",
        "\tassert torch.is_tensor(indices) == True, 'Expect indicies to be a pytorch tensor'\n",
        "\tasize = list(indices.size()) \n",
        "\n",
        "\tassert type(ksize) in [list, tuple], 'Expect `ksize` to be list or tuple'\n",
        "\tassert type(kstride) in [list, tuple], 'Expect `kstride` to be list or tuple'\n",
        "\tassert len(kstride) == 2 and len(ksize) == 2, 'Expect length of kstride and ksize to be 2'\n",
        "\n",
        "\t#gathered = torch.empty((asize[0], isize[1], ksize[0], ksize[1])).to(device)\n",
        "\tgathered = input[indices[0][0]:indices[0][0]+1, indices[0][1]*kstride[0]:indices[0][1]*kstride[0]+ksize[0], indices[0][2]*kstride[1]: indices[0][2]*kstride[1]+ksize[1]]\n",
        "\tfor B, h0, w0 in indices[1:]:\n",
        "\t\tgathered = torch.cat((gathered, input[B:B+1, h0*kstride[0]:h0*kstride[0]+ksize[0], w0*kstride[1]: w0*kstride[1]+ksize[1]]), 0)\n",
        "\treturn gathered"
      ],
      "execution_count": 0,
      "outputs": []
    },
    {
      "metadata": {
        "id": "0-NkaloR01jE",
        "colab_type": "code",
        "colab": {
          "autoexec": {
            "startup": false,
            "wait_interval": 0
          }
        }
      },
      "cell_type": "code",
      "source": [
        "def mask_pool2d(mask):\n",
        "\t'''\n",
        "\tmask downsample operation:Takes a binary mask as input and performs max\n",
        "\tpooling to reduce its size \n",
        "\t\n",
        "\tInputs:\n",
        "\t:param mask:\t\ttorch tensor\t#[N,H,W] binary mask, where N is batch diemension, W, H are width and height of mask\n",
        "\t\n",
        "\tOutputs: A binary torch tensor of half the input mask size\n",
        "\t'''\n",
        "\tassert torch.is_tensor(mask) == True, 'Expect mask to be a pytorch tensor'\n",
        "\tisize = list(mask.size())\n",
        "\tassert len(mask.size()) == 3 , 'Expect input rank = 3'\n",
        "\n",
        "\tmask = mask.unsqueeze(1)\n",
        "\ttemp = F.max_pool2d(input = mask, kernel_size = [2,2], stride = [2,2], padding = 0).to(device).squeeze().float()\n",
        "\ttemp.require_grad = False\n",
        "\treturn temp\n"
      ],
      "execution_count": 0,
      "outputs": []
    },
    {
      "metadata": {
        "id": "wGbi1_qi5YOd",
        "colab_type": "code",
        "colab": {
          "autoexec": {
            "startup": false,
            "wait_interval": 0
          }
        }
      },
      "cell_type": "code",
      "source": [
        "def scatter2d(input, gathered, indices, ksize, kstride, add = True):\n",
        "\t'''\n",
        "\tSparse scatter operation:\n",
        "\n",
        "\tTakes a gathered torch tensor as input and scatters it back on the input on basis of\n",
        "\tindices generated from reduce_mask. Essentialy a slicing and addition/write operation\n",
        "\n",
        "\tParams:\n",
        "\t\t:param input:\t\ttorch tensor\t#[N,C,H,W] size tensor, where N is batch diemension, W, H are width and height of mask \n",
        "\t\t:param gathered:\ttorch tensor \t#[B,C,h1,w1] B,C are same as the input, h1 and w1 are deetermined on the type of convolutions used\n",
        "\t\t:param indices:\t\ttorch tensor \t#[B,3] where B is the number of active blocks and 3 corresponds to [N,y,x]\n",
        "\t\t:param kszie:\t\t[list, tuple]\t#[h,w] Size of kernel to perform pooling\n",
        "\t\t:param kstride:\t\t[list, tuple] \t#[h_stride,w_stride] Stride of Kernel\n",
        "\t\t:param add:\t\t\tbool \t\t\t#Decides weather to add the values or replace them while scattering\n",
        "\tOutput:\n",
        "\t\tA tensor of same shape as input, but it has been updatd with the scattered values\n",
        "\t'''\n",
        "\tassert torch.is_tensor(input) == True, 'Expect input to be a pytorch tensor'\n",
        "\tassert len(input.size()) == 4, 'Expect input rank = 4 , [N,C,H,W]'\n",
        "\n",
        "\tassert torch.is_tensor(indices) == True, 'Expect indicies to be a pytorch tensor'\n",
        "\n",
        "\tassert torch.is_tensor(gathered) == True, 'Expect gathered to be a pytorch tensor'\n",
        "\tgsize = list(gathered.size())\n",
        "\n",
        "\tassert type(ksize) in [list, tuple], 'Expect `ksize` to be list or tuple'\n",
        "\tassert type(kstride) in [list, tuple], 'Expect `kstride` to be list or tuple'\n",
        "\tassert len(kstride) == 2 and len(ksize) == 2, 'Expect length of kstride and ksize to be 2'\n",
        "\n",
        "\tcount_index = 0\n",
        "\tfor B, h0, w0 in indices:\n",
        "\t\tif add:\n",
        "\t\t\tinput[B, :, h0*kstride[0]:h0*kstride[0]+gsize[2], w0*kstride[1]: w0*kstride[1]+gsize[3]] += gathered[count_index]\n",
        "\t\telse:\n",
        "\t\t\tinput[B, :, h0*kstride[0]:h0*kstride[0]+gsize[2], w0*kstride[1]: w0*kstride[1]+gsize[3]] = gathered[count_index]\n",
        "\t\tcount_index += 1"
      ],
      "execution_count": 0,
      "outputs": []
    },
    {
      "metadata": {
        "id": "1CefJdko04HE",
        "colab_type": "code",
        "colab": {
          "autoexec": {
            "startup": false,
            "wait_interval": 0
          }
        }
      },
      "cell_type": "code",
      "source": [
        "#I wrapped the functions gather and scatter in  nn.Module class to allow easier flow of gradients\n",
        "class gather2dc(nn.Module):\n",
        "\tdef __init__(self, ksize, kstride):\n",
        "\t\tsuper(gather2dc, self).__init__()\n",
        "\t\tself.ksize = ksize\n",
        "\t\tself.kstride = kstride\n",
        "\n",
        "\tdef forward(self, input, indices):\n",
        "\t\tgathered = input[indices[0][0]:indices[0][0]+1, :, indices[0][1]*self.kstride[0]:indices[0][1]*self.kstride[0]+self.ksize[0], indices[0][2]*self.kstride[1]: indices[0][2]*self.kstride[1]+self.ksize[1]]\n",
        "\t\tfor B, h0, w0 in indices[1:]:\n",
        "\t\t\tgathered = torch.cat((gathered, input[B:B+1, :, h0*self.kstride[0]:h0*self.kstride[0]+self.ksize[0], w0*self.kstride[1]: w0*self.kstride[1]+self.ksize[1]]), 0)\n",
        "\t\treturn gathered\n",
        "\n",
        "\n",
        "class scatter2dc(nn.Module):\n",
        "\tdef __init__(self, kstride):\n",
        "\t\tsuper(scatter2dc, self).__init__()\n",
        "\t\tself.kstride = kstride\n",
        "\n",
        "\tdef forward(self, input, gathered, indices):\n",
        "\t\tgsize = list(gathered.size())\n",
        "\t\t#back = torch.zeros_like(input)\n",
        "\t\tcount_index = 0\n",
        "\t\tfor B, h0, w0 in indices:\n",
        "\t\t\t\tinput[B, :, h0*self.kstride[0]:h0*self.kstride[0]+gsize[2], w0*self.kstride[1]: w0*self.kstride[1]+gsize[3]] = gathered[count_index]\n",
        "\t\t\t\tcount_index +=1\n",
        "\t\t#return torch.cat((input, back), 1)\n",
        "\t\treturn input"
      ],
      "execution_count": 0,
      "outputs": []
    },
    {
      "metadata": {
        "id": "JA1bA6Nw07Cz",
        "colab_type": "code",
        "colab": {
          "autoexec": {
            "startup": false,
            "wait_interval": 0
          }
        }
      },
      "cell_type": "code",
      "source": [
        "class sparse_block(nn.Module):\n",
        "\tdef __init__(self, inp_ch, out_ch, ksize, kstride, block_layers = None, thresh = 0.2):\n",
        "\t\tsuper(sparse_block, self).__init__()\n",
        "\n",
        "\t\tassert type(block_layers) in [type(None), torch.nn.modules.container.Sequential], 'Expect block_layers as None or torch.nn.Sequential() object' \n",
        "\t\tassert type(ksize) in [list, tuple], 'Expect `ksize` to be list or tuple'\n",
        "\t\tassert type(kstride) in [list, tuple], 'Expect `kstride` to be list or tuple'\n",
        "\t\tassert len(kstride) == 2 and len(ksize) == 2, 'Expect length of kstride and ksize to be 2'\n",
        "\t\tassert type(inp_ch) in [int, float], 'inp_ch should be int or float'\n",
        "\t\tassert type(out_ch) in [int, float], 'out_ch should be int or float'\n",
        "\t\tself.ksize = ksize\n",
        "\t\tself.kstride = kstride\n",
        "\t\tself.thresh = thresh\n",
        "\t\tself.g = gather2dc(ksize, kstride)\n",
        "\t\tself.c = scatter2dc(kstride)\n",
        "\t\tself.channel_control =  nn.Sequential(\n",
        "\t\t\tnn.Conv2d(inp_ch, out_ch, 1, padding = 0),\n",
        "\t\t\tnn.ReLU(),\n",
        "            nn.BatchNorm2d(out_ch)).to(device)\n",
        "\n",
        "\t\tif block_layers == None:\n",
        "\t\t\tself.operation = nn.Sequential(\n",
        "\t\t\t\tnn.Conv2d(out_ch, 2*out_ch, 1, padding = 0),\n",
        "\t\t\t\tnn.ReLU(),\n",
        "\t\t\t\tnn.BatchNorm2d(2*out_ch),\n",
        "\t\t\t\tnn.Conv2d(2*out_ch, 2*out_ch, 3, padding = 1),\n",
        "\t\t\t\tnn.ReLU(),\n",
        "\t\t\t\tnn.BatchNorm2d(2*out_ch), #can be made as deep as required!\n",
        "\t\t\t\tnn.Conv2d(2*out_ch, out_ch, 1, padding = 0),\n",
        "\t\t\t\tnn.ReLU(),\n",
        "\t\t\t\tnn.BatchNorm2d(out_ch)\n",
        "\t\t\t\t).to(device)\n",
        "\t\telse:\n",
        "\t\t\tself.operation = block_layers.to(device)\n",
        "\n",
        "\tdef forward(self, x, mask):\n",
        "\t\tx = self.channel_control(x)\n",
        "\t\tmask = pad_input(mask, self.ksize, self.kstride)\n",
        "\t\tmask.require_grad = False\n",
        "\t\tx = pad_input(x, self.ksize, self.kstride)\n",
        "\t\tx.require_grad = True\n",
        "\n",
        "\t\tindices = reduce_mask_pool2d(mask, self.ksize, self.kstride, self.thresh, avg= True)\n",
        "\t\tgathered = self.g(x, indices)\n",
        "\t\tgathered = self.operation(gathered)\n",
        "\t\tx = self.c(x, gathered, indices)\n",
        "\t\treturn x"
      ],
      "execution_count": 0,
      "outputs": []
    },
    {
      "metadata": {
        "id": "s7FzWm-S0CIM",
        "colab_type": "code",
        "colab": {
          "autoexec": {
            "startup": false,
            "wait_interval": 0
          }
        }
      },
      "cell_type": "code",
      "source": [
        "class net(nn.Module):\n",
        "    def __init__(self, inp_ch, num_classes):\n",
        "        super(net, self).__init__()\n",
        "        self.sparse1 = sparse_block(inp_ch, 16, [5,5], [4,4], thresh = 0.20)\n",
        "        self.mp1 = nn.MaxPool2d(2)\n",
        "        self.sparse2 = sparse_block(16, 32, [5,5], [4,4], thresh = 0.20)\n",
        "        self.mp2 = nn.MaxPool2d(2)\n",
        "        self.fc = nn.Sequential(\n",
        "            nn.Linear(100352, 100),\n",
        "            nn.ReLU(),\n",
        "            nn.Linear(100, num_classes-1),\n",
        "            nn.Softmax(dim=1)\n",
        "            #nn.Sigmoid()\n",
        "            )\n",
        "\n",
        "    def forward(self, x, mask1):\n",
        "        x = self.sparse1(x, mask1)\n",
        "        x = self.mp1(x)\n",
        "        mask2 = mask_pool2d(mask1)\n",
        "        x = self.sparse2(x, mask2)\n",
        "        x = self.mp2(x)\n",
        "        #print(x.size()) \n",
        "        x = x.view(batch_size, -1)\n",
        "        x = self.fc(x)\n",
        "        return x"
      ],
      "execution_count": 0,
      "outputs": []
    },
    {
      "metadata": {
        "id": "Hxk9s2eJ0CKt",
        "colab_type": "code",
        "colab": {
          "autoexec": {
            "startup": false,
            "wait_interval": 0
          }
        }
      },
      "cell_type": "code",
      "source": [
        "model = net(img_channel, num_classes).to(device)\n",
        "criterion = nn.BCELoss()\n",
        "optimizer = optim.Adam(model.parameters(), lr = 0.01)\n"
      ],
      "execution_count": 0,
      "outputs": []
    },
    {
      "metadata": {
        "id": "coQPKW_P0CPA",
        "colab_type": "code",
        "colab": {
          "autoexec": {
            "startup": false,
            "wait_interval": 0
          },
          "base_uri": "https://localhost:8080/",
          "height": 135
        },
        "outputId": "12eb0417-3dda-4bb0-c7b1-7dee3ab11a77",
        "executionInfo": {
          "status": "ok",
          "timestamp": 1529852534362,
          "user_tz": -330,
          "elapsed": 203203,
          "user": {
            "displayName": "Sharwon Pius",
            "photoUrl": "//lh5.googleusercontent.com/-lJsK5I6t9hs/AAAAAAAAAAI/AAAAAAAAAPw/L65Rjsg1dXA/s50-c-k-no/photo.jpg",
            "userId": "109026520467702366446"
          }
        }
      },
      "cell_type": "code",
      "source": [
        "#train\n",
        "num_epochs = 1\n",
        "for epoch in range(1, num_epochs+1):\n",
        "    epoch_loss = 0\n",
        "    print(\"\\nEpoch = \", epoch)\n",
        "    z = 0\n",
        "    for i in range(len(x_train)//batch_size): # len(X_train) is 40 and batch size is 4\n",
        "        x = x_train[z:z+batch_size, :, :, :]\n",
        "        y = y_train[z:z+batch_size]\n",
        "        mask_new = Mask[z:z+batch_size, :, :]\n",
        "        z += batch_size\n",
        "        Label = labels[z:z+batch_size]\n",
        "\n",
        "        #Forward pass\n",
        "        output = model(x, mask_new)\n",
        "        loss = criterion(output, y)\n",
        "        \n",
        "        #Backward pass\n",
        "        optimizer.zero_grad()\n",
        "        loss.backward()\n",
        "        optimizer.step()\n",
        "        epoch_loss += loss.item()\n",
        "        #print(epoch_loss)\n",
        "        if (z%10 == 0) :\n",
        "          _, predicted = torch.max(output.data, 1)\n",
        "          #print(predicted)\n",
        "          total = batch_size\n",
        "          correct = (predicted == Label).sum().item()\n",
        "          if(i == 4):\n",
        "            print('\\rStep [{}/{}], Loss: {:.4f} , acc = {:.2f}%'.format(i, len(x_train)//batch_size, loss.data[0], correct*100/total), end = ' ')\n",
        "          #print('\\rStep [{}/{}], Loss: {:.4f}'.format(i, 10, epoch_loss/i), end = ' ')\n",
        "\n",
        "    #break\n",
        "#break\n",
        "                "
      ],
      "execution_count": 86,
      "outputs": [
        {
          "output_type": "stream",
          "text": [
            "\n",
            "Epoch =  1\n"
          ],
          "name": "stdout"
        },
        {
          "output_type": "stream",
          "text": [
            "/usr/local/lib/python3.6/dist-packages/torch/nn/functional.py:1474: UserWarning: Using a target size (torch.Size([16])) that is different to the input size (torch.Size([16, 1])) is deprecated. Please ensure they have the same size.\n",
            "  \"Please ensure they have the same size.\".format(target.size(), input.size()))\n",
            "/usr/local/lib/python3.6/dist-packages/ipykernel_launcher.py:29: UserWarning: invalid index of a 0-dim tensor. This will be an error in PyTorch 0.5. Use tensor.item() to convert a 0-dim tensor to a Python number\n"
          ],
          "name": "stderr"
        },
        {
          "output_type": "stream",
          "text": [
            "\rStep [4/11], Loss: 27.6310 , acc = 62.50% "
          ],
          "name": "stdout"
        }
      ]
    },
    {
      "metadata": {
        "id": "bZCe_Dd7YScY",
        "colab_type": "code",
        "colab": {
          "autoexec": {
            "startup": false,
            "wait_interval": 0
          }
        }
      },
      "cell_type": "code",
      "source": [
        "img=x_train[0:2,:,:,:]\n",
        "mask=Mask[0:2,:,:]"
      ],
      "execution_count": 0,
      "outputs": []
    },
    {
      "metadata": {
        "id": "02tsK7RjONkm",
        "colab_type": "code",
        "colab": {
          "autoexec": {
            "startup": false,
            "wait_interval": 0
          },
          "base_uri": "https://localhost:8080/",
          "height": 50
        },
        "outputId": "922bb98f-464a-46aa-afbb-d64e6f145ffc",
        "executionInfo": {
          "status": "ok",
          "timestamp": 1529853979352,
          "user_tz": -330,
          "elapsed": 1577,
          "user": {
            "displayName": "Sharwon Pius",
            "photoUrl": "//lh5.googleusercontent.com/-lJsK5I6t9hs/AAAAAAAAAAI/AAAAAAAAAPw/L65Rjsg1dXA/s50-c-k-no/photo.jpg",
            "userId": "109026520467702366446"
          }
        }
      },
      "cell_type": "code",
      "source": [
        "%%time\n",
        "\n",
        "predictions= model(img,mask)"
      ],
      "execution_count": 101,
      "outputs": [
        {
          "output_type": "stream",
          "text": [
            "CPU times: user 534 ms, sys: 225 ms, total: 759 ms\n",
            "Wall time: 763 ms\n"
          ],
          "name": "stdout"
        }
      ]
    }
  ]
}
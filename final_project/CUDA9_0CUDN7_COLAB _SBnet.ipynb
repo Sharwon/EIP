{
  "nbformat": 4,
  "nbformat_minor": 0,
  "metadata": {
    "colab": {
      "name": "CUDA9.0CUDN7.1COLAB.ipynb",
      "version": "0.3.2",
      "views": {},
      "default_view": {},
      "provenance": []
    },
    "kernelspec": {
      "name": "python3",
      "display_name": "Python 3"
    },
    "accelerator": "GPU"
  },
  "cells": [
    {
      "metadata": {
        "id": "Z6e081ya7hpD",
        "colab_type": "code",
        "colab": {
          "autoexec": {
            "startup": false,
            "wait_interval": 0
          },
          "base_uri": "https://localhost:8080/",
          "height": 321
        },
        "outputId": "c5c1014d-5f52-4a77-8368-94880126ae7e",
        "executionInfo": {
          "status": "ok",
          "timestamp": 1529044631602,
          "user_tz": -330,
          "elapsed": 10950,
          "user": {
            "displayName": "Sharwon Pius",
            "photoUrl": "https://lh3.googleusercontent.com/a/default-user=s128",
            "userId": "109026520467702366446"
          }
        }
      },
      "cell_type": "code",
      "source": [
        "!wget https://developer.nvidia.com/compute/cuda/9.0/Prod/local_installers/cuda-repo-ubuntu1604-9-0-local_9.0.176-1_amd64-deb"
      ],
      "execution_count": 1,
      "outputs": [
        {
          "output_type": "stream",
          "text": [
            "--2018-06-15 06:37:02--  https://developer.nvidia.com/compute/cuda/9.0/Prod/local_installers/cuda-repo-ubuntu1604-9-0-local_9.0.176-1_amd64-deb\n",
            "Resolving developer.nvidia.com (developer.nvidia.com)... 192.229.162.216\n",
            "Connecting to developer.nvidia.com (developer.nvidia.com)|192.229.162.216|:443... connected.\n",
            "HTTP request sent, awaiting response... 302 Found\n",
            "Location: https://developer.download.nvidia.com/compute/cuda/9.0/secure/Prod/local_installers/cuda-repo-ubuntu1604-9-0-local_9.0.176-1_amd64.deb?q28-Y7ZrqY-m2esJ4VPiSZ_ZjiCjQSHGln2rRXA5Ag8f30ittCNf67MrTUOTVqPge59YjjcwwX7qKbgTBm5fnn-5gJicDt9KAiQiN_3OTic6QzgPDKzfvH3qfN6o-V9yjbHXoSqGsjL3a2O0dKgSCd4z9tsu9lXx2bmnfbvuPGj1lApbQJOQO3QGJy-mJIKLMcmsjAjhP87OJ_4Xps75 [following]\n",
            "--2018-06-15 06:37:03--  https://developer.download.nvidia.com/compute/cuda/9.0/secure/Prod/local_installers/cuda-repo-ubuntu1604-9-0-local_9.0.176-1_amd64.deb?q28-Y7ZrqY-m2esJ4VPiSZ_ZjiCjQSHGln2rRXA5Ag8f30ittCNf67MrTUOTVqPge59YjjcwwX7qKbgTBm5fnn-5gJicDt9KAiQiN_3OTic6QzgPDKzfvH3qfN6o-V9yjbHXoSqGsjL3a2O0dKgSCd4z9tsu9lXx2bmnfbvuPGj1lApbQJOQO3QGJy-mJIKLMcmsjAjhP87OJ_4Xps75\n",
            "Resolving developer.download.nvidia.com (developer.download.nvidia.com)... 192.229.211.70, 2606:2800:21f:3aa:dcf:37b:1ed6:1fb\n",
            "Connecting to developer.download.nvidia.com (developer.download.nvidia.com)|192.229.211.70|:443... connected.\n",
            "HTTP request sent, awaiting response... 200 OK\n",
            "Length: 1212738714 (1.1G) [application/x-deb]\n",
            "Saving to: ‘cuda-repo-ubuntu1604-9-0-local_9.0.176-1_amd64-deb’\n",
            "\n",
            "cuda-repo-ubuntu160 100%[===================>]   1.13G   137MB/s    in 7.7s    \n",
            "\n",
            "2018-06-15 06:37:10 (150 MB/s) - ‘cuda-repo-ubuntu1604-9-0-local_9.0.176-1_amd64-deb’ saved [1212738714/1212738714]\n",
            "\n"
          ],
          "name": "stdout"
        }
      ]
    },
    {
      "metadata": {
        "id": "MMfP4lib7j7t",
        "colab_type": "code",
        "colab": {
          "autoexec": {
            "startup": false,
            "wait_interval": 0
          },
          "base_uri": "https://localhost:8080/",
          "height": 194
        },
        "outputId": "94caa087-fa44-4f28-e2c6-c42eedb55357",
        "executionInfo": {
          "status": "ok",
          "timestamp": 1529044792278,
          "user_tz": -330,
          "elapsed": 157509,
          "user": {
            "displayName": "Sharwon Pius",
            "photoUrl": "https://lh3.googleusercontent.com/a/default-user=s128",
            "userId": "109026520467702366446"
          }
        }
      },
      "cell_type": "code",
      "source": [
        "!dpkg -i cuda-repo-ubuntu1604-9-0-local_9.0.176-1_amd64-deb"
      ],
      "execution_count": 2,
      "outputs": [
        {
          "output_type": "stream",
          "text": [
            "Selecting previously unselected package cuda-repo-ubuntu1604-9-0-local.\n",
            "(Reading database ... 18298 files and directories currently installed.)\n",
            "Preparing to unpack cuda-repo-ubuntu1604-9-0-local_9.0.176-1_amd64-deb ...\n",
            "Unpacking cuda-repo-ubuntu1604-9-0-local (9.0.176-1) ...\n",
            "Setting up cuda-repo-ubuntu1604-9-0-local (9.0.176-1) ...\n",
            "\n",
            "The public CUDA GPG key does not appear to be installed.\n",
            "To install the key, run this command:\n",
            "sudo apt-key add /var/cuda-repo-9-0-local/7fa2af80.pub\n",
            "\n"
          ],
          "name": "stdout"
        }
      ]
    },
    {
      "metadata": {
        "id": "uaOm1Jwwhj4X",
        "colab_type": "code",
        "colab": {
          "autoexec": {
            "startup": false,
            "wait_interval": 0
          },
          "base_uri": "https://localhost:8080/",
          "height": 34
        },
        "outputId": "b0a751cc-2fe1-44a1-c7f5-51e6de110c62",
        "executionInfo": {
          "status": "ok",
          "timestamp": 1529044794370,
          "user_tz": -330,
          "elapsed": 2012,
          "user": {
            "displayName": "Sharwon Pius",
            "photoUrl": "https://lh3.googleusercontent.com/a/default-user=s128",
            "userId": "109026520467702366446"
          }
        }
      },
      "cell_type": "code",
      "source": [
        "ls"
      ],
      "execution_count": 3,
      "outputs": [
        {
          "output_type": "stream",
          "text": [
            "cuda-repo-ubuntu1604-9-0-local_9.0.176-1_amd64-deb  \u001b[0m\u001b[01;34mdatalab\u001b[0m/\r\n"
          ],
          "name": "stdout"
        }
      ]
    },
    {
      "metadata": {
        "id": "MdNyw8_A7sBz",
        "colab_type": "code",
        "colab": {
          "autoexec": {
            "startup": false,
            "wait_interval": 0
          },
          "base_uri": "https://localhost:8080/",
          "height": 34
        },
        "outputId": "ad2ff371-cfb0-4b1c-d212-5b3b68f8234a",
        "executionInfo": {
          "status": "ok",
          "timestamp": 1529044797906,
          "user_tz": -330,
          "elapsed": 3479,
          "user": {
            "displayName": "Sharwon Pius",
            "photoUrl": "https://lh3.googleusercontent.com/a/default-user=s128",
            "userId": "109026520467702366446"
          }
        }
      },
      "cell_type": "code",
      "source": [
        "!apt-key add /var/cuda-repo-9-0-local/7fa2af80.pub"
      ],
      "execution_count": 4,
      "outputs": [
        {
          "output_type": "stream",
          "text": [
            "OK\r\n"
          ],
          "name": "stdout"
        }
      ]
    },
    {
      "metadata": {
        "id": "__ECs9nqkyEl",
        "colab_type": "code",
        "colab": {
          "autoexec": {
            "startup": false,
            "wait_interval": 0
          }
        }
      },
      "cell_type": "code",
      "source": [
        ""
      ],
      "execution_count": 0,
      "outputs": []
    },
    {
      "metadata": {
        "id": "3S8moM_Z71Kl",
        "colab_type": "code",
        "colab": {
          "autoexec": {
            "startup": false,
            "wait_interval": 0
          },
          "base_uri": "https://localhost:8080/",
          "height": 478
        },
        "outputId": "5a66abf7-20c3-42ad-fb2a-f030542345f3",
        "executionInfo": {
          "status": "ok",
          "timestamp": 1529044803299,
          "user_tz": -330,
          "elapsed": 4331,
          "user": {
            "displayName": "Sharwon Pius",
            "photoUrl": "https://lh3.googleusercontent.com/a/default-user=s128",
            "userId": "109026520467702366446"
          }
        }
      },
      "cell_type": "code",
      "source": [
        "!apt update"
      ],
      "execution_count": 5,
      "outputs": [
        {
          "output_type": "stream",
          "text": [
            "\u001b[33m\r0% [Working]\u001b[0m\r            \rGet:1 file:/var/cuda-repo-9-0-local  InRelease\r\n",
            "\u001b[33m\r0% [Connecting to archive.ubuntu.com] [Connecting to security.ubuntu.com] [1 In\u001b[0m\r                                                                               \rIgn:1 file:/var/cuda-repo-9-0-local  InRelease\r\n",
            "Get:2 file:/var/cuda-repo-9-0-local  Release [574 B]\n",
            "Get:2 file:/var/cuda-repo-9-0-local  Release [574 B]\n",
            "Get:3 file:/var/cuda-repo-9-0-local  Release.gpg [819 B]\n",
            "Get:3 file:/var/cuda-repo-9-0-local  Release.gpg [819 B]\n",
            "Get:4 http://security.ubuntu.com/ubuntu artful-security InRelease [83.2 kB]\n",
            "Hit:5 http://archive.ubuntu.com/ubuntu artful InRelease\n",
            "Get:6 file:/var/cuda-repo-9-0-local  Packages [15.4 kB]\n",
            "Get:7 http://archive.ubuntu.com/ubuntu artful-updates InRelease [88.7 kB]\n",
            "Get:8 http://archive.ubuntu.com/ubuntu artful-backports InRelease [74.6 kB]\n",
            "Get:9 http://security.ubuntu.com/ubuntu artful-security/universe Sources [21.0 kB]\n",
            "Get:10 http://security.ubuntu.com/ubuntu artful-security/main amd64 Packages [235 kB]\n",
            "Get:11 http://archive.ubuntu.com/ubuntu artful-updates/universe Sources [44.3 kB]\n",
            "Get:12 http://security.ubuntu.com/ubuntu artful-security/restricted amd64 Packages [2,933 B]\n",
            "Get:13 http://security.ubuntu.com/ubuntu artful-security/universe amd64 Packages [84.1 kB]\n",
            "Get:14 http://archive.ubuntu.com/ubuntu artful-updates/restricted amd64 Packages [2,933 B]\n",
            "Get:15 http://archive.ubuntu.com/ubuntu artful-updates/universe amd64 Packages [148 kB]\n",
            "Get:16 http://security.ubuntu.com/ubuntu artful-security/multiverse amd64 Packages [1,815 B]\n",
            "Get:17 http://archive.ubuntu.com/ubuntu artful-updates/main amd64 Packages [362 kB]\n",
            "Get:18 http://archive.ubuntu.com/ubuntu artful-updates/multiverse amd64 Packages [4,369 B]\n",
            "Fetched 1,153 kB in 1s (843 kB/s)\n",
            "Reading package lists... Done\n",
            "Building dependency tree       \n",
            "Reading state information... Done\n",
            "23 packages can be upgraded. Run 'apt list --upgradable' to see them.\n"
          ],
          "name": "stdout"
        }
      ]
    },
    {
      "metadata": {
        "id": "vYkVYiNy71U6",
        "colab_type": "code",
        "colab": {
          "autoexec": {
            "startup": false,
            "wait_interval": 0
          }
        }
      },
      "cell_type": "code",
      "source": [
        "!apt install cuda-9-0 -y"
      ],
      "execution_count": 0,
      "outputs": []
    },
    {
      "metadata": {
        "id": "hhQzYcqi8XzK",
        "colab_type": "code",
        "colab": {
          "autoexec": {
            "startup": false,
            "wait_interval": 0
          },
          "base_uri": "https://localhost:8080/",
          "height": 1156
        },
        "outputId": "33442cfd-c720-4fa0-f516-5edaf05acd0e",
        "executionInfo": {
          "status": "ok",
          "timestamp": 1529045372584,
          "user_tz": -330,
          "elapsed": 14188,
          "user": {
            "displayName": "Sharwon Pius",
            "photoUrl": "https://lh3.googleusercontent.com/a/default-user=s128",
            "userId": "109026520467702366446"
          }
        }
      },
      "cell_type": "code",
      "source": [
        "!apt install gcc-5 g++-5 -y"
      ],
      "execution_count": 7,
      "outputs": [
        {
          "output_type": "stream",
          "text": [
            "Reading package lists... Done\n",
            "Building dependency tree       \n",
            "Reading state information... Done\n",
            "The following additional packages will be installed:\n",
            "  cpp-5 gcc-5-base libasan2 libgcc-5-dev libmpx0 libstdc++-5-dev\n",
            "Suggested packages:\n",
            "  gcc-5-locales g++-5-multilib gcc-5-doc libstdc++6-5-dbg gcc-5-multilib\n",
            "  libgcc1-dbg libgomp1-dbg libitm1-dbg libatomic1-dbg libasan2-dbg\n",
            "  liblsan0-dbg libtsan0-dbg libubsan0-dbg libcilkrts5-dbg libmpx0-dbg\n",
            "  libquadmath0-dbg libstdc++-5-doc\n",
            "The following NEW packages will be installed:\n",
            "  cpp-5 g++-5 gcc-5 gcc-5-base libasan2 libgcc-5-dev libmpx0 libstdc++-5-dev\n",
            "0 upgraded, 8 newly installed, 0 to remove and 21 not upgraded.\n",
            "Need to get 28.6 MB of archives.\n",
            "After this operation, 98.8 MB of additional disk space will be used.\n",
            "Get:1 http://archive.ubuntu.com/ubuntu artful-updates/main amd64 gcc-5-base amd64 5.5.0-1ubuntu2 [17.2 kB]\n",
            "Get:2 http://archive.ubuntu.com/ubuntu artful-updates/main amd64 cpp-5 amd64 5.5.0-1ubuntu2 [7,798 kB]\n",
            "Get:3 http://archive.ubuntu.com/ubuntu artful-updates/main amd64 libasan2 amd64 5.5.0-1ubuntu2 [265 kB]\n",
            "Get:4 http://archive.ubuntu.com/ubuntu artful-updates/main amd64 libmpx0 amd64 5.5.0-1ubuntu2 [9,820 B]\n",
            "Get:5 http://archive.ubuntu.com/ubuntu artful-updates/main amd64 libgcc-5-dev amd64 5.5.0-1ubuntu2 [2,225 kB]\n",
            "Get:6 http://archive.ubuntu.com/ubuntu artful-updates/main amd64 gcc-5 amd64 5.5.0-1ubuntu2 [8,364 kB]\n",
            "Get:7 http://archive.ubuntu.com/ubuntu artful-updates/main amd64 libstdc++-5-dev amd64 5.5.0-1ubuntu2 [1,435 kB]\n",
            "Get:8 http://archive.ubuntu.com/ubuntu artful-updates/universe amd64 g++-5 amd64 5.5.0-1ubuntu2 [8,462 kB]\n",
            "Fetched 28.6 MB in 2s (10.4 MB/s)\n",
            "\n",
            "\u001b7\u001b[0;23r\u001b8\u001b[1ASelecting previously unselected package gcc-5-base:amd64.\n",
            "(Reading database ... 85804 files and directories currently installed.)\n",
            "Preparing to unpack .../0-gcc-5-base_5.5.0-1ubuntu2_amd64.deb ...\n",
            "\u001b7\u001b[24;0f\u001b[42m\u001b[30mProgress: [  0%]\u001b[49m\u001b[39m [..........................................................] \u001b8\u001b7\u001b[24;0f\u001b[42m\u001b[30mProgress: [  2%]\u001b[49m\u001b[39m [#.........................................................] \u001b8Unpacking gcc-5-base:amd64 (5.5.0-1ubuntu2) ...\n",
            "\u001b7\u001b[24;0f\u001b[42m\u001b[30mProgress: [  4%]\u001b[49m\u001b[39m [##........................................................] \u001b8\u001b7\u001b[24;0f\u001b[42m\u001b[30mProgress: [  7%]\u001b[49m\u001b[39m [####......................................................] \u001b8Selecting previously unselected package cpp-5.\n",
            "Preparing to unpack .../1-cpp-5_5.5.0-1ubuntu2_amd64.deb ...\n",
            "\u001b7\u001b[24;0f\u001b[42m\u001b[30mProgress: [  9%]\u001b[49m\u001b[39m [#####.....................................................] \u001b8Unpacking cpp-5 (5.5.0-1ubuntu2) ...\n",
            "\u001b7\u001b[24;0f\u001b[42m\u001b[30mProgress: [ 12%]\u001b[49m\u001b[39m [#######...................................................] \u001b8\u001b7\u001b[24;0f\u001b[42m\u001b[30mProgress: [ 14%]\u001b[49m\u001b[39m [########..................................................] \u001b8Selecting previously unselected package libasan2:amd64.\n",
            "Preparing to unpack .../2-libasan2_5.5.0-1ubuntu2_amd64.deb ...\n",
            "\u001b7\u001b[24;0f\u001b[42m\u001b[30mProgress: [ 17%]\u001b[49m\u001b[39m [#########.................................................] \u001b8Unpacking libasan2:amd64 (5.5.0-1ubuntu2) ...\n",
            "\u001b7\u001b[24;0f\u001b[42m\u001b[30mProgress: [ 19%]\u001b[49m\u001b[39m [###########...............................................] \u001b8\u001b7\u001b[24;0f\u001b[42m\u001b[30mProgress: [ 21%]\u001b[49m\u001b[39m [############..............................................] \u001b8Selecting previously unselected package libmpx0:amd64.\n",
            "Preparing to unpack .../3-libmpx0_5.5.0-1ubuntu2_amd64.deb ...\n",
            "\u001b7\u001b[24;0f\u001b[42m\u001b[30mProgress: [ 24%]\u001b[49m\u001b[39m [##############............................................] \u001b8Unpacking libmpx0:amd64 (5.5.0-1ubuntu2) ...\n",
            "\u001b7\u001b[24;0f\u001b[42m\u001b[30mProgress: [ 26%]\u001b[49m\u001b[39m [###############...........................................] \u001b8\u001b7\u001b[24;0f\u001b[42m\u001b[30mProgress: [ 29%]\u001b[49m\u001b[39m [################..........................................] \u001b8Selecting previously unselected package libgcc-5-dev:amd64.\n",
            "Preparing to unpack .../4-libgcc-5-dev_5.5.0-1ubuntu2_amd64.deb ...\n",
            "\u001b7\u001b[24;0f\u001b[42m\u001b[30mProgress: [ 31%]\u001b[49m\u001b[39m [##################........................................] \u001b8Unpacking libgcc-5-dev:amd64 (5.5.0-1ubuntu2) ...\n",
            "\u001b7\u001b[24;0f\u001b[42m\u001b[30mProgress: [ 34%]\u001b[49m\u001b[39m [###################.......................................] \u001b8\u001b7\u001b[24;0f\u001b[42m\u001b[30mProgress: [ 36%]\u001b[49m\u001b[39m [#####################.....................................] \u001b8Selecting previously unselected package gcc-5.\n",
            "Preparing to unpack .../5-gcc-5_5.5.0-1ubuntu2_amd64.deb ...\n",
            "\u001b7\u001b[24;0f\u001b[42m\u001b[30mProgress: [ 39%]\u001b[49m\u001b[39m [######################....................................] \u001b8Unpacking gcc-5 (5.5.0-1ubuntu2) ...\n",
            "\u001b7\u001b[24;0f\u001b[42m\u001b[30mProgress: [ 41%]\u001b[49m\u001b[39m [########################..................................] \u001b8\u001b7\u001b[24;0f\u001b[42m\u001b[30mProgress: [ 43%]\u001b[49m\u001b[39m [#########################.................................] \u001b8Selecting previously unselected package libstdc++-5-dev:amd64.\n",
            "Preparing to unpack .../6-libstdc++-5-dev_5.5.0-1ubuntu2_amd64.deb ...\n",
            "\u001b7\u001b[24;0f\u001b[42m\u001b[30mProgress: [ 46%]\u001b[49m\u001b[39m [##########################................................] \u001b8Unpacking libstdc++-5-dev:amd64 (5.5.0-1ubuntu2) ...\n",
            "\u001b7\u001b[24;0f\u001b[42m\u001b[30mProgress: [ 48%]\u001b[49m\u001b[39m [############################..............................] \u001b8\u001b7\u001b[24;0f\u001b[42m\u001b[30mProgress: [ 51%]\u001b[49m\u001b[39m [#############################.............................] \u001b8Selecting previously unselected package g++-5.\n",
            "Preparing to unpack .../7-g++-5_5.5.0-1ubuntu2_amd64.deb ...\n",
            "\u001b7\u001b[24;0f\u001b[42m\u001b[30mProgress: [ 53%]\u001b[49m\u001b[39m [###############################...........................] \u001b8Unpacking g++-5 (5.5.0-1ubuntu2) ...\n",
            "\u001b7\u001b[24;0f\u001b[42m\u001b[30mProgress: [ 56%]\u001b[49m\u001b[39m [################################..........................] \u001b8\u001b7\u001b[24;0f\u001b[42m\u001b[30mProgress: [ 58%]\u001b[49m\u001b[39m [#################################.........................] \u001b8Processing triggers for libc-bin (2.26-0ubuntu2.1) ...\n",
            "Processing triggers for man-db (2.7.6.1-2) ...\n",
            "Setting up gcc-5-base:amd64 (5.5.0-1ubuntu2) ...\n",
            "\u001b7\u001b[24;0f\u001b[42m\u001b[30mProgress: [ 60%]\u001b[49m\u001b[39m [###################################.......................] \u001b8\u001b7\u001b[24;0f\u001b[42m\u001b[30mProgress: [ 63%]\u001b[49m\u001b[39m [####################################......................] \u001b8Setting up libmpx0:amd64 (5.5.0-1ubuntu2) ...\n"
          ],
          "name": "stdout"
        },
        {
          "output_type": "stream",
          "text": [
            "\u001b7\u001b[24;0f\u001b[42m\u001b[30mProgress: [ 65%]\u001b[49m\u001b[39m [######################################....................] \u001b8\u001b7\u001b[24;0f\u001b[42m\u001b[30mProgress: [ 68%]\u001b[49m\u001b[39m [#######################################...................] \u001b8Setting up libasan2:amd64 (5.5.0-1ubuntu2) ...\r\n",
            "\u001b7\u001b[24;0f\u001b[42m\u001b[30mProgress: [ 70%]\u001b[49m\u001b[39m [#########################################.................] \u001b8\u001b7\u001b[24;0f\u001b[42m\u001b[30mProgress: [ 73%]\u001b[49m\u001b[39m [##########################################................] \u001b8Setting up libgcc-5-dev:amd64 (5.5.0-1ubuntu2) ...\n",
            "\u001b7\u001b[24;0f\u001b[42m\u001b[30mProgress: [ 75%]\u001b[49m\u001b[39m [###########################################...............] \u001b8\u001b7\u001b[24;0f\u001b[42m\u001b[30mProgress: [ 78%]\u001b[49m\u001b[39m [#############################################.............] \u001b8Setting up cpp-5 (5.5.0-1ubuntu2) ...\n",
            "\u001b7\u001b[24;0f\u001b[42m\u001b[30mProgress: [ 80%]\u001b[49m\u001b[39m [##############################################............] \u001b8\u001b7\u001b[24;0f\u001b[42m\u001b[30mProgress: [ 82%]\u001b[49m\u001b[39m [################################################..........] \u001b8Setting up libstdc++-5-dev:amd64 (5.5.0-1ubuntu2) ...\n",
            "\u001b7\u001b[24;0f\u001b[42m\u001b[30mProgress: [ 85%]\u001b[49m\u001b[39m [#################################################.........] \u001b8\u001b7\u001b[24;0f\u001b[42m\u001b[30mProgress: [ 87%]\u001b[49m\u001b[39m [##################################################........] \u001b8Setting up gcc-5 (5.5.0-1ubuntu2) ...\n",
            "\u001b7\u001b[24;0f\u001b[42m\u001b[30mProgress: [ 90%]\u001b[49m\u001b[39m [####################################################......] \u001b8\u001b7\u001b[24;0f\u001b[42m\u001b[30mProgress: [ 92%]\u001b[49m\u001b[39m [#####################################################.....] \u001b8Setting up g++-5 (5.5.0-1ubuntu2) ...\n",
            "\u001b7\u001b[24;0f\u001b[42m\u001b[30mProgress: [ 95%]\u001b[49m\u001b[39m [#######################################################...] \u001b8\u001b7\u001b[24;0f\u001b[42m\u001b[30mProgress: [ 97%]\u001b[49m\u001b[39m [########################################################..] \u001b8Processing triggers for libc-bin (2.26-0ubuntu2.1) ...\n",
            "\n",
            "\u001b7\u001b[0;24r\u001b8\u001b[1A\u001b[J"
          ],
          "name": "stdout"
        }
      ]
    },
    {
      "metadata": {
        "id": "a92Q4Mpz8Yp9",
        "colab_type": "code",
        "colab": {
          "autoexec": {
            "startup": false,
            "wait_interval": 0
          }
        }
      },
      "cell_type": "code",
      "source": [
        "!ln -s /usr/bin/gcc-5 /usr/local/cuda/bin/gcc \n",
        "!ln -s /usr/bin/g++-5 /usr/local/cuda/bin/g++"
      ],
      "execution_count": 0,
      "outputs": []
    },
    {
      "metadata": {
        "id": "kZ608OhE8oXs",
        "colab_type": "code",
        "colab": {
          "autoexec": {
            "startup": false,
            "wait_interval": 0
          }
        }
      },
      "cell_type": "code",
      "source": [
        "import os\n",
        "os.environ['PATH'] += ':/usr/local/cuda/bin'"
      ],
      "execution_count": 0,
      "outputs": []
    },
    {
      "metadata": {
        "id": "0LXPRwfTh17C",
        "colab_type": "code",
        "colab": {
          "autoexec": {
            "startup": false,
            "wait_interval": 0
          },
          "base_uri": "https://localhost:8080/",
          "height": 303
        },
        "outputId": "7d62fdc3-7c9d-4e09-9e4b-065ead60b50d",
        "executionInfo": {
          "status": "ok",
          "timestamp": 1529045378898,
          "user_tz": -330,
          "elapsed": 2030,
          "user": {
            "displayName": "Sharwon Pius",
            "photoUrl": "https://lh3.googleusercontent.com/a/default-user=s128",
            "userId": "109026520467702366446"
          }
        }
      },
      "cell_type": "code",
      "source": [
        "!wget --header=\"Host: developer.download.nvidia.com\" --header=\"User-Agent: Mozilla/5.0 (Macintosh; Intel Mac OS X 10_11_6) AppleWebKit/537.36 (KHTML, like Gecko) Chrome/66.0.3359.181 Safari/537.36\" --header=\"Accept: text/html,application/xhtml+xml,application/xml;q=0.9,image/webp,image/apng,*/*;q=0.8\" --header=\"Accept-Language: en-IN,en-GB;q=0.9,en-US;q=0.8,en;q=0.7\" --header=\"Cookie: _ga=GA1.2.1401751046.1525272249; AMCVS_F207D74D549850760A4C98C6%40AdobeOrg=1; s_cc=true; visid_incap_23871=rzROp2csQrykNG/uQGuYDcrCIFsAAAAAQUIPAAAAAAD3vD5JVr7DfvZlQXR71yPx; _gid=GA1.2.1043170196.1528875879; nv.nvidmNoissesPersist94211547528691713=eyJ1c2VyVG9rZW4iOiJCU3AtaVY0RmV3UldfU2w2dkx5NkNxcWcwdkdhMWtEVC5NakF4T1Rjek9URTRNRGczTlRFeU9UYzUifQ==; mbox=session#2c1abd9cfece436daeddccbcd982761b#1528878051|PC#2c1abd9cfece436daeddccbcd982761b.22_23#1530085791|check#true#1528876251; tp=691; __unam=4d8c667-163f8c33fcc-611a8141-1; incap_ses_627_23871=arIgRnEgcxbGtN6F3o2zCNAVIVsAAAAAQIdU0nu7y82H0U19v0k/Dg==; incap_ses_571_23871=juKmbjBshj4sliUaRJrsB/b4IVsAAAAAG0vaLNyT7h4Kb3+OjgIMqQ==; AMCV_F207D74D549850760A4C98C6%40AdobeOrg=-330454231%7CMCIDTS%7C17696%7CMCMID%7C83615305426075729301806308579390872333%7CMCAAMLH-1529575166%7C3%7CMCAAMB-1529575166%7CRKhpRz8krg2tLO6pguXWp5olkAcUniQYPHaMWWgdJ3xzPWQmdj0y%7CMCOPTOUT-1528977566s%7CNONE%7CMCAID%7CNONE%7CMCSYNCSOP%7C411-17703%7CvVersion%7C3.1.2; _semaJ2rWcw=TWGBHc; gpv_p45=nv%3Adeveloper%3Anvidia%3Ardp%3Acudnn-download; s_ppvl=nv%253Adeveloper%253Anvidia%253Ardp%253Acudnn-download%2C100%2C109%2C678%2C1333%2C678%2C1440%2C900%2C1%2CP; s_ppv=nv%253Adeveloper%253Anvidia%253Ardp%253Acudnn-download%2C100%2C100%2C1215%2C1333%2C678%2C1440%2C900%2C1%2CP; s_getNewRepeat=1528970457789-Repeat; s_sq=%5B%5BB%5D%5D\" --header=\"Connection: keep-alive\" \"https://developer.download.nvidia.com/compute/machine-learning/cudnn/secure/v7.1.4/prod/9.0_20180516/cudnn-9.0-linux-x64-v7.1.tgz?NP3ehcyumhbpiwE073hnaAa9RZTL__aZ1ZcaNoLZb8cxwvkYZ0a8znO7gP31uoZNoI3IdoBhKbnrt0TBp3U74jYqksYwVQF_SrkcwMSDaeZENU5ecfGKr6SBvw1ity79yvGkqWFOxBgancm4tbfh67_U7Y2VgsO8PBAOgAGgBoySJ88tt2KD7LlMWXSUvbJYFNZhcgoe0uYzXQ\" -O \"cudnn-9.0-linux-x64-v7.1.tgz\" -c"
      ],
      "execution_count": 10,
      "outputs": [
        {
          "output_type": "stream",
          "text": [
            "--2018-06-15 06:49:38--  https://developer.download.nvidia.com/compute/machine-learning/cudnn/secure/v7.1.4/prod/9.0_20180516/cudnn-9.0-linux-x64-v7.1.tgz?NP3ehcyumhbpiwE073hnaAa9RZTL__aZ1ZcaNoLZb8cxwvkYZ0a8znO7gP31uoZNoI3IdoBhKbnrt0TBp3U74jYqksYwVQF_SrkcwMSDaeZENU5ecfGKr6SBvw1ity79yvGkqWFOxBgancm4tbfh67_U7Y2VgsO8PBAOgAGgBoySJ88tt2KD7LlMWXSUvbJYFNZhcgoe0uYzXQ\n",
            "Resolving developer.download.nvidia.com (developer.download.nvidia.com)... 192.229.211.70, 2606:2800:21f:3aa:dcf:37b:1ed6:1fb\n",
            "Connecting to developer.download.nvidia.com (developer.download.nvidia.com)|192.229.211.70|:443... connected.\n",
            "HTTP request sent, awaiting response... 301 Moved Permanently\n",
            "Location: http://developer.download.nvidia.com/403.html [following]\n",
            "--2018-06-15 06:49:38--  http://developer.download.nvidia.com/403.html\n",
            "Connecting to developer.download.nvidia.com (developer.download.nvidia.com)|192.229.211.70|:80... connected.\n",
            "HTTP request sent, awaiting response... 200 OK\n",
            "Length: 252 [text/html]\n",
            "Saving to: ‘cudnn-9.0-linux-x64-v7.1.tgz’\n",
            "\n",
            "cudnn-9.0-linux-x64 100%[===================>]     252  --.-KB/s    in 0s      \n",
            "\n",
            "2018-06-15 06:49:38 (27.6 MB/s) - ‘cudnn-9.0-linux-x64-v7.1.tgz’ saved [252/252]\n",
            "\n"
          ],
          "name": "stdout"
        }
      ]
    },
    {
      "metadata": {
        "id": "LTwYguaGGuJc",
        "colab_type": "code",
        "colab": {
          "autoexec": {
            "startup": false,
            "wait_interval": 0
          },
          "base_uri": "https://localhost:8080/",
          "height": 87
        },
        "outputId": "7dd3e174-0e28-4fb2-963f-ad45a7f7b7e6",
        "executionInfo": {
          "status": "ok",
          "timestamp": 1529045380895,
          "user_tz": -330,
          "elapsed": 1943,
          "user": {
            "displayName": "Sharwon Pius",
            "photoUrl": "https://lh3.googleusercontent.com/a/default-user=s128",
            "userId": "109026520467702366446"
          }
        }
      },
      "cell_type": "code",
      "source": [
        "!tar -xzvf cudnn-9.0-linux-x64-v7.1.tgz"
      ],
      "execution_count": 11,
      "outputs": [
        {
          "output_type": "stream",
          "text": [
            "\r\n",
            "gzip: stdin: not in gzip format\r\n",
            "tar: Child returned status 1\r\n",
            "tar: Error is not recoverable: exiting now\r\n"
          ],
          "name": "stdout"
        }
      ]
    },
    {
      "metadata": {
        "id": "Fxg8nCN7rSdN",
        "colab_type": "code",
        "colab": {
          "autoexec": {
            "startup": false,
            "wait_interval": 0
          },
          "base_uri": "https://localhost:8080/",
          "height": 70
        },
        "outputId": "a179f55c-a08d-4c15-981f-39f31f34928f",
        "executionInfo": {
          "status": "ok",
          "timestamp": 1529045385293,
          "user_tz": -330,
          "elapsed": 4379,
          "user": {
            "displayName": "Sharwon Pius",
            "photoUrl": "https://lh3.googleusercontent.com/a/default-user=s128",
            "userId": "109026520467702366446"
          }
        }
      },
      "cell_type": "code",
      "source": [
        "!cp cuda/include/cudnn.h /usr/local/cuda/include\n",
        "!cp cuda/lib64/libcudnn* /usr/local/cuda/lib64\n",
        "!chmod a+r /usr/local/cuda/include/cudnn.h"
      ],
      "execution_count": 12,
      "outputs": [
        {
          "output_type": "stream",
          "text": [
            "cp: cannot stat 'cuda/include/cudnn.h': No such file or directory\n",
            "cp: cannot stat 'cuda/lib64/libcudnn*': No such file or directory\n",
            "chmod: cannot access '/usr/local/cuda/include/cudnn.h': No such file or directory\n"
          ],
          "name": "stdout"
        }
      ]
    },
    {
      "metadata": {
        "id": "BPKGPOW8xZQr",
        "colab_type": "code",
        "colab": {
          "autoexec": {
            "startup": false,
            "wait_interval": 0
          },
          "base_uri": "https://localhost:8080/",
          "height": 303
        },
        "outputId": "2eac9d50-00c0-4e0c-ffcd-8bfb7106b2ee",
        "executionInfo": {
          "status": "ok",
          "timestamp": 1529045387396,
          "user_tz": -330,
          "elapsed": 2068,
          "user": {
            "displayName": "Sharwon Pius",
            "photoUrl": "https://lh3.googleusercontent.com/a/default-user=s128",
            "userId": "109026520467702366446"
          }
        }
      },
      "cell_type": "code",
      "source": [
        "!wget --header=\"Host: developer.download.nvidia.com\" --header=\"User-Agent: Mozilla/5.0 (Macintosh; Intel Mac OS X 10_11_6) AppleWebKit/537.36 (KHTML, like Gecko) Chrome/66.0.3359.181 Safari/537.36\" --header=\"Accept: text/html,application/xhtml+xml,application/xml;q=0.9,image/webp,image/apng,*/*;q=0.8\" --header=\"Accept-Language: en-IN,en-GB;q=0.9,en-US;q=0.8,en;q=0.7\" --header=\"Cookie: _ga=GA1.2.1401751046.1525272249; AMCVS_F207D74D549850760A4C98C6%40AdobeOrg=1; s_cc=true; visid_incap_23871=rzROp2csQrykNG/uQGuYDcrCIFsAAAAAQUIPAAAAAAD3vD5JVr7DfvZlQXR71yPx; _gid=GA1.2.1043170196.1528875879; nv.nvidmNoissesPersist94211547528691713=eyJ1c2VyVG9rZW4iOiJCU3AtaVY0RmV3UldfU2w2dkx5NkNxcWcwdkdhMWtEVC5NakF4T1Rjek9URTRNRGczTlRFeU9UYzUifQ==; mbox=session#2c1abd9cfece436daeddccbcd982761b#1528878051|PC#2c1abd9cfece436daeddccbcd982761b.22_23#1530085791|check#true#1528876251; tp=691; __unam=4d8c667-163f8c33fcc-611a8141-1; incap_ses_627_23871=arIgRnEgcxbGtN6F3o2zCNAVIVsAAAAAQIdU0nu7y82H0U19v0k/Dg==; incap_ses_571_23871=juKmbjBshj4sliUaRJrsB/b4IVsAAAAAG0vaLNyT7h4Kb3+OjgIMqQ==; AMCV_F207D74D549850760A4C98C6%40AdobeOrg=-330454231%7CMCIDTS%7C17696%7CMCMID%7C83615305426075729301806308579390872333%7CMCAAMLH-1529575166%7C3%7CMCAAMB-1529575166%7CRKhpRz8krg2tLO6pguXWp5olkAcUniQYPHaMWWgdJ3xzPWQmdj0y%7CMCOPTOUT-1528977566s%7CNONE%7CMCAID%7CNONE%7CMCSYNCSOP%7C411-17703%7CvVersion%7C3.1.2; _semaJ2rWcw=TWGBHc; gpv_p45=nv%3Adeveloper%3Anvidia%3Anccl%3Anccl-download; s_ppvl=nv%253Adeveloper%253Anvidia%253Anccl%253Anccl-download%2C86%2C86%2C678%2C1333%2C678%2C1440%2C900%2C1%2CP; s_ppv=nv%253Adeveloper%253Anvidia%253Anccl%253Anccl-download%2C86%2C86%2C1027%2C1333%2C678%2C1440%2C900%2C1%2CP; s_getNewRepeat=1528970855220-Repeat; s_sq=%5B%5BB%5D%5D\" --header=\"Connection: keep-alive\" \"https://developer.download.nvidia.com/compute/machine-learning/nccl/secure/v2.2/prod/nccl-repo-ubuntu1604-2.2.13-ga-cuda9.0_1-1_amd64.deb?kvTmfJtyAc3nVYegXKDnzz5OQUcDp4mnylcCyRPC3ZeYGM3NI0ah5Vmz4Mpn_S9bm6YFYSMXRI1Zi5pGijTH13qNHtA6ETgZpl9pBlAkafkjmEWb3aFGvHgWVEUsAPZqu2wKXf_LwFhabEU82vX82Eu652fdtFHm5rKRHIpZAH8i4fsou5WPXH4NYIkTMWXAOED72IN1lCzYCvTpwQtJM-51\" -O \"nccl-repo-ubuntu1604-2.2.13-ga-cuda9.0_1-1_amd64.deb\" -c"
      ],
      "execution_count": 13,
      "outputs": [
        {
          "output_type": "stream",
          "text": [
            "--2018-06-15 06:49:46--  https://developer.download.nvidia.com/compute/machine-learning/nccl/secure/v2.2/prod/nccl-repo-ubuntu1604-2.2.13-ga-cuda9.0_1-1_amd64.deb?kvTmfJtyAc3nVYegXKDnzz5OQUcDp4mnylcCyRPC3ZeYGM3NI0ah5Vmz4Mpn_S9bm6YFYSMXRI1Zi5pGijTH13qNHtA6ETgZpl9pBlAkafkjmEWb3aFGvHgWVEUsAPZqu2wKXf_LwFhabEU82vX82Eu652fdtFHm5rKRHIpZAH8i4fsou5WPXH4NYIkTMWXAOED72IN1lCzYCvTpwQtJM-51\r\n",
            "Resolving developer.download.nvidia.com (developer.download.nvidia.com)... 192.229.211.70, 2606:2800:21f:3aa:dcf:37b:1ed6:1fb\r\n",
            "Connecting to developer.download.nvidia.com (developer.download.nvidia.com)|192.229.211.70|:443... connected.\n",
            "HTTP request sent, awaiting response... 301 Moved Permanently\n",
            "Location: http://developer.download.nvidia.com/403.html [following]\n",
            "--2018-06-15 06:49:46--  http://developer.download.nvidia.com/403.html\n",
            "Connecting to developer.download.nvidia.com (developer.download.nvidia.com)|192.229.211.70|:80... connected.\n",
            "HTTP request sent, awaiting response... 200 OK\n",
            "Length: 252 [text/html]\n",
            "Saving to: ‘nccl-repo-ubuntu1604-2.2.13-ga-cuda9.0_1-1_amd64.deb’\n",
            "\n",
            "nccl-repo-ubuntu160 100%[===================>]     252  --.-KB/s    in 0s      \n",
            "\n",
            "2018-06-15 06:49:46 (35.1 MB/s) - ‘nccl-repo-ubuntu1604-2.2.13-ga-cuda9.0_1-1_amd64.deb’ saved [252/252]\n",
            "\n"
          ],
          "name": "stdout"
        }
      ]
    },
    {
      "metadata": {
        "id": "bqr4dEbRHE3A",
        "colab_type": "code",
        "colab": {
          "autoexec": {
            "startup": false,
            "wait_interval": 0
          },
          "base_uri": "https://localhost:8080/",
          "height": 105
        },
        "outputId": "239bcd21-bf1f-4bd7-d954-202161fafa68",
        "executionInfo": {
          "status": "ok",
          "timestamp": 1529045389424,
          "user_tz": -330,
          "elapsed": 1974,
          "user": {
            "displayName": "Sharwon Pius",
            "photoUrl": "https://lh3.googleusercontent.com/a/default-user=s128",
            "userId": "109026520467702366446"
          }
        }
      },
      "cell_type": "code",
      "source": [
        "!dpkg -i nccl-repo-ubuntu1604-2.2.13-ga-cuda9.0_1-1_amd64.deb"
      ],
      "execution_count": 14,
      "outputs": [
        {
          "output_type": "stream",
          "text": [
            "\u001b[1mdpkg-deb:\u001b[0m \u001b[1;31merror:\u001b[0m 'nccl-repo-ubuntu1604-2.2.13-ga-cuda9.0_1-1_amd64.deb' is not a debian format archive\r\n",
            "\u001b[1mdpkg:\u001b[0m error processing archive nccl-repo-ubuntu1604-2.2.13-ga-cuda9.0_1-1_amd64.deb (--install):\r\n",
            " subprocess dpkg-deb --control returned error exit status 2\n",
            "Errors were encountered while processing:\n",
            " nccl-repo-ubuntu1604-2.2.13-ga-cuda9.0_1-1_amd64.deb\n"
          ],
          "name": "stdout"
        }
      ]
    },
    {
      "metadata": {
        "id": "MFSHF5yHHE66",
        "colab_type": "code",
        "colab": {
          "autoexec": {
            "startup": false,
            "wait_interval": 0
          },
          "base_uri": "https://localhost:8080/",
          "height": 230
        },
        "outputId": "e13616ff-f8d6-4a68-ede0-3f303ad903c4",
        "executionInfo": {
          "status": "ok",
          "timestamp": 1529045393235,
          "user_tz": -330,
          "elapsed": 3780,
          "user": {
            "displayName": "Sharwon Pius",
            "photoUrl": "https://lh3.googleusercontent.com/a/default-user=s128",
            "userId": "109026520467702366446"
          }
        }
      },
      "cell_type": "code",
      "source": [
        "!sudo apt update"
      ],
      "execution_count": 15,
      "outputs": [
        {
          "output_type": "stream",
          "text": [
            "\u001b[33m\r0% [Working]\u001b[0m\r            \rGet:1 file:/var/cuda-repo-9-0-local  InRelease\r\n",
            "\r            \rIgn:1 file:/var/cuda-repo-9-0-local  InRelease\r\n",
            "Get:2 file:/var/cuda-repo-9-0-local  Release [574 B]\n",
            "Get:2 file:/var/cuda-repo-9-0-local  Release [574 B]\n",
            "Hit:3 http://security.ubuntu.com/ubuntu artful-security InRelease\n",
            "Hit:5 http://archive.ubuntu.com/ubuntu artful InRelease\n",
            "Hit:6 http://archive.ubuntu.com/ubuntu artful-updates InRelease\n",
            "Hit:7 http://archive.ubuntu.com/ubuntu artful-backports InRelease\n",
            "Reading package lists... Done\n",
            "Building dependency tree       \n",
            "Reading state information... Done\n",
            "21 packages can be upgraded. Run 'apt list --upgradable' to see them.\n"
          ],
          "name": "stdout"
        }
      ]
    },
    {
      "metadata": {
        "id": "Mc-94YG4HE9P",
        "colab_type": "code",
        "colab": {
          "autoexec": {
            "startup": false,
            "wait_interval": 0
          },
          "base_uri": "https://localhost:8080/",
          "height": 105
        },
        "outputId": "9246b22d-eeb7-4579-d4a5-5916f73b0855",
        "executionInfo": {
          "status": "ok",
          "timestamp": 1529045396482,
          "user_tz": -330,
          "elapsed": 3221,
          "user": {
            "displayName": "Sharwon Pius",
            "photoUrl": "https://lh3.googleusercontent.com/a/default-user=s128",
            "userId": "109026520467702366446"
          }
        }
      },
      "cell_type": "code",
      "source": [
        "!sudo apt-get install libnccl2=2.2.13-1+cuda9.0 libnccl-dev=2.2.13-1+cuda9.0"
      ],
      "execution_count": 16,
      "outputs": [
        {
          "output_type": "stream",
          "text": [
            "Reading package lists... Done\n",
            "Building dependency tree       \n",
            "Reading state information... Done\n",
            "E: Unable to locate package libnccl2\n",
            "E: Unable to locate package libnccl-dev\n"
          ],
          "name": "stdout"
        }
      ]
    },
    {
      "metadata": {
        "id": "ugE-nfTZHFAA",
        "colab_type": "code",
        "colab": {
          "autoexec": {
            "startup": false,
            "wait_interval": 0
          },
          "base_uri": "https://localhost:8080/",
          "height": 285
        },
        "outputId": "87117cf0-47af-4f05-a89d-b88f6e19a49d",
        "executionInfo": {
          "status": "ok",
          "timestamp": 1529045908288,
          "user_tz": -330,
          "elapsed": 511782,
          "user": {
            "displayName": "Sharwon Pius",
            "photoUrl": "https://lh3.googleusercontent.com/a/default-user=s128",
            "userId": "109026520467702366446"
          }
        }
      },
      "cell_type": "code",
      "source": [
        "!pip install cupy"
      ],
      "execution_count": 17,
      "outputs": [
        {
          "output_type": "stream",
          "text": [
            "Collecting cupy\n",
            "\u001b[?25l  Downloading https://files.pythonhosted.org/packages/8f/89/bba5b25c8139f483dd3e3bdafb95e84b6cb1f9babbcdd230c7231c395171/cupy-4.1.0.tar.gz (2.0MB)\n",
            "\u001b[K    100% |████████████████████████████████| 2.0MB 7.0MB/s \n",
            "\u001b[?25hRequirement already satisfied: numpy>=1.9.0 in /usr/local/lib/python3.6/dist-packages (from cupy) (1.14.3)\n",
            "Requirement already satisfied: six>=1.9.0 in /usr/local/lib/python3.6/dist-packages (from cupy) (1.11.0)\n",
            "Collecting fastrlock>=0.3 (from cupy)\n",
            "\u001b[?25l  Downloading https://files.pythonhosted.org/packages/fa/24/767ce4fe23af5a4b3dd229c0e3153a26c0a58331f8f89af324c761663c9c/fastrlock-0.3-cp36-cp36m-manylinux1_x86_64.whl (77kB)\n",
            "\u001b[K    100% |████████████████████████████████| 81kB 13.3MB/s \n",
            "\u001b[?25hBuilding wheels for collected packages: cupy\n",
            "  Running setup.py bdist_wheel for cupy ... \u001b[?25l-\b \b\\\b \b|\b \b/\b \b-\b \b\\\b \b|\b \b/\b \b-\b \b\\\b \b|\b \b/\b \b-\b \b\\\b \b|\b \b/\b \b-\b \b\\\b \b|\b \b/\b \b-\b \b\\\b \b|\b \b/\b \b-\b \b\\\b \b|\b \b/\b \b-\b \b\\\b \b|\b \b/\b \b-\b \b\\\b \b|\b \b/\b \b-\b \b\\\b \b|\b \b/\b \b-\b \b\\\b \b|\b \b/\b \bdone\n",
            "\u001b[?25h  Stored in directory: /content/.cache/pip/wheels/b2/6d/03/4864117caeebbd6483b1e521dc2467419351221d93ef8eb000\n",
            "Successfully built cupy\n",
            "Installing collected packages: fastrlock, cupy\n",
            "Successfully installed cupy-4.1.0 fastrlock-0.3\n"
          ],
          "name": "stdout"
        }
      ]
    },
    {
      "metadata": {
        "id": "SyPVXqTTHFEU",
        "colab_type": "code",
        "colab": {
          "autoexec": {
            "startup": false,
            "wait_interval": 0
          },
          "base_uri": "https://localhost:8080/",
          "height": 123
        },
        "outputId": "55870cfe-72dc-43b7-8712-865827d559c4",
        "executionInfo": {
          "status": "ok",
          "timestamp": 1529045910765,
          "user_tz": -330,
          "elapsed": 2434,
          "user": {
            "displayName": "Sharwon Pius",
            "photoUrl": "https://lh3.googleusercontent.com/a/default-user=s128",
            "userId": "109026520467702366446"
          }
        }
      },
      "cell_type": "code",
      "source": [
        "!git clone https://github.com/uber/sbnet.git"
      ],
      "execution_count": 18,
      "outputs": [
        {
          "output_type": "stream",
          "text": [
            "Cloning into 'sbnet'...\n",
            "remote: Counting objects: 292, done.\u001b[K\n",
            "remote: Compressing objects: 100% (42/42), done.\u001b[K\n",
            "remote: Total 292 (delta 33), reused 56 (delta 24), pack-reused 226\u001b[K\n",
            "Receiving objects: 100% (292/292), 145.65 KiB | 4.41 MiB/s, done.\n",
            "Resolving deltas: 100% (169/169), done.\n"
          ],
          "name": "stdout"
        }
      ]
    },
    {
      "metadata": {
        "id": "wKRmIaR_zaY-",
        "colab_type": "code",
        "colab": {
          "autoexec": {
            "startup": false,
            "wait_interval": 0
          },
          "base_uri": "https://localhost:8080/",
          "height": 34
        },
        "outputId": "eb9721e0-c8ca-421f-bcfc-23a56502cdd1",
        "executionInfo": {
          "status": "ok",
          "timestamp": 1529045911701,
          "user_tz": -330,
          "elapsed": 898,
          "user": {
            "displayName": "Sharwon Pius",
            "photoUrl": "https://lh3.googleusercontent.com/a/default-user=s128",
            "userId": "109026520467702366446"
          }
        }
      },
      "cell_type": "code",
      "source": [
        "cd sbnet/sbnet_tensorflow/sbnet_ops/"
      ],
      "execution_count": 19,
      "outputs": [
        {
          "output_type": "stream",
          "text": [
            "/content/sbnet/sbnet_tensorflow/sbnet_ops\n"
          ],
          "name": "stdout"
        }
      ]
    },
    {
      "metadata": {
        "id": "QW4GHI751PNy",
        "colab_type": "code",
        "colab": {
          "autoexec": {
            "startup": false,
            "wait_interval": 0
          }
        }
      },
      "cell_type": "code",
      "source": [
        "rm Makefile"
      ],
      "execution_count": 0,
      "outputs": []
    },
    {
      "metadata": {
        "id": "8RibChs-1QHb",
        "colab_type": "code",
        "colab": {
          "autoexec": {
            "startup": false,
            "wait_interval": 0
          },
          "resources": {
            "http://localhost:8080/nbextensions/google.colab/files.js": {
              "data": "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",
              "ok": true,
              "headers": [
                [
                  "content-type",
                  "application/javascript"
                ]
              ],
              "status": 200,
              "status_text": ""
            }
          },
          "base_uri": "https://localhost:8080/",
          "height": 73
        },
        "outputId": "5d03362f-f7fa-4839-b682-eb6cad03d74c",
        "executionInfo": {
          "status": "ok",
          "timestamp": 1529046655130,
          "user_tz": -330,
          "elapsed": 9308,
          "user": {
            "displayName": "Sharwon Pius",
            "photoUrl": "https://lh3.googleusercontent.com/a/default-user=s128",
            "userId": "109026520467702366446"
          }
        }
      },
      "cell_type": "code",
      "source": [
        "\n",
        "from google.colab import files\n",
        "\n",
        "uploaded = files.upload()"
      ],
      "execution_count": 22,
      "outputs": [
        {
          "output_type": "display_data",
          "data": {
            "text/html": [
              "\n",
              "     <input type=\"file\" id=\"files-5ce4b34c-9ad4-4d46-a000-2a507cf6aaf2\" name=\"files[]\" multiple disabled />\n",
              "     <output id=\"result-5ce4b34c-9ad4-4d46-a000-2a507cf6aaf2\">\n",
              "      Upload widget is only available when the cell has been executed in the\n",
              "      current browser session. Please rerun this cell to enable.\n",
              "      </output>\n",
              "      <script src=\"/nbextensions/google.colab/files.js\"></script> "
            ],
            "text/plain": [
              "<IPython.core.display.HTML object>"
            ]
          },
          "metadata": {
            "tags": []
          }
        },
        {
          "output_type": "stream",
          "text": [
            "Saving Makefile to Makefile\n"
          ],
          "name": "stdout"
        }
      ]
    },
    {
      "metadata": {
        "id": "IVoyrrSYSDvS",
        "colab_type": "code",
        "colab": {
          "autoexec": {
            "startup": false,
            "wait_interval": 0
          },
          "base_uri": "https://localhost:8080/",
          "height": 87
        },
        "outputId": "497e536d-9f37-477d-90bb-c8667b52f533",
        "executionInfo": {
          "status": "ok",
          "timestamp": 1529046661683,
          "user_tz": -330,
          "elapsed": 1899,
          "user": {
            "displayName": "Sharwon Pius",
            "photoUrl": "https://lh3.googleusercontent.com/a/default-user=s128",
            "userId": "109026520467702366446"
          }
        }
      },
      "cell_type": "code",
      "source": [
        "ls"
      ],
      "execution_count": 23,
      "outputs": [
        {
          "output_type": "stream",
          "text": [
            "cuda_helpers.h  reduce_mask.cu    sparse_blocks.cu.h  \u001b[0m\u001b[01;34mtests\u001b[0m/\r\n",
            "Makefile        reduce_mask.cu.h  sparse_gather.cc    zero_block_counters.cu.h\r\n",
            "op_utils.h      reduce_mask.h     sparse_gather.cu\r\n",
            "reduce_mask.cc  \u001b[01;34msample\u001b[0m/           sparse_gather.h\r\n"
          ],
          "name": "stdout"
        }
      ]
    },
    {
      "metadata": {
        "id": "YHrI5s3XSHJm",
        "colab_type": "code",
        "colab": {
          "autoexec": {
            "startup": false,
            "wait_interval": 0
          },
          "base_uri": "https://localhost:8080/",
          "height": 4196
        },
        "outputId": "ff3c483b-2ab4-4507-9450-02c13231fb38",
        "executionInfo": {
          "status": "ok",
          "timestamp": 1529046687457,
          "user_tz": -330,
          "elapsed": 15164,
          "user": {
            "displayName": "Sharwon Pius",
            "photoUrl": "https://lh3.googleusercontent.com/a/default-user=s128",
            "userId": "109026520467702366446"
          }
        }
      },
      "cell_type": "code",
      "source": [
        "!make"
      ],
      "execution_count": 24,
      "outputs": [
        {
          "output_type": "stream",
          "text": [
            "/usr/local/lib/python3.6/dist-packages/h5py/__init__.py:36: FutureWarning: Conversion of the second argument of issubdtype from `float` to `np.floating` is deprecated. In future, it will be treated as `np.float64 == np.dtype(float).type`.\r\n",
            "  from ._conv import register_converters as _register_converters\n",
            "mkdir -p build\n",
            "nvcc -O3 -use_fast_math -std=c++11 -gencode arch=compute_61,code=sm_61 -gencode arch=compute_70,code=sm_70 -gencode arch=compute_60,code=sm_60 -gencode arch=compute_52,code=sm_52 -gencode arch=compute_37,code=sm_37 -I /usr/local/lib/python3.6/dist-packages/tensorflow/include -I /usr/local/cuda/include -I /usr/local  -D GOOGLE_CUDA=1 -x cu -w -Xcompiler -fPIC --expt-relaxed-constexpr   -c reduce_mask.cu -o build/reduce_mask.cu.o\n",
            "/usr/lib/gcc/x86_64-linux-gnu/5/include/avx512fintrin.h(9220): error: argument of type \"const void *\" is incompatible with parameter of type \"const float *\"\n",
            "\n",
            "/usr/lib/gcc/x86_64-linux-gnu/5/include/avx512fintrin.h(9231): error: argument of type \"const void *\" is incompatible with parameter of type \"const float *\"\n",
            "\n",
            "/usr/lib/gcc/x86_64-linux-gnu/5/include/avx512fintrin.h(9244): error: argument of type \"const void *\" is incompatible with parameter of type \"const double *\"\n",
            "\n",
            "/usr/lib/gcc/x86_64-linux-gnu/5/include/avx512fintrin.h(9255): error: argument of type \"const void *\" is incompatible with parameter of type \"const double *\"\n",
            "\n",
            "/usr/lib/gcc/x86_64-linux-gnu/5/include/avx512fintrin.h(9268): error: argument of type \"const void *\" is incompatible with parameter of type \"const float *\"\n",
            "\n",
            "/usr/lib/gcc/x86_64-linux-gnu/5/include/avx512fintrin.h(9279): error: argument of type \"const void *\" is incompatible with parameter of type \"const float *\"\n",
            "\n",
            "/usr/lib/gcc/x86_64-linux-gnu/5/include/avx512fintrin.h(9292): error: argument of type \"const void *\" is incompatible with parameter of type \"const double *\"\n",
            "\n",
            "/usr/lib/gcc/x86_64-linux-gnu/5/include/avx512fintrin.h(9303): error: argument of type \"const void *\" is incompatible with parameter of type \"const double *\"\n",
            "\n",
            "/usr/lib/gcc/x86_64-linux-gnu/5/include/avx512fintrin.h(9316): error: argument of type \"const void *\" is incompatible with parameter of type \"const int *\"\n",
            "\n",
            "/usr/lib/gcc/x86_64-linux-gnu/5/include/avx512fintrin.h(9327): error: argument of type \"const void *\" is incompatible with parameter of type \"const int *\"\n",
            "\n",
            "/usr/lib/gcc/x86_64-linux-gnu/5/include/avx512fintrin.h(9340): error: argument of type \"const void *\" is incompatible with parameter of type \"const long long *\"\n",
            "\n",
            "/usr/lib/gcc/x86_64-linux-gnu/5/include/avx512fintrin.h(9352): error: argument of type \"const void *\" is incompatible with parameter of type \"const long long *\"\n",
            "\n",
            "/usr/lib/gcc/x86_64-linux-gnu/5/include/avx512fintrin.h(9365): error: argument of type \"const void *\" is incompatible with parameter of type \"const int *\"\n",
            "\n",
            "/usr/lib/gcc/x86_64-linux-gnu/5/include/avx512fintrin.h(9376): error: argument of type \"const void *\" is incompatible with parameter of type \"const int *\"\n",
            "\n",
            "/usr/lib/gcc/x86_64-linux-gnu/5/include/avx512fintrin.h(9389): error: argument of type \"const void *\" is incompatible with parameter of type \"const long long *\"\n",
            "\n",
            "/usr/lib/gcc/x86_64-linux-gnu/5/include/avx512fintrin.h(9401): error: argument of type \"const void *\" is incompatible with parameter of type \"const long long *\"\n",
            "\n",
            "/usr/lib/gcc/x86_64-linux-gnu/5/include/avx512fintrin.h(9410): error: argument of type \"void *\" is incompatible with parameter of type \"float *\"\n",
            "\n",
            "/usr/lib/gcc/x86_64-linux-gnu/5/include/avx512fintrin.h(9419): error: argument of type \"void *\" is incompatible with parameter of type \"float *\"\n",
            "\n",
            "/usr/lib/gcc/x86_64-linux-gnu/5/include/avx512fintrin.h(9428): error: argument of type \"void *\" is incompatible with parameter of type \"double *\"\n",
            "\n",
            "/usr/lib/gcc/x86_64-linux-gnu/5/include/avx512fintrin.h(9437): error: argument of type \"void *\" is incompatible with parameter of type \"double *\"\n",
            "\n",
            "/usr/lib/gcc/x86_64-linux-gnu/5/include/avx512fintrin.h(9445): error: argument of type \"void *\" is incompatible with parameter of type \"float *\"\n",
            "\n",
            "/usr/lib/gcc/x86_64-linux-gnu/5/include/avx512fintrin.h(9454): error: argument of type \"void *\" is incompatible with parameter of type \"float *\"\n",
            "\n",
            "/usr/lib/gcc/x86_64-linux-gnu/5/include/avx512fintrin.h(9463): error: argument of type \"void *\" is incompatible with parameter of type \"double *\"\n",
            "\n",
            "/usr/lib/gcc/x86_64-linux-gnu/5/include/avx512fintrin.h(9472): error: argument of type \"void *\" is incompatible with parameter of type \"double *\"\n",
            "\n",
            "/usr/lib/gcc/x86_64-linux-gnu/5/include/avx512fintrin.h(9481): error: argument of type \"void *\" is incompatible with parameter of type \"int *\"\n",
            "\n",
            "/usr/lib/gcc/x86_64-linux-gnu/5/include/avx512fintrin.h(9490): error: argument of type \"void *\" is incompatible with parameter of type \"int *\"\n",
            "\n",
            "/usr/lib/gcc/x86_64-linux-gnu/5/include/avx512fintrin.h(9499): error: argument of type \"void *\" is incompatible with parameter of type \"long long *\"\n",
            "\n",
            "/usr/lib/gcc/x86_64-linux-gnu/5/include/avx512fintrin.h(9508): error: argument of type \"void *\" is incompatible with parameter of type \"long long *\"\n",
            "\n",
            "/usr/lib/gcc/x86_64-linux-gnu/5/include/avx512fintrin.h(9517): error: argument of type \"void *\" is incompatible with parameter of type \"int *\"\n",
            "\n",
            "/usr/lib/gcc/x86_64-linux-gnu/5/include/avx512fintrin.h(9526): error: argument of type \"void *\" is incompatible with parameter of type \"int *\"\n",
            "\n",
            "/usr/lib/gcc/x86_64-linux-gnu/5/include/avx512fintrin.h(9535): error: argument of type \"void *\" is incompatible with parameter of type \"long long *\"\n",
            "\n",
            "/usr/lib/gcc/x86_64-linux-gnu/5/include/avx512fintrin.h(9544): error: argument of type \"void *\" is incompatible with parameter of type \"long long *\"\n",
            "\n",
            "/usr/lib/gcc/x86_64-linux-gnu/5/include/avx512pfintrin.h(55): error: argument of type \"const void *\" is incompatible with parameter of type \"const long long *\"\n",
            "\n",
            "/usr/lib/gcc/x86_64-linux-gnu/5/include/avx512pfintrin.h(63): error: argument of type \"const void *\" is incompatible with parameter of type \"const int *\"\n",
            "\n",
            "/usr/lib/gcc/x86_64-linux-gnu/5/include/avx512pfintrin.h(73): error: argument of type \"const void *\" is incompatible with parameter of type \"const long long *\"\n",
            "\n",
            "/usr/lib/gcc/x86_64-linux-gnu/5/include/avx512pfintrin.h(81): error: argument of type \"const void *\" is incompatible with parameter of type \"const int *\"\n",
            "\n",
            "/usr/lib/gcc/x86_64-linux-gnu/5/include/avx512pfintrin.h(91): error: argument of type \"void *\" is incompatible with parameter of type \"const long long *\"\n",
            "\n",
            "/usr/lib/gcc/x86_64-linux-gnu/5/include/avx512pfintrin.h(100): error: argument of type \"void *\" is incompatible with parameter of type \"const int *\"\n",
            "\n",
            "/usr/lib/gcc/x86_64-linux-gnu/5/include/avx512pfintrin.h(109): error: argument of type \"void *\" is incompatible with parameter of type \"const long long *\"\n",
            "\n",
            "/usr/lib/gcc/x86_64-linux-gnu/5/include/avx512pfintrin.h(117): error: argument of type \"void *\" is incompatible with parameter of type \"const int *\"\n",
            "\n",
            "/usr/lib/gcc/x86_64-linux-gnu/5/include/avx512pfintrin.h(127): error: argument of type \"void *\" is incompatible with parameter of type \"const long long *\"\n",
            "\n",
            "/usr/lib/gcc/x86_64-linux-gnu/5/include/avx512pfintrin.h(136): error: argument of type \"void *\" is incompatible with parameter of type \"const int *\"\n",
            "\n",
            "/usr/lib/gcc/x86_64-linux-gnu/5/include/avx512pfintrin.h(145): error: argument of type \"void *\" is incompatible with parameter of type \"const long long *\"\n",
            "\n",
            "/usr/lib/gcc/x86_64-linux-gnu/5/include/avx512pfintrin.h(153): error: argument of type \"void *\" is incompatible with parameter of type \"const int *\"\n",
            "\n",
            "/usr/lib/gcc/x86_64-linux-gnu/5/include/avx512vlintrin.h(10799): error: argument of type \"const void *\" is incompatible with parameter of type \"const float *\"\n",
            "\n",
            "/usr/lib/gcc/x86_64-linux-gnu/5/include/avx512vlintrin.h(10811): error: argument of type \"const void *\" is incompatible with parameter of type \"const float *\"\n",
            "\n",
            "/usr/lib/gcc/x86_64-linux-gnu/5/include/avx512vlintrin.h(10823): error: argument of type \"const void *\" is incompatible with parameter of type \"const double *\"\n",
            "\n",
            "/usr/lib/gcc/x86_64-linux-gnu/5/include/avx512vlintrin.h(10835): error: argument of type \"const void *\" is incompatible with parameter of type \"const double *\"\n",
            "\n",
            "/usr/lib/gcc/x86_64-linux-gnu/5/include/avx512vlintrin.h(10847): error: argument of type \"const void *\" is incompatible with parameter of type \"const float *\"\n",
            "\n",
            "/usr/lib/gcc/x86_64-linux-gnu/5/include/avx512vlintrin.h(10859): error: argument of type \"const void *\" is incompatible with parameter of type \"const float *\"\n",
            "\n",
            "/usr/lib/gcc/x86_64-linux-gnu/5/include/avx512vlintrin.h(10871): error: argument of type \"const void *\" is incompatible with parameter of type \"const double *\"\n",
            "\n",
            "/usr/lib/gcc/x86_64-linux-gnu/5/include/avx512vlintrin.h(10883): error: argument of type \"const void *\" is incompatible with parameter of type \"const double *\"\n",
            "\n",
            "/usr/lib/gcc/x86_64-linux-gnu/5/include/avx512vlintrin.h(10895): error: argument of type \"const void *\" is incompatible with parameter of type \"const int *\"\n",
            "\n",
            "/usr/lib/gcc/x86_64-linux-gnu/5/include/avx512vlintrin.h(10907): error: argument of type \"const void *\" is incompatible with parameter of type \"const int *\"\n",
            "\n",
            "/usr/lib/gcc/x86_64-linux-gnu/5/include/avx512vlintrin.h(10919): error: argument of type \"const void *\" is incompatible with parameter of type \"const long long *\"\n",
            "\n",
            "/usr/lib/gcc/x86_64-linux-gnu/5/include/avx512vlintrin.h(10931): error: argument of type \"const void *\" is incompatible with parameter of type \"const long long *\"\n",
            "\n",
            "/usr/lib/gcc/x86_64-linux-gnu/5/include/avx512vlintrin.h(10943): error: argument of type \"const void *\" is incompatible with parameter of type \"const int *\"\n",
            "\n",
            "/usr/lib/gcc/x86_64-linux-gnu/5/include/avx512vlintrin.h(10955): error: argument of type \"const void *\" is incompatible with parameter of type \"const int *\"\n",
            "\n",
            "/usr/lib/gcc/x86_64-linux-gnu/5/include/avx512vlintrin.h(10967): error: argument of type \"const void *\" is incompatible with parameter of type \"const long long *\"\n",
            "\n",
            "/usr/lib/gcc/x86_64-linux-gnu/5/include/avx512vlintrin.h(10979): error: argument of type \"const void *\" is incompatible with parameter of type \"const long long *\"\n",
            "\n",
            "/usr/lib/gcc/x86_64-linux-gnu/5/include/avx512vlintrin.h(10989): error: argument of type \"void *\" is incompatible with parameter of type \"float *\"\n",
            "\n",
            "/usr/lib/gcc/x86_64-linux-gnu/5/include/avx512vlintrin.h(11000): error: argument of type \"void *\" is incompatible with parameter of type \"float *\"\n",
            "\n",
            "/usr/lib/gcc/x86_64-linux-gnu/5/include/avx512vlintrin.h(11009): error: argument of type \"void *\" is incompatible with parameter of type \"float *\"\n",
            "\n",
            "/usr/lib/gcc/x86_64-linux-gnu/5/include/avx512vlintrin.h(11020): error: argument of type \"void *\" is incompatible with parameter of type \"float *\"\n",
            "\n",
            "/usr/lib/gcc/x86_64-linux-gnu/5/include/avx512vlintrin.h(11029): error: argument of type \"void *\" is incompatible with parameter of type \"double *\"\n",
            "\n",
            "/usr/lib/gcc/x86_64-linux-gnu/5/include/avx512vlintrin.h(11040): error: argument of type \"void *\" is incompatible with parameter of type \"double *\"\n",
            "\n",
            "/usr/lib/gcc/x86_64-linux-gnu/5/include/avx512vlintrin.h(11049): error: argument of type \"void *\" is incompatible with parameter of type \"double *\"\n",
            "\n",
            "/usr/lib/gcc/x86_64-linux-gnu/5/include/avx512vlintrin.h(11060): error: argument of type \"void *\" is incompatible with parameter of type \"double *\"\n",
            "\n",
            "/usr/lib/gcc/x86_64-linux-gnu/5/include/avx512vlintrin.h(11069): error: argument of type \"void *\" is incompatible with parameter of type \"float *\"\n",
            "\n",
            "/usr/lib/gcc/x86_64-linux-gnu/5/include/avx512vlintrin.h(11080): error: argument of type \"void *\" is incompatible with parameter of type \"float *\"\n",
            "\n",
            "/usr/lib/gcc/x86_64-linux-gnu/5/include/avx512vlintrin.h(11089): error: argument of type \"void *\" is incompatible with parameter of type \"float *\"\n",
            "\n",
            "/usr/lib/gcc/x86_64-linux-gnu/5/include/avx512vlintrin.h(11100): error: argument of type \"void *\" is incompatible with parameter of type \"float *\"\n",
            "\n",
            "/usr/lib/gcc/x86_64-linux-gnu/5/include/avx512vlintrin.h(11109): error: argument of type \"void *\" is incompatible with parameter of type \"double *\"\n",
            "\n",
            "/usr/lib/gcc/x86_64-linux-gnu/5/include/avx512vlintrin.h(11120): error: argument of type \"void *\" is incompatible with parameter of type \"double *\"\n",
            "\n",
            "/usr/lib/gcc/x86_64-linux-gnu/5/include/avx512vlintrin.h(11129): error: argument of type \"void *\" is incompatible with parameter of type \"double *\"\n",
            "\n",
            "/usr/lib/gcc/x86_64-linux-gnu/5/include/avx512vlintrin.h(11140): error: argument of type \"void *\" is incompatible with parameter of type \"double *\"\n",
            "\n",
            "/usr/lib/gcc/x86_64-linux-gnu/5/include/avx512vlintrin.h(11149): error: argument of type \"void *\" is incompatible with parameter of type \"int *\"\n",
            "\n",
            "/usr/lib/gcc/x86_64-linux-gnu/5/include/avx512vlintrin.h(11160): error: argument of type \"void *\" is incompatible with parameter of type \"int *\"\n",
            "\n",
            "/usr/lib/gcc/x86_64-linux-gnu/5/include/avx512vlintrin.h(11169): error: argument of type \"void *\" is incompatible with parameter of type \"int *\"\n",
            "\n",
            "/usr/lib/gcc/x86_64-linux-gnu/5/include/avx512vlintrin.h(11180): error: argument of type \"void *\" is incompatible with parameter of type \"int *\"\n",
            "\n",
            "/usr/lib/gcc/x86_64-linux-gnu/5/include/avx512vlintrin.h(11189): error: argument of type \"void *\" is incompatible with parameter of type \"long long *\"\n",
            "\n",
            "/usr/lib/gcc/x86_64-linux-gnu/5/include/avx512vlintrin.h(11200): error: argument of type \"void *\" is incompatible with parameter of type \"long long *\"\n",
            "\n",
            "/usr/lib/gcc/x86_64-linux-gnu/5/include/avx512vlintrin.h(11209): error: argument of type \"void *\" is incompatible with parameter of type \"long long *\"\n",
            "\n",
            "/usr/lib/gcc/x86_64-linux-gnu/5/include/avx512vlintrin.h(11220): error: argument of type \"void *\" is incompatible with parameter of type \"long long *\"\n",
            "\n",
            "/usr/lib/gcc/x86_64-linux-gnu/5/include/avx512vlintrin.h(11229): error: argument of type \"void *\" is incompatible with parameter of type \"int *\"\n",
            "\n",
            "/usr/lib/gcc/x86_64-linux-gnu/5/include/avx512vlintrin.h(11240): error: argument of type \"void *\" is incompatible with parameter of type \"int *\"\n",
            "\n",
            "/usr/lib/gcc/x86_64-linux-gnu/5/include/avx512vlintrin.h(11249): error: argument of type \"void *\" is incompatible with parameter of type \"int *\"\n",
            "\n",
            "/usr/lib/gcc/x86_64-linux-gnu/5/include/avx512vlintrin.h(11260): error: argument of type \"void *\" is incompatible with parameter of type \"int *\"\n",
            "\n",
            "/usr/lib/gcc/x86_64-linux-gnu/5/include/avx512vlintrin.h(11269): error: argument of type \"void *\" is incompatible with parameter of type \"long long *\"\n",
            "\n",
            "/usr/lib/gcc/x86_64-linux-gnu/5/include/avx512vlintrin.h(11280): error: argument of type \"void *\" is incompatible with parameter of type \"long long *\"\n",
            "\n",
            "/usr/lib/gcc/x86_64-linux-gnu/5/include/avx512vlintrin.h(11289): error: argument of type \"void *\" is incompatible with parameter of type \"long long *\"\n",
            "\n",
            "/usr/lib/gcc/x86_64-linux-gnu/5/include/avx512vlintrin.h(11300): error: argument of type \"void *\" is incompatible with parameter of type \"long long *\"\n",
            "\n",
            "/usr/local/lib/python3.6/dist-packages/tensorflow/include/tensorflow/core/lib/bfloat16/bfloat16.h(466): error: no suitable constructor exists to convert from \"float\" to \"tensorflow::bfloat16\"\n",
            "\n",
            "/usr/local/lib/python3.6/dist-packages/tensorflow/include/tensorflow/core/lib/bfloat16/bfloat16.h(467): error: no suitable constructor exists to convert from \"float\" to \"tensorflow::bfloat16\"\n",
            "\n",
            "/usr/local/lib/python3.6/dist-packages/tensorflow/include/tensorflow/core/lib/bfloat16/bfloat16.h(468): error: no suitable constructor exists to convert from \"float\" to \"tensorflow::bfloat16\"\n",
            "\n",
            "/usr/local/lib/python3.6/dist-packages/tensorflow/include/unsupported/Eigen/CXX11/../src/SpecialFunctions/SpecialFunctionsImpl.h(108): error: static assertion failed with \"THIS_TYPE_IS_NOT_SUPPORTED\"\n",
            "          detected during:\n",
            "            instantiation of \"Scalar Eigen::internal::lgamma_impl<Scalar>::run(Scalar) [with Scalar=double]\" \n",
            "(1517): here\n",
            "            instantiation of \"Eigen::internal::lgamma_retval<Eigen::internal::global_math_functions_filtering_base<Scalar, void>::type>::type Eigen::numext::lgamma(const Scalar &) [with Scalar=double]\" \n",
            "/usr/local/lib/python3.6/dist-packages/tensorflow/include/unsupported/Eigen/CXX11/../src/SpecialFunctions/arch/CUDA/CudaSpecialFunctions.h(32): here\n",
            "\n",
            "/usr/local/lib/python3.6/dist-packages/tensorflow/include/unsupported/Eigen/CXX11/../src/SpecialFunctions/SpecialFunctionsImpl.h(1015): error: static assertion failed with \"THIS_TYPE_IS_NOT_SUPPORTED\"\n",
            "          detected during:\n",
            "            instantiation of \"Scalar Eigen::internal::polygamma_impl<Scalar>::run(Scalar, Scalar) [with Scalar=float]\" \n",
            "(1535): here\n",
            "            instantiation of \"Eigen::internal::polygamma_retval<Eigen::internal::global_math_functions_filtering_base<Scalar, void>::type>::type Eigen::numext::polygamma(const Scalar &, const Scalar &) [with Scalar=float]\" \n",
            "/usr/local/lib/python3.6/dist-packages/tensorflow/include/unsupported/Eigen/CXX11/../src/SpecialFunctions/arch/CUDA/CudaSpecialFunctions.h(67): here\n",
            "\n",
            "/usr/local/lib/python3.6/dist-packages/tensorflow/include/unsupported/Eigen/CXX11/../src/SpecialFunctions/SpecialFunctionsImpl.h(1015): error: static assertion failed with \"THIS_TYPE_IS_NOT_SUPPORTED\"\n",
            "          detected during:\n",
            "            instantiation of \"Scalar Eigen::internal::polygamma_impl<Scalar>::run(Scalar, Scalar) [with Scalar=double]\" \n",
            "(1535): here\n",
            "            instantiation of \"Eigen::internal::polygamma_retval<Eigen::internal::global_math_functions_filtering_base<Scalar, void>::type>::type Eigen::numext::polygamma(const Scalar &, const Scalar &) [with Scalar=double]\" \n",
            "/usr/local/lib/python3.6/dist-packages/tensorflow/include/unsupported/Eigen/CXX11/../src/SpecialFunctions/arch/CUDA/CudaSpecialFunctions.h(74): here\n",
            "\n",
            "/usr/local/lib/python3.6/dist-packages/tensorflow/include/unsupported/Eigen/CXX11/../src/SpecialFunctions/SpecialFunctionsImpl.h(342): error: static assertion failed with \"THIS_TYPE_IS_NOT_SUPPORTED\"\n",
            "          detected during:\n",
            "            instantiation of \"Scalar Eigen::internal::erf_impl<Scalar>::run(Scalar) [with Scalar=double]\" \n",
            "(1541): here\n",
            "            instantiation of \"Eigen::internal::erf_retval<Eigen::internal::global_math_functions_filtering_base<Scalar, void>::type>::type Eigen::numext::erf(const Scalar &) [with Scalar=double]\" \n",
            "/usr/local/lib/python3.6/dist-packages/tensorflow/include/unsupported/Eigen/CXX11/../src/SpecialFunctions/arch/CUDA/CudaSpecialFunctions.h(87): here\n",
            "\n",
            "/usr/local/lib/python3.6/dist-packages/tensorflow/include/unsupported/Eigen/CXX11/../src/SpecialFunctions/SpecialFunctionsImpl.h(375): error: static assertion failed with \"THIS_TYPE_IS_NOT_SUPPORTED\"\n",
            "          detected during:\n",
            "            instantiation of \"Scalar Eigen::internal::erfc_impl<Scalar>::run(Scalar) [with Scalar=float]\" \n",
            "(1547): here\n",
            "            instantiation of \"Eigen::internal::erfc_retval<Eigen::internal::global_math_functions_filtering_base<Scalar, void>::type>::type Eigen::numext::erfc(const Scalar &) [with Scalar=float]\" \n",
            "/usr/local/lib/python3.6/dist-packages/tensorflow/include/unsupported/Eigen/CXX11/../src/SpecialFunctions/arch/CUDA/CudaSpecialFunctions.h(94): here\n",
            "\n",
            "Error limit reached.\n",
            "100 errors detected in the compilation of \"/tmp/tmpxft_00007d60_00000000-10_reduce_mask.compute_37.cpp1.ii\".\n",
            "Compilation terminated.\n",
            "Makefile:44: recipe for target 'build/reduce_mask.cu.o' failed\n",
            "make: *** [build/reduce_mask.cu.o] Error 1\n"
          ],
          "name": "stdout"
        }
      ]
    },
    {
      "metadata": {
        "id": "XYMbG7-wSKMv",
        "colab_type": "code",
        "colab": {
          "autoexec": {
            "startup": false,
            "wait_interval": 0
          },
          "base_uri": "https://localhost:8080/",
          "height": 34
        },
        "outputId": "459ed2a1-daa2-4f37-e5b9-fd5d0e70a640",
        "executionInfo": {
          "status": "ok",
          "timestamp": 1529046780488,
          "user_tz": -330,
          "elapsed": 904,
          "user": {
            "displayName": "Sharwon Pius",
            "photoUrl": "https://lh3.googleusercontent.com/a/default-user=s128",
            "userId": "109026520467702366446"
          }
        }
      },
      "cell_type": "code",
      "source": [
        "cd .."
      ],
      "execution_count": 27,
      "outputs": [
        {
          "output_type": "stream",
          "text": [
            "/content\n"
          ],
          "name": "stdout"
        }
      ]
    },
    {
      "metadata": {
        "id": "UeoHCnwNbmUH",
        "colab_type": "code",
        "colab": {
          "autoexec": {
            "startup": false,
            "wait_interval": 0
          }
        }
      },
      "cell_type": "code",
      "source": [
        ""
      ],
      "execution_count": 0,
      "outputs": []
    }
  ]
}
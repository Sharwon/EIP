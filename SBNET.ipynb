{
 "cells": [
  {
   "cell_type": "markdown",
   "metadata": {},
   "source": [
    "# SBNet : Sparse Block Network([arxiv](https://arxiv.org/abs/1801.02108))"
   ]
  },
  {
   "cell_type": "markdown",
   "metadata": {},
   "source": [
    "CNNs are widely used for analyzing visual imagery and data from LiDAR sensors. In autonomous driving, CNNs allow self-driving vehicles to see other cars and pedestrians, determine their exact locations, and solve many other difficult problems that could not previously be tackled with conventional algorithms. To ensure that our autonomous systems are reliable, such applications of CNNs must run at extremely fast speeds on GPUs. Developing efficient ways to improve response time and accuracy while reducing device costs and power consumption with CNNs is an ongoing research priority.   \n",
    "\n",
    "The development of model architectures and algorithms in the field of deep learning is largely constrained by the availability of efficient GPU implementations of elementary operations. One issue has been the lack of an efficient GPU implementation for sparse linear operations.\n",
    "\n",
    "Conventional deep CNNs apply convolution operators uniformly for all spatial locations across hundreds of layers, requiring trillions of operations per second. The knowledge that many of these operations are wasted on over analyzing irrelevant information. In a typical scene, only a small percentage of observed data is important, this is sparsity. The way we see, the visual cortex exploits sparsity by focusing foveal vision based on movement detected in the peripheral vision and reducing receptor density and color information in the peripheral portions of the retina.\n",
    "\n",
    "SBnet forces the CNN's to focus (attention) only on the object in the image, using a mask. Since, the rest of the image is blocked from its view (not given as input), CNN's don't convolve over these sparse regions. Thereby, reducing the number of compute operations.\n",
    "\n",
    "\n",
    "![attention_blocks](https://github.com/Sharwon/EIP/raw/master/final_project/images/sbnet.gif \"http://www.cs.toronto.edu/~byang/\")\n",
    "\n",
    "---"
   ]
  },
  {
   "cell_type": "markdown",
   "metadata": {},
   "source": [
    "## Paper Notes"
   ]
  },
  {
   "cell_type": "markdown",
   "metadata": {},
   "source": [
    " - SBnet proposes to reduce computation in the high resolution main network using low-cost computation mask. Here, low-cost means, generating masks using very less resources.\n",
    " \n",
    " - It leverages the spatial sparsity structure of the mask.\n",
    " \n",
    " - The two main contributions of this paper are\n",
    "         1. Tiling-based sparse convolution algorithm.\n",
    "         2. Implementation of their sparse block algorithm using custom CUDA kernels.\n",
    " \n",
    " - The spatial sparsity can be represented as **binary** computation mask where ones indicate active locations that need more computation and zeros inactive.\n",
    " \n",
    " - These computation masks can be considered as attention mechanism where the attention weights are binary. These are used to guide the convolution filters.\n",
    " - SBnet computes convolution on a **blockwise** decomposition of the mask.\n",
    " - It gathers block-wise slices from tensors, and maintains the tensor shape. Within each active block, it performs a regular convolution, and uses **Winograd convolutions** for further speedup.\n",
    " - Block sparsity is defined in terms of a mask that can be known upfront like a priori sparsity structure, or that can be computed easily. (as mentioned before)\n",
    " - The same **sparsity mask** is reused for every layer, but uses reduced **spatial block** sizes at different spatial scales. It helps in maintaining speed without loss in accuracy.\n",
    " - Two major building blocks in sparse block-wise convolution-\n",
    "   ![image1](https://github.com/Sharwon/EIP/raw/master/final_project/images/tiling-algo.png \"Credits to paper\")\n",
    "      1. **Reduce mask to indices** : It converts the binary mask [H, W, C] (input) to a list of indices[B,3], where each indices references the location of the active blocks in the input tensor. The bock size is uniform, so that the gathered blocks can be batched together and passed into a convolution operation. After getting the appropriate block and overlap sizes, we perform a pooling(max/avg) operation followed by a threshold to downsample the input mask. We extract the patches from the non-zero locations.\n",
    "      \n",
    "   ![image2](https://github.com/Sharwon/EIP/raw/master/final_project/images/block-sparse.png \"Credits to paper\")\n",
    "      2. **Sparse gather/scatter** : Gathering extracts a block[B, h, w, C] from the input tensor [N, H, W, C], using the generated indexes[B,3]. Unlike, tf.gather_nd(other gather kernel), this expands spatially to their neighborhood windows. The input overlap is essential to producing the output that seamlessly stitches the results of adjacent block convolution in a way that is locally equivalent to a dense convolution on a larger block and fused indexing capability is fundamental to practical speedup. The Scatter operation is inverse to the gather operation, reusing the same input mask and block index list. Input tensor [B, h`, w`, C] is the result after a series of convolution from the output of gather kernel, then a valid convolution is applied on the input tensor. The results of this convolution is copied back on the top of the dense activation tensor. \n",
    "     \n",
    "  - A single residual layer has 3 convolutions, BatchNorm and Relu layers. All 9 layers can share a single gathering and scattering operation without block overlap, because it retains the same receptive field.\n",
    "    \n",
    "   ![image3](https://github.com/Sharwon/EIP/raw/master/final_project/images/residualsparseblock.png \"Credits to paper\")\n",
    "  - We need to train Resnet-Sbnet end to end as BatchNorm statics differ for sparse connections. The gradient for scatter operation is the gather operation with the same precomputed block indices executed on the next layers backpropagated gradient tensor and vice versa. Also, keep in mind the edges of overlapping tiles.\n",
    "  - **Custom Cuda Kernels**, were necessary to achieve speed-ups in practice. To minimize the intermediate outputs between kernels, they **fused downsample and indexing kernels** into one. Also **fused transpose + gather/scatter kernels**, as cuDNN runs faster with NCHW format. The gather/scatter kernel fuses the transpose from NHWC to NCHW tensor data inside the CUDA kernel. This is instrumental in achieving practical speed (eliminating transpose round-up trip). They were adamant in using NHWC format as it allows for memory-coalesced-contiguous access of spatially perforated blocks. **fused scatter-add kernel for residual blocks** helps in achieving faster inference time, by eliminating the extra memory allocation(reused output).\n",
    "    ![image5](https://github.com/Sharwon/EIP/raw/master/final_project/images/tfopscustomcuda.png)\n",
    "  - They implemented custom TensorFlow Ops to interface with the Cuda kernels.\n",
    "  - It's benchmarked with sparse manifold convolution. Both layerwise and network benchmarks are compared.\n",
    "  - The experiments and results are discussed a later section of this notebook.\n",
    "  \n",
    "  ---"
   ]
  },
  {
   "cell_type": "markdown",
   "metadata": {},
   "source": [
    "## Input Dataset"
   ]
  },
  {
   "cell_type": "markdown",
   "metadata": {},
   "source": [
    "\n",
    "I've downloaded a video from youtube, which records a road lane.  \n",
    "Let's generate a dataset which has two classes (vehicles, no_vehicles) and their respective mask. It should look something like this.\n",
    "\n",
    "![Image2](https://camo.githubusercontent.com/2328970cc768f21d5c7591fbccea6dff42a4df8d/687474703a2f2f692e67697068792e636f6d2f35413934415a61685349564f772e676966)\n",
    "\n",
    "There are many techniques to realize this problem statement. Basically, we have to make a mask for moving objects.  \n",
    "The simplest way to achieve this is by using foreground detection using background subtraction technique. Where in we take the first frame as the reference frame, and detect changes, by subtracting it from the next frame. For more details checkout the references at the end of this notebook.\n"
   ]
  },
  {
   "cell_type": "code",
   "execution_count": null,
   "metadata": {},
   "outputs": [],
   "source": [
    "def create_dataset(video_file):\n",
    "    '''\n",
    "    Input : location of the video input (video_file)\n",
    "    Output : Creates folders(sorted images) inside your directory depending upon the classes and masks\n",
    "    '''\n",
    "    cap = cv2.VideoCapture(video_file)\n",
    "\n",
    "    count = 0\n",
    "    #  VIDEO PROPERTIES\n",
    "    print(\"Frame Width : \")\n",
    "    print(cap.get(3))  # Frame Width\n",
    "    print(\"Frame Height :\")\n",
    "    print(cap.get(4))  # Frame Height\n",
    "    fps = (cap.get(cv2.CAP_PROP_FPS))\n",
    "    print(\"FPS :\", fps)\n",
    "    # create a mask from the extacted frame.\n",
    "    fullmask = cv2.createBackgroundSubtractorMOG2()\n",
    "    while (cap.isOpened):\n",
    "        ret, frame = cap.read()\n",
    "        fgmask = fullmask.apply(frame)\n",
    "        if fgmask is None:\n",
    "            break\n",
    "        (im2, contours, hierarchy) = cv2.findContours(fgmask.copy(), cv2.RETR_EXTERNAL, cv2.CHAIN_APPROX_SIMPLE)\n",
    "        for c in contours:\n",
    "            if cv2.contourArea(c) < 600: # removes smaller moving objects.\n",
    "                continue\n",
    "\n",
    "            filename_frame = \"/Users/ubuntu/files/frames/frame_%d.jpg\" % count\n",
    "            # resize image\n",
    "            resized_frame = cv2.resize(frame, (128,128), interpolation=cv2.INTER_AREA)\n",
    "            cv2.imwrite(filename, resized_frame)\n",
    "\n",
    "            filename_mask = \"/Users/ubuntu/files/fgmask/fgmask_%d.jpg\" % count\n",
    "            # resize image\n",
    "            resized_fgmask = cv2.resize(fgmask, (128,128), interpolation=cv2.INTER_AREA)\n",
    "            # writing the image to a file.\n",
    "            cv2.imwrite(filename, resized_fgmask)\n",
    "            count = count + 1\n",
    "\n",
    "        k = cv2.waitKey(30) & 0xff\n",
    "        if k == 27:\n",
    "            break\n",
    "    cap.release()\n",
    "    cv2.destroyAllWindows()"
   ]
  },
  {
   "cell_type": "markdown",
   "metadata": {},
   "source": [
    "My initial result....  \n",
    "![gif](https://github.com/Sharwon/EIP/raw/master/final_project/images/background.gif)"
   ]
  },
  {
   "cell_type": "markdown",
   "metadata": {},
   "source": [
    "Now from the generated images and mask. I sorted images into four folders.  \n",
    "vehicles, vehicles_mask, no_vehicles, no_vehicles_mask are the respective folders."
   ]
  },
  {
   "cell_type": "code",
   "execution_count": null,
   "metadata": {},
   "outputs": [],
   "source": [
    "#Saving the images as tensor files.\n",
    "def convert_i2t(ROOT_DIR, STORE_DIR):\n",
    "    '''\n",
    "    ROOT_DIR : The directory of the image files.\n",
    "    STORE_DIR : The directory of the saved image files.\n",
    "    '''\n",
    "    def save(fname, save_loc):\n",
    "        '''\n",
    "        fname : file name of the image\n",
    "        save_loc : location where the pickle files are to be stores.\n",
    "        '''\n",
    "        sfile = bz2.BZ2File(fname, 'w')\n",
    "        pickle.dump(save_loc, sfile)\n",
    "        sfile.close()\n",
    "\n",
    "\n",
    "    def process(DIR, STORE_DIR = \"numpy_array/\", color = 1):\n",
    "        '''\n",
    "        DIR : Directory which contains the images\n",
    "        color : 1 reads in RGB, 0 reads in greyscale \n",
    "        '''\n",
    "        image_list = os.listdir(os.path.join(ROOT_DIR, DIR))\n",
    "        image_list.sort()\n",
    "        for i in range(len(image_list)) :\n",
    "            if i == 0 :\n",
    "                img = cv2.imread(os.path.join(ROOT_DIR, DIR, image_list[i]), color)\n",
    "                img_shape = img.shape \n",
    "                #torch expects tensors in shape N,C,H,W unlike keras,(N,H,W,C)\n",
    "                data = np.empty((0, img_shape[2], img_shape[0], img_shape[1]))\n",
    "                img = np.swapaxes(img, 0, 2)\n",
    "                img = np.swapaxes(img, 1, 2)\n",
    "                data = np.concatenate((data, img[np.newaxis, :, :, :]), axis = 0)\n",
    "            else :\n",
    "                img =  cv2.imread(os.path.join(ROOT_DIR, DIR, image_list[i]), color)\n",
    "                img = np.swapaxes(img, 0, 2)\n",
    "                img = np.swapaxes(img, 1, 2)\n",
    "                data = np.concatenate((data, img[np.newaxis, :, :, :]), axis = 0)\n",
    "        save(STORE_DIR + DIR + \".bz2\", data)\t\n",
    "        return data\n",
    "\n",
    "\n",
    "    data_list = os.listdir(ROOT_DIR)\n",
    "    print(data_list)\n",
    "\n",
    "    for i in data_list:\n",
    "        process(i)"
   ]
  },
  {
   "cell_type": "code",
   "execution_count": 7,
   "metadata": {
    "ExecuteTime": {
     "end_time": "2018-06-22T10:46:05.323811Z",
     "start_time": "2018-06-22T10:45:59.799522Z"
    },
    "colab": {
     "autoexec": {
      "startup": false,
      "wait_interval": 0
     }
    },
    "colab_type": "code",
    "id": "DVCPf60bgMdZ"
   },
   "outputs": [
    {
     "name": "stdout",
     "output_type": "stream",
     "text": [
      "['no_vehicles_frames', 'vehicles_frames', 'no_vehicles_mask', 'vehicles_fgmask']\n"
     ]
    }
   ],
   "source": [
    "# the output should be like this, below."
   ]
  },
  {
   "cell_type": "markdown",
   "metadata": {},
   "source": [
    "---\n",
    "## Code Inference"
   ]
  },
  {
   "cell_type": "markdown",
   "metadata": {},
   "source": [
    "I've created a dataset of two classes. 20 images and 20 masks for each class.  \n",
    "I have done experiments with other datasets as well, links are provided in the log's section.  \n",
    "Where you can shift+enter the whole notebook in google colab.  "
   ]
  },
  {
   "cell_type": "markdown",
   "metadata": {},
   "source": [
    "### Importing Libraries"
   ]
  },
  {
   "cell_type": "code",
   "execution_count": 5,
   "metadata": {
    "ExecuteTime": {
     "end_time": "2018-06-24T21:53:06.537427Z",
     "start_time": "2018-06-24T21:53:06.191343Z"
    },
    "colab": {
     "autoexec": {
      "startup": false,
      "wait_interval": 0
     },
     "base_uri": "https://localhost:8080/",
     "height": 53
    },
    "colab_type": "code",
    "executionInfo": {
     "elapsed": 2944,
     "status": "ok",
     "timestamp": 1529480001398,
     "user": {
      "displayName": "Ddev Ddev",
      "photoUrl": "https://lh3.googleusercontent.com/a/default-user=s128",
      "userId": "114475786811527419051"
     },
     "user_tz": -330
    },
    "id": "RSIklmozHIqy",
    "outputId": "86878b1d-dd07-4a9b-ee98-9bf9ad790352"
   },
   "outputs": [],
   "source": [
    "# data loading and pre-processing\n",
    "import pickle\n",
    "import bz2\n",
    "import os\n",
    "#image processing tools\n",
    "import numpy as np \n",
    "import cv2\n",
    "from IPython.display import Image\n",
    "#deep learning framework\n",
    "import torch \n",
    "import torch.nn as nn\n",
    "import numpy as np \n",
    "import torch.optim as optim\n",
    "from torch.autograd import Variable\n",
    "import torch.nn.functional as F\n",
    "#ploting images\n",
    "import matplotlib.pyplot as plt\n",
    "import matplotlib.cm as cm\n",
    "#plt.style.use('ggplot')\n",
    "%matplotlib inline\n",
    "\n",
    "import ipdb"
   ]
  },
  {
   "cell_type": "code",
   "execution_count": 2,
   "metadata": {
    "ExecuteTime": {
     "end_time": "2018-06-24T21:17:12.260684Z",
     "start_time": "2018-06-24T21:17:12.230303Z"
    },
    "colab": {
     "autoexec": {
      "startup": false,
      "wait_interval": 0
     }
    },
    "colab_type": "code",
    "id": "_SjFSkub0Iyc"
   },
   "outputs": [
    {
     "name": "stdout",
     "output_type": "stream",
     "text": [
      "cuda:0\n"
     ]
    }
   ],
   "source": [
    "device = torch.device('cuda:0' if torch.cuda.is_available() else 'cpu')\n",
    "print(device)"
   ]
  },
  {
   "cell_type": "markdown",
   "metadata": {},
   "source": [
    "### Creating and Importing the Dataset"
   ]
  },
  {
   "cell_type": "code",
   "execution_count": null,
   "metadata": {},
   "outputs": [],
   "source": [
    "# recommended to run these functions seperately, as a python script.\n",
    "\n",
    "#creating dataset as mentioned before.\n",
    "create_dataset(\"location of the video file\")\n",
    "\n",
    "'''\n",
    "Sorted images into four folders.\n",
    "vehicles, vehicles_mask, no_vehicles, no_vehicles_mask are the respective folders.\n",
    "'''\n",
    "\n",
    "# convert these images into b2z file (for loading them as numpy arrays)\n",
    "convert_i2t(ROOT_DIR, STORE_DIR)"
   ]
  },
  {
   "cell_type": "markdown",
   "metadata": {},
   "source": [
    "Loading the saved bz2 files into a torch tensor."
   ]
  },
  {
   "cell_type": "markdown",
   "metadata": {},
   "source": [
    "You can download the dataset form [here](https://github.com/Sharwon/EIP/blob/master/final_project/images_sbnet_smaple.zip) and run from the next cell, onwards. Don't forget to unzip and 'cd' into the folder."
   ]
  },
  {
   "cell_type": "code",
   "execution_count": 6,
   "metadata": {
    "ExecuteTime": {
     "end_time": "2018-06-24T21:17:27.852972Z",
     "start_time": "2018-06-24T21:17:22.176660Z"
    }
   },
   "outputs": [
    {
     "name": "stdout",
     "output_type": "stream",
     "text": [
      "torch.Size([20, 3, 128, 128])\n",
      "torch.Size([20, 3, 128, 128])\n",
      "torch.Size([20, 3, 128, 128])\n",
      "torch.Size([20, 3, 128, 128])\n"
     ]
    }
   ],
   "source": [
    "# Loading the saved bz2 files\n",
    "def loadBz2(name): \n",
    "\tload_file = bz2.BZ2File(name, 'rb')\n",
    "\tdata = pickle.load(load_file)\n",
    "\tload_file.close()\n",
    "\treturn data\n",
    "\n",
    "\n",
    "no_vehicles = loadBz2(\"numpy_array/no_vehicles_frames.bz2\")\n",
    "no_vehicles_mask = loadBz2(\"numpy_array/no_vehicles_fgmask.bz2\")\n",
    "vehicles = loadBz2(\"numpy_array/vehicles_frames.bz2\")\n",
    "vehicles_mask = loadBz2(\"numpy_array/vehicles_fgmask.bz2\")\n",
    "\n",
    "# Converting them to torch tensor\n",
    "no_vehicles = torch.Tensor(no_vehicles).to(device)\n",
    "no_vehicles_mask = torch.Tensor(no_vehicles_mask).to(device)\n",
    "vehicles = torch.Tensor(vehicles).to(device)\n",
    "vehicles_mask = torch.Tensor(vehicles_mask).to(device)\n",
    "print(no_vehicles.size())\n",
    "print(no_vehicles_mask.size())\n",
    "print(vehicles.size())\n",
    "print(vehicles_mask.size())\n",
    "\n",
    "#The shape should be N,C,H,W (pytorch format)\n",
    "#The model and the data must be on the same device."
   ]
  },
  {
   "cell_type": "code",
   "execution_count": 7,
   "metadata": {
    "ExecuteTime": {
     "end_time": "2018-06-24T21:19:51.363750Z",
     "start_time": "2018-06-24T21:19:51.351192Z"
    }
   },
   "outputs": [],
   "source": [
    "# Making the training data into a pytorch readable format.\n",
    "\n",
    "X_train = torch.cat((vehicles, no_vehicles), 0).to(device)\n",
    "Y_train = torch.cat((torch.zeros(20,1), torch.ones(20,1)), 0).to(device)\n",
    "#normalizing the dataset\n",
    "X_train = X_train/255\n",
    "Mask = torch.cat((vehicles_mask, no_vehicles_mask), 0).to(device)\n",
    "Mask_t = (Mask > (10/255)).float()\n",
    "Mask_t = Mask_t[:,0,:,:] # the mask format [B,H,W]\n",
    "Mask_t.requires_grad = False"
   ]
  },
  {
   "cell_type": "code",
   "execution_count": 6,
   "metadata": {
    "ExecuteTime": {
     "start_time": "2018-06-24T21:12:41.242Z"
    }
   },
   "outputs": [
    {
     "data": {
      "text/plain": [
       "torch.Size([40, 3, 128, 128])"
      ]
     },
     "execution_count": 6,
     "metadata": {},
     "output_type": "execute_result"
    }
   ],
   "source": [
    "X_train.shape #[N,C,H,W]"
   ]
  },
  {
   "cell_type": "code",
   "execution_count": 7,
   "metadata": {
    "ExecuteTime": {
     "end_time": "2018-06-24T16:47:36.080437Z",
     "start_time": "2018-06-24T16:47:36.072361Z"
    }
   },
   "outputs": [
    {
     "data": {
      "text/plain": [
       "torch.Size([40, 128, 128])"
      ]
     },
     "execution_count": 7,
     "metadata": {},
     "output_type": "execute_result"
    }
   ],
   "source": [
    "Mask_t.shape #[N,H,W]"
   ]
  },
  {
   "cell_type": "code",
   "execution_count": 8,
   "metadata": {},
   "outputs": [
    {
     "data": {
      "text/plain": [
       "torch.Size([40, 128, 128])"
      ]
     },
     "execution_count": 8,
     "metadata": {},
     "output_type": "execute_result"
    }
   ],
   "source": [
    "mask_t=Mask_t.clone()\n",
    "mask_t[Mask_t==0]=1\n",
    "mask_t[Mask_t==1]=0\n",
    "mask_t.requires_grad = False\n",
    "mask_t.shape"
   ]
  },
  {
   "cell_type": "code",
   "execution_count": 14,
   "metadata": {
    "ExecuteTime": {
     "end_time": "2018-06-24T21:26:19.571140Z",
     "start_time": "2018-06-24T21:26:18.818029Z"
    }
   },
   "outputs": [
    {
     "data": {
      "image/png": "[encoded data removed]",
      "text/plain": [
       "<Figure size 432x288 with 1 Axes>"
      ]
     },
     "metadata": {},
     "output_type": "display_data"
    }
   ],
   "source": [
    "# image\n",
    "plt.imshow(X_train[7,0, :, :])\n",
    "plt.set_cmap(cmap = cm.gray)\n",
    "plt.title(\"Image\")\n",
    "plt.show()"
   ]
  },
  {
   "cell_type": "code",
   "execution_count": 9,
   "metadata": {
    "ExecuteTime": {
     "end_time": "2018-06-24T21:30:28.782527Z",
     "start_time": "2018-06-24T21:30:28.545383Z"
    },
    "scrolled": true
   },
   "outputs": [
    {
     "data": {
      "image/png": "[encoded data removed]",
      "text/plain": [
       "<Figure size 432x288 with 1 Axes>"
      ]
     },
     "metadata": {},
     "output_type": "display_data"
    }
   ],
   "source": [
    "# image's mask\n",
    "plt.imshow(mask_t[7, :, :])\n",
    "plt.set_cmap(cmap = cm.gray)\n",
    "plt.title(\"Mask\")\n",
    "plt.show()"
   ]
  },
  {
   "cell_type": "code",
   "execution_count": 10,
   "metadata": {
    "ExecuteTime": {
     "end_time": "2018-06-24T16:46:06.260595Z",
     "start_time": "2018-06-24T16:46:06.253505Z"
    },
    "colab": {
     "autoexec": {
      "startup": false,
      "wait_interval": 0
     }
    },
    "colab_type": "code",
    "id": "Om7iADHd0CDq"
   },
   "outputs": [],
   "source": [
    "# learning parameters\n",
    "num_epochs = 5\n",
    "num_classes = 2\n",
    "batch_size = 4\n",
    "learning_rate = 0.01\n",
    "img_channel, img_height, img_width = X_train.shape[1], X_train.shape[2], X_train.shape[3]"
   ]
  },
  {
   "cell_type": "markdown",
   "metadata": {},
   "source": [
    "### Custom SBnet Module Functions"
   ]
  },
  {
   "cell_type": "code",
   "execution_count": 11,
   "metadata": {
    "ExecuteTime": {
     "end_time": "2018-06-24T21:34:36.697655Z",
     "start_time": "2018-06-24T21:34:36.667988Z"
    },
    "colab": {
     "autoexec": {
      "startup": false,
      "wait_interval": 0
     }
    },
    "colab_type": "code",
    "id": "5NlUO5260zeN"
   },
   "outputs": [],
   "source": [
    "def pad_input(input, ksize, kstride):\n",
    "    '''\n",
    "    Pads the input or mask according to the required kernel to perform sparse convolution\n",
    "\n",
    "    Inputs:\n",
    "    :param input:  torch tensor  #[N,H,W] binary mask or [N,C,H,W] input, where N is batch diemension, W, H are width and height of mask and C is channels\n",
    "    :param kszie:  [list, tuple]  #[h,w] Size of kernel to perform pooling\n",
    "    :param kstride:  [list, tuple]  #[h_stride,w_stride] Stride of Kernel\n",
    "\n",
    "    Output: Zero padded torch tensor\n",
    "    '''\n",
    "    assert torch.is_tensor(input) == True, 'Expect input to be a pytorch tensor'\n",
    "    isize = list(input.size())\n",
    "    assert len(input.size()) == 3 or len(input.size()) == 4, 'Expect input rank = 3(mask) or 4(input)'\n",
    "    assert type(ksize) in [list, tuple], 'Expect `ksize` to be list or tuple'\n",
    "    assert type(kstride) in [list, tuple], 'Expect `kstride` to be list or tuple'\n",
    "    assert len(kstride) == 2 and len(ksize) == 2, 'Expect length of kstride and ksize to be 2'\n",
    "\n",
    "    #padding along width!\n",
    "    pad_w = kstride[-1] - ((isize[-1]-ksize[-1])%kstride[-1])\n",
    "    pad_w1 = pad_w2 = pad_w//2\n",
    "    if pad_w%2 == 1:\n",
    "        pad_w2 += 1\n",
    "\n",
    "    #padding along height\n",
    "    pad_h = kstride[-2] - ((isize[-2]-ksize[-2])%kstride[-2])\n",
    "    pad_h1 = pad_h2 = pad_h//2\n",
    "    if pad_h%2 == 1:\n",
    "        pad_h2 += 1\n",
    "\n",
    "    pad = (pad_w1, pad_w2, pad_h1, pad_h2)\n",
    "    return F.pad(input, pad, \"constant\", 0).to(device)"
   ]
  },
  {
   "cell_type": "code",
   "execution_count": 12,
   "metadata": {
    "ExecuteTime": {
     "end_time": "2018-06-24T21:36:40.018072Z",
     "start_time": "2018-06-24T21:28:09.856Z"
    },
    "colab": {
     "autoexec": {
      "startup": false,
      "wait_interval": 0
     }
    },
    "colab_type": "code",
    "id": "h8vSNw2g0CGD"
   },
   "outputs": [],
   "source": [
    "def reduce_mask_pool2d(mask, ksize, kstride, thresh = 0.2, avg= True):\n",
    "    '''\n",
    "    Reduce mask operation:Takes a binary mask as input and after performing \n",
    "    avg pooling or max pooling selects active blocksand return indices of \n",
    "    the active blocks\n",
    "\n",
    "    Inputs:\n",
    "    :param mask:  torch tensor  #[N,H,W] binary mask, where N is batch diemension, W, H are width and height of mask\n",
    "    :param kszie:  [list, tuple]  #[h,w] Size of kernel to perform pooling\n",
    "    :param kstride:  [list, tuple]  #[h_stride,w_stride] Stride of Kernel\n",
    "    :param thresh:  int   #applicable for avg pooling\n",
    "    :param avg:  bool   #Avg pooling or max pooling \n",
    "\n",
    "    Require_grad = Fasle\n",
    "\n",
    "    Output:\n",
    "        indicies of size [B, 3] where B is the number of active blocks \n",
    "        and 3 corresponds to [N, y, x] where N is batch size, and (y,x) is the \n",
    "        co-ordinates of the \"centre\" of the block.\n",
    "        indicies is a torch tensor\n",
    "    Note:\n",
    "        padding is done automatically\n",
    "    '''\n",
    "\n",
    "    assert torch.is_tensor(mask) == True, 'Expect mask to be a pytorch tensor'\n",
    "    isize = list(mask.size())\n",
    "    assert len(mask.size()) == 3 , 'Expect input rank = 3'\n",
    "    assert type(ksize) in [list, tuple], 'Expect `ksize` to be list or tuple'\n",
    "    assert type(kstride) in [list, tuple], 'Expect `kstride` to be list or tuple'\n",
    "    assert len(kstride) == 2 and len(ksize) == 2, 'Expect length of kstride and ksize to be 2'\n",
    "    assert type(thresh) in [int, float], 'Expect `thresh` to be int or float'\n",
    "\n",
    "    mask = mask.unsqueeze(1)\n",
    "\n",
    "    if avg:\n",
    "        temp = F.avg_pool2d(input = mask, kernel_size = ksize, stride = kstride, padding = 0).to(device).squeeze()\n",
    "        indicesm = torch.where(temp > thresh, torch.ones_like(temp).to(device), torch.zeros_like(temp).to(device)).int()\n",
    "        indices = (indicesm != 0).nonzero().to(device)\n",
    "        return indices\n",
    "    else:\n",
    "        temp = F.max_pool2d(input = mask, kernel_size = ksize, stride = kstride, padding = 0).to(device).squeeze()\n",
    "        indicesm = torch.where(temp > thresh, torch.ones_like(temp).to(device), torch.zeros_like(temp).to(device)).int()\n",
    "        indices = (indicesm != 0).nonzero().to(device)\n",
    "        return indices"
   ]
  },
  {
   "cell_type": "code",
   "execution_count": 13,
   "metadata": {
    "ExecuteTime": {
     "end_time": "2018-06-24T21:36:40.033191Z",
     "start_time": "2018-06-24T21:28:12.986Z"
    },
    "colab": {
     "autoexec": {
      "startup": false,
      "wait_interval": 0
     }
    },
    "colab_type": "code",
    "id": "0-NkaloR01jE"
   },
   "outputs": [],
   "source": [
    "def mask_pool2d(mask):\n",
    "    '''\n",
    "    mask downsample operation:Takes a binary mask as input and performs max\n",
    "    pooling to reduce its size \n",
    "\n",
    "    Inputs:\n",
    "    :param mask: torch tensor size[N,H,W] binary mask, where N is batch diemension, W, H are width and height of mask\n",
    "\n",
    "    Outputs: A binary torch tensor of half the input mask size\n",
    "    '''\n",
    "    assert torch.is_tensor(mask) == True, 'Expect mask to be a pytorch tensor'\n",
    "    isize = list(mask.size())\n",
    "    assert len(mask.size()) == 3 , 'Expect input rank = 3'\n",
    "\n",
    "    mask = mask.unsqueeze(1)\n",
    "    temp = F.max_pool2d(input = mask, kernel_size = [2,2], stride = [2,2], padding = 0).to(device).squeeze().float()\n",
    "    temp.require_grad = False\n",
    "    return temp"
   ]
  },
  {
   "cell_type": "code",
   "execution_count": 14,
   "metadata": {
    "ExecuteTime": {
     "end_time": "2018-06-24T21:36:40.050174Z",
     "start_time": "2018-06-24T21:28:16.243Z"
    },
    "colab": {
     "autoexec": {
      "startup": false,
      "wait_interval": 0
     }
    },
    "colab_type": "code",
    "id": "1CefJdko04HE"
   },
   "outputs": [],
   "source": [
    "#Functions gather and scatter in  nn.Module class to allow easier flow of gradients\n",
    "\n",
    "class gather2dc(nn.Module):\n",
    "    def __init__(self, ksize, kstride):\n",
    "        super(gather2dc, self).__init__()\n",
    "        '''\n",
    "        gather operation: Gathers the tile blocks (input) from the given indicies.\n",
    "\n",
    "        Inputs:\n",
    "        :param indices: indicies of size [B, 3] where B is the number of active blocks.\n",
    "        :param kstride:  [list, tuple]  #[h_stride,w_stride] Stride of Kernel\n",
    "        :param kszie:  [list, tuple]  #[h,w] Size of kernel to perform pooling        \n",
    "\n",
    "        Outputs: Gathered blocks\n",
    "        '''\n",
    "        assert type(kstride) in [list, tuple], 'Expect `kstride` to be list or tuple'\n",
    "        assert len(kstride) == 2 and len(ksize) == 2, 'Expect length of kstride and ksize to be 2'\n",
    "        self.ksize = ksize\n",
    "        self.kstride = kstride\n",
    "\n",
    "    def forward(self, input, indices):\n",
    "        gathered = input[indices[0][0]:indices[0][0]+1, :, indices[0][1]*self.kstride[0]:indices[0][1]*self.kstride[0]+self.ksize[0], indices[0][2]*self.kstride[1]: indices[0][2]*self.kstride[1]+self.ksize[1]]\n",
    "        for B, h0, w0 in indices[1:]:\n",
    "            gathered = torch.cat((gathered, input[B:B+1, :, h0*self.kstride[0]:h0*self.kstride[0]+self.ksize[0], w0*self.kstride[1]: w0*self.kstride[1]+self.ksize[1]]), 0)\n",
    "        return gathered\n",
    "\n",
    "\n",
    "class scatter2dc(nn.Module):\n",
    "    def __init__(self, kstride):\n",
    "        super(scatter2dc, self).__init__()\n",
    "        '''\n",
    "        scatter operation: Scatters the results of the operation back onto the input blocks given by gathered.\n",
    "\n",
    "        Inputs:\n",
    "        :param gathered: varies according to each batch of the input.\n",
    "        :param kstride:  [list, tuple]  #[h_stride,w_stride] Stride of Kernel    \n",
    "\n",
    "        Outputs: Updated Input\n",
    "        '''\n",
    "        assert type(kstride) in [list, tuple], 'Expect `kstride` to be list or tuple'\n",
    "        self.kstride = kstride\n",
    "\n",
    "    def forward(self, input, gathered, indices):\n",
    "        gsize = list(gathered.size())\n",
    "        count_index = 0\n",
    "        for B, h0, w0 in indices:\n",
    "                input[B, :, h0*self.kstride[0]:h0*self.kstride[0]+gsize[2], w0*self.kstride[1]: w0*self.kstride[1]+gsize[3]] = gathered[count_index]\n",
    "                count_index +=1\n",
    "        return input"
   ]
  },
  {
   "cell_type": "markdown",
   "metadata": {},
   "source": [
    "### Network Architecture"
   ]
  },
  {
   "cell_type": "code",
   "execution_count": 15,
   "metadata": {
    "ExecuteTime": {
     "end_time": "2018-06-24T17:14:42.950424Z",
     "start_time": "2018-06-24T17:14:42.927824Z"
    },
    "colab": {
     "autoexec": {
      "startup": false,
      "wait_interval": 0
     }
    },
    "colab_type": "code",
    "id": "JA1bA6Nw07Cz"
   },
   "outputs": [],
   "source": [
    "class sparse_block(nn.Module):\n",
    "    def __init__(self, inp_ch, out_ch, ksize, kstride, block_layers = None, thresh = 0.2):\n",
    "        super(sparse_block, self).__init__()\n",
    "\n",
    "        assert type(block_layers) in [type(None), torch.nn.modules.container.Sequential], 'Expect block_layers as None or torch.nn.Sequential() object' \n",
    "        assert type(ksize) in [list, tuple], 'Expect `ksize` to be list or tuple'\n",
    "        assert type(kstride) in [list, tuple], 'Expect `kstride` to be list or tuple'\n",
    "        assert len(kstride) == 2 and len(ksize) == 2, 'Expect length of kstride and ksize to be 2'\n",
    "        assert type(inp_ch) in [int, float], 'inp_ch should be int or float'\n",
    "        assert type(out_ch) in [int, float], 'out_ch should be int or float'\n",
    "        self.ksize = ksize\n",
    "        self.kstride = kstride\n",
    "        self.thresh = thresh\n",
    "        self.g = gather2dc(ksize, kstride)\n",
    "        self.c = scatter2dc(kstride)\n",
    "        self.channel_control =  nn.Sequential(\n",
    "            nn.Conv2d(inp_ch, out_ch, 1, padding = 0),\n",
    "            nn.ReLU(),\n",
    "            nn.BatchNorm2d(out_ch)).to(device)\n",
    "\n",
    "        if block_layers == None:\n",
    "            self.operation = nn.Sequential(\n",
    "                nn.Conv2d(out_ch, 2*out_ch, 1, padding = 0),\n",
    "                nn.ReLU(),\n",
    "                nn.BatchNorm2d(2*out_ch),\n",
    "                nn.Conv2d(2*out_ch, 2*out_ch, 3, padding = 1),\n",
    "                nn.ReLU(),\n",
    "                nn.BatchNorm2d(2*out_ch), \n",
    "                nn.Conv2d(2*out_ch, out_ch, 1, padding = 0),\n",
    "                nn.ReLU(),\n",
    "                nn.BatchNorm2d(out_ch)\n",
    "                ).to(device)\n",
    "        else:\n",
    "            self.operation = block_layers.to(device)\n",
    "\n",
    "    def forward(self, x, mask):\n",
    "        x = self.channel_control(x)\n",
    "        mask = pad_input(mask, self.ksize, self.kstride)\n",
    "        mask.require_grad = False\n",
    "        x = pad_input(x, self.ksize, self.kstride)\n",
    "        x.require_grad = True\n",
    "\n",
    "        indices = reduce_mask_pool2d(mask, self.ksize, self.kstride, self.thresh, avg= True)\n",
    "        gathered = self.g(x, indices)\n",
    "        gathered = self.operation(gathered)\n",
    "        x = self.c(x, gathered, indices)\n",
    "        return x"
   ]
  },
  {
   "cell_type": "code",
   "execution_count": 16,
   "metadata": {
    "ExecuteTime": {
     "end_time": "2018-06-24T17:16:14.666341Z",
     "start_time": "2018-06-24T17:16:14.647801Z"
    },
    "colab": {
     "autoexec": {
      "startup": false,
      "wait_interval": 0
     }
    },
    "colab_type": "code",
    "id": "s7FzWm-S0CIM"
   },
   "outputs": [],
   "source": [
    "class net(nn.Module):\n",
    "    def __init__(self, inp_ch, num_classes):\n",
    "        super(net, self).__init__()\n",
    "        self.sparse1 = sparse_block(inp_ch, 16, [5,5], [4,4], thresh = 0.20)\n",
    "        self.mp1 = nn.MaxPool2d(2)\n",
    "        self.sparse2 = sparse_block(16, 32, [5,5], [4,4], thresh = 0.20)\n",
    "        self.mp2 = nn.MaxPool2d(2)\n",
    "        self.fc = nn.Sequential(\n",
    "            nn.Linear(2*128*128, 100),\n",
    "            nn.ReLU(),\n",
    "            nn.Linear(100, num_classes-1),\n",
    "            nn.Softmax(dim=1)\n",
    "            #nn.Sigmoid()\n",
    "            )\n",
    "\n",
    "    def forward(self, x, mask1):\n",
    "        x = self.sparse1(x, mask1)\n",
    "        x = self.mp1(x)\n",
    "        mask2 = mask_pool2d(mask1)\n",
    "        x = self.sparse2(x, mask2)\n",
    "        x = self.mp2(x)\n",
    "        #print(x.size()) \n",
    "        x = x.view(batch_size, -1)\n",
    "        x = self.fc(x)\n",
    "        return x"
   ]
  },
  {
   "cell_type": "code",
   "execution_count": 17,
   "metadata": {
    "ExecuteTime": {
     "end_time": "2018-06-24T17:33:59.247670Z",
     "start_time": "2018-06-24T17:33:59.238562Z"
    }
   },
   "outputs": [
    {
     "data": {
      "text/plain": [
       "<bound method Module.parameters of net(\n",
       "  (sparse1): sparse_block(\n",
       "    (g): gather2dc()\n",
       "    (c): scatter2dc()\n",
       "    (channel_control): Sequential(\n",
       "      (0): Conv2d(3, 16, kernel_size=(1, 1), stride=(1, 1))\n",
       "      (1): ReLU()\n",
       "      (2): BatchNorm2d(16, eps=1e-05, momentum=0.1, affine=True, track_running_stats=True)\n",
       "    )\n",
       "    (operation): Sequential(\n",
       "      (0): Conv2d(16, 32, kernel_size=(1, 1), stride=(1, 1))\n",
       "      (1): ReLU()\n",
       "      (2): BatchNorm2d(32, eps=1e-05, momentum=0.1, affine=True, track_running_stats=True)\n",
       "      (3): Conv2d(32, 32, kernel_size=(3, 3), stride=(1, 1), padding=(1, 1))\n",
       "      (4): ReLU()\n",
       "      (5): BatchNorm2d(32, eps=1e-05, momentum=0.1, affine=True, track_running_stats=True)\n",
       "      (6): Conv2d(32, 16, kernel_size=(1, 1), stride=(1, 1))\n",
       "      (7): ReLU()\n",
       "      (8): BatchNorm2d(16, eps=1e-05, momentum=0.1, affine=True, track_running_stats=True)\n",
       "    )\n",
       "  )\n",
       "  (mp1): MaxPool2d(kernel_size=2, stride=2, padding=0, dilation=1, ceil_mode=False)\n",
       "  (sparse2): sparse_block(\n",
       "    (g): gather2dc()\n",
       "    (c): scatter2dc()\n",
       "    (channel_control): Sequential(\n",
       "      (0): Conv2d(16, 32, kernel_size=(1, 1), stride=(1, 1))\n",
       "      (1): ReLU()\n",
       "      (2): BatchNorm2d(32, eps=1e-05, momentum=0.1, affine=True, track_running_stats=True)\n",
       "    )\n",
       "    (operation): Sequential(\n",
       "      (0): Conv2d(32, 64, kernel_size=(1, 1), stride=(1, 1))\n",
       "      (1): ReLU()\n",
       "      (2): BatchNorm2d(64, eps=1e-05, momentum=0.1, affine=True, track_running_stats=True)\n",
       "      (3): Conv2d(64, 64, kernel_size=(3, 3), stride=(1, 1), padding=(1, 1))\n",
       "      (4): ReLU()\n",
       "      (5): BatchNorm2d(64, eps=1e-05, momentum=0.1, affine=True, track_running_stats=True)\n",
       "      (6): Conv2d(64, 32, kernel_size=(1, 1), stride=(1, 1))\n",
       "      (7): ReLU()\n",
       "      (8): BatchNorm2d(32, eps=1e-05, momentum=0.1, affine=True, track_running_stats=True)\n",
       "    )\n",
       "  )\n",
       "  (mp2): MaxPool2d(kernel_size=2, stride=2, padding=0, dilation=1, ceil_mode=False)\n",
       "  (fc): Sequential(\n",
       "    (0): Linear(in_features=32768, out_features=100, bias=True)\n",
       "    (1): ReLU()\n",
       "    (2): Linear(in_features=100, out_features=1, bias=True)\n",
       "    (3): Softmax()\n",
       "  )\n",
       ")>"
      ]
     },
     "execution_count": 17,
     "metadata": {},
     "output_type": "execute_result"
    }
   ],
   "source": [
    "# Creating model template\n",
    "model = net(img_channel, num_classes).to(device)\n",
    "\n",
    "model.parameters"
   ]
  },
  {
   "cell_type": "markdown",
   "metadata": {
    "heading_collapsed": true
   },
   "source": [
    "### Loss Function"
   ]
  },
  {
   "cell_type": "code",
   "execution_count": 18,
   "metadata": {
    "ExecuteTime": {
     "end_time": "2018-06-24T17:16:56.851247Z",
     "start_time": "2018-06-24T17:16:56.752104Z"
    },
    "colab": {
     "autoexec": {
      "startup": false,
      "wait_interval": 0
     }
    },
    "colab_type": "code",
    "hidden": true,
    "id": "Hxk9s2eJ0CKt"
   },
   "outputs": [],
   "source": [
    "# Using Binary Cross entropy loss\n",
    "criterion = nn.BCELoss()\n",
    "# Adam optimizer\n",
    "optimizer = optim.Adam(model.parameters(), lr = learning_rate)"
   ]
  },
  {
   "cell_type": "markdown",
   "metadata": {
    "heading_collapsed": true
   },
   "source": [
    "### Model Training"
   ]
  },
  {
   "cell_type": "code",
   "execution_count": 46,
   "metadata": {
    "ExecuteTime": {
     "end_time": "2018-06-24T17:26:47.339853Z",
     "start_time": "2018-06-24T17:19:01.567034Z"
    },
    "colab": {
     "autoexec": {
      "startup": false,
      "wait_interval": 0
     },
     "base_uri": "https://localhost:8080/",
     "height": 53
    },
    "colab_type": "code",
    "executionInfo": {
     "elapsed": 1788,
     "status": "ok",
     "timestamp": 1529468803557,
     "user": {
      "displayName": "Ashwin Kulkarni",
      "photoUrl": "https://lh3.googleusercontent.com/a/default-user=s128",
      "userId": "106069713485154044351"
     },
     "user_tz": -330
    },
    "id": "coQPKW_P0CPA",
    "outputId": "4fd888de-fbe8-42b9-fca2-cc02d2c3fa91"
   },
   "outputs": [
    {
     "name": "stdout",
     "output_type": "stream",
     "text": [
      "\n",
      "Epoch =  1\n",
      "Step [9/10], Loss: 15.3506 \n",
      "Epoch =  2\n",
      "Step [9/10], Loss: 15.3506 \n",
      "Epoch =  3\n",
      "Step [9/10], Loss: 15.3506 \n",
      "Epoch =  4\n",
      "Step [9/10], Loss: 15.3506 \n",
      "Epoch =  5\n",
      "Step [9/10], Loss: 15.3506 "
     ]
    }
   ],
   "source": [
    "# training loop\n",
    "for epoch in range(1, num_epochs+1):\n",
    "    epoch_loss = 0\n",
    "    print(\"\\nEpoch = \", epoch)\n",
    "    z = 0 # Steps in a single loop\n",
    "    for i in range(len(X_train)//batch_size):\n",
    "        x = X_train[z:z+batch_size, :, :, :]\n",
    "        y = Y_train[z:z+batch_size]\n",
    "        mask = Mask_t[z:z+batch_size, :, :]\n",
    "        z += batch_size\n",
    "        \n",
    "        #Forward pass\n",
    "        output = model(x, mask)\n",
    "        loss = criterion(output, y)\n",
    "        \n",
    "        #Backward pass\n",
    "        optimizer.zero_grad() # clearning previous stored gradients.\n",
    "        loss.backward()\n",
    "        optimizer.step()\n",
    "        epoch_loss += loss.item()\n",
    "        #print(epoch_loss)\n",
    "        if z%10 == 0:\n",
    "            print('\\rStep [{}/{}], Loss: {:.4f}'.format(i, len(X_train)//batch_size, epoch_loss/i), end = ' ')\n"
   ]
  },
  {
   "cell_type": "markdown",
   "metadata": {
    "colab": {
     "autoexec": {
      "startup": false,
      "wait_interval": 0
     }
    },
    "colab_type": "code",
    "id": "eCr9pk1jV_UX"
   },
   "source": [
    "### Model Compare"
   ]
  },
  {
   "cell_type": "markdown",
   "metadata": {
    "ExecuteTime": {
     "end_time": "2018-06-23T13:49:22.204488Z",
     "start_time": "2018-06-23T13:48:54.986373Z"
    }
   },
   "source": [
    "The above code is just to give an idea on how to implement sbnet.\n",
    "\n",
    "I have tried the same code on a different datasets. Classifying between a car and a pedestrian.\n",
    "Click this [link](https://github.com/Sharwon/EIP/blob/master/final_project/sbnet_Binary_Classifier.ipynb) to check it out.  \n",
    "Here, the accuracy as well as the time constraints are being shown."
   ]
  },
  {
   "cell_type": "markdown",
   "metadata": {
    "heading_collapsed": true
   },
   "source": [
    "## Experiments mentioned in the paper"
   ]
  },
  {
   "cell_type": "markdown",
   "metadata": {
    "hidden": true
   },
   "source": [
    "The authors have benchmarked the result with the sub-manifold algorithm using the same resources.([KITTI dataset]())    \n",
    "1) Synthetic masks generated using the top-left sub-region of input images to measure the practical upper bound on speed-up.  \n",
    "2) Road map masks obtained from our offline map data in TOR4D.  \n",
    "3) Predicted masks obtained from the outputs of PSPNet(gives better masks than background subtraction).  \n",
    "\n",
    "Compared detection accuracy with two baselines:  \n",
    "1) Dense: a dense network trained on all detection groundtruth.  \n",
    "2) Dense w/ Road Mask: a dense network trained on detection groundtruth within the road mask, i.e. treating regions outside the road as the ignore region. \n",
    "\n",
    "![results](https://github.com/Sharwon/EIP/raw/master/final_project/images/result.png)\n",
    "\n",
    "---"
   ]
  },
  {
   "cell_type": "markdown",
   "metadata": {},
   "source": [
    "## Conclusion"
   ]
  },
  {
   "cell_type": "markdown",
   "metadata": {},
   "source": [
    "- Sbnet works better on applications like object detection and segmentation.\n",
    "- In this notebook, we tried it for classification. Also, try augmentation for both image and mask.\n",
    "- This is not limited to convolution neural networks, cause sparsity is present ubiquitously. So it can be tried on other networks as well. The fundamental problem would be to come up with a mask for architectures like Deep LSTM's (language models).\n",
    "- Personally, I would like to test this architecture on coco and kitti dataset. And, replicate the results mentioned in the paper.\n",
    "- I think this will be pretty useful in tasks where we have to localizing objects on a 3d plane (fast inference), especially in UAV applications. And, help us in running computation hungry deep learning models, locally on a embedded platform."
   ]
  },
  {
   "cell_type": "markdown",
   "metadata": {},
   "source": [
    "### Logs"
   ]
  },
  {
   "cell_type": "markdown",
   "metadata": {},
   "source": [
    "Future prospects, are to complete these logs.\n",
    "\n",
    "1. Compiling the sbnet module locally (My laptop: GForce 920m).[link](https://github.com/uber/sbnet/)  \n",
    " -  Sbnet didn't compile, needs moder nvidia architectures like volta.  \n",
    " -  Tensorflow ops interfacing.  \n",
    "2. Generating a dataset(opencv).[link](https://github.com/Sharwon/EIP/blob/master/final_project/opencv_dataset.py)\n",
    "3. Training resnet model with the generated dataset.[link](https://github.com/Sharwon/EIP/blob/master/final_project/resnet_binay_image_classifier.ipynb)\n",
    "4. Compiling SBnet in Google Colab.[link](https://github.com/Sharwon/EIP/blob/master/final_project/sbnet-new.zip)  \n",
    "5. Aws sbnet tensorflow compilation.[link]() (Check out sbnet-new)  \n",
    "6. **RESNET SBNET** tensorflow aws.[link](https://github.com/Sharwon/EIP/blob/master/final_project/resnet_sbnet_full.ipynb)  \n",
    "7. Google colab sbnet pytorch.[link](https://github.com/Sharwon/EIP/blob/master/final_project/sbnet_Binary_Classifier.ipynb)  \n",
    "\n",
    "This [document](https://github.com/Sharwon/EIP/blob/master/project.adoc) shows my work flow. Most of my work is recorded here."
   ]
  },
  {
   "cell_type": "markdown",
   "metadata": {},
   "source": [
    "### References"
   ]
  },
  {
   "cell_type": "markdown",
   "metadata": {},
   "source": [
    "1.[SBnet white paper](https://arxiv.org/abs/1801.02108)  \n",
    "2.[Sbnet gihub repo](https://github.com/uber/sbnet/)  \n",
    "3.[Sbnet blog](https://eng.uber.com/sbnet/)  \n",
    "4.[Submanifold white paper](https://arxiv.org/abs/1706.01307)  \n",
    "5.[Tensorflow-ops](https://www.tensorflow.org/extend/adding_an_op)  "
   ]
  }
 ],
 "metadata": {
  "accelerator": "GPU",
  "colab": {
   "collapsed_sections": [],
   "default_view": {},
   "name": "Copy_of_SBNET_MNIST_(1).ipynb",
   "provenance": [
    {
     "file_id": "1tUoOxmp-Eo3mXMAwlcRx5ujf39c7Ddbl",
     "timestamp": 1529298390179
    },
    {
     "file_id": "1uvz9lNwk7K87vZdvzOIfO4y7UMiSoLDO",
     "timestamp": 1529295931055
    }
   ],
   "version": "0.3.2",
   "views": {}
  },
  "hide_input": false,
  "kernelspec": {
   "display_name": "Python 3",
   "language": "python",
   "name": "python3"
  },
  "language_info": {
   "codemirror_mode": {
    "name": "ipython",
    "version": 3
   },
   "file_extension": ".py",
   "mimetype": "text/x-python",
   "name": "python",
   "nbconvert_exporter": "python",
   "pygments_lexer": "ipython3",
   "version": "3.6.5"
  },
  "varInspector": {
   "cols": {
    "lenName": 16,
    "lenType": 16,
    "lenVar": 40
   },
   "kernels_config": {
    "python": {
     "delete_cmd_postfix": "",
     "delete_cmd_prefix": "del ",
     "library": "var_list.py",
     "varRefreshCmd": "print(var_dic_list())"
    },
    "r": {
     "delete_cmd_postfix": ") ",
     "delete_cmd_prefix": "rm(",
     "library": "var_list.r",
     "varRefreshCmd": "cat(var_dic_list()) "
    }
   },
   "types_to_exclude": [
    "module",
    "function",
    "builtin_function_or_method",
    "instance",
    "_Feature"
   ],
   "window_display": false
  }
 },
 "nbformat": 4,
 "nbformat_minor": 2
}

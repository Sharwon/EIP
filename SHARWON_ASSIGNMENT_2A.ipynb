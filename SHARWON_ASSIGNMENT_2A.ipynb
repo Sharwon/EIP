{
 "cells": [
  {
   "cell_type": "markdown",
   "metadata": {
    "colab_type": "text",
    "id": "IHuIdw_JdoJ_"
   },
   "source": [
    "<!--\n",
    "Python:\n",
    "  Simple data types\n",
    "    integer, float, string\n",
    "  Compound data types\n",
    "    tuple, list, dictionary, set\n",
    "  Flow control\n",
    "    if, while, for, try, with\n",
    "  Comprehensions, generators\n",
    "  Functions\n",
    "  Classes\n",
    "  Standard library\n",
    "    json, collections, itertools\n",
    "\n",
    "Numpy\n",
    "-->\n",
    "\n",
    "This tutorial was contributed by [Justin Johnson](http://cs.stanford.edu/people/jcjohns/).\n",
    "\n",
    "We will use the Python programming language for all assignments in this course.\n",
    "Python is a great general-purpose programming language on its own, but with the\n",
    "help of a few popular libraries (numpy, scipy, matplotlib) it becomes a powerful\n",
    "environment for scientific computing.\n",
    "\n",
    "We expect that many of you will have some experience with Python and numpy;\n",
    "for the rest of you, this section will serve as a quick crash course both on\n",
    "the Python programming language and on the use of Python for scientific\n",
    "computing.\n",
    "\n",
    "Some of you may have previous knowledge in Matlab, in which case we also recommend the [numpy for Matlab users](http://wiki.scipy.org/NumPy_for_Matlab_Users) page.\n",
    "\n",
    "You can also find an [IPython notebook version of this tutorial here](https://github.com/kuleshov/cs228-material/blob/master/tutorials/python/cs228-python-tutorial.ipynb) created by [Volodymyr Kuleshov](http://web.stanford.edu/~kuleshov/) and [Isaac Caswell](https://symsys.stanford.edu/viewing/symsysaffiliate/21335) for [CS 228](http://cs.stanford.edu/~ermon/cs228/index.html).\n",
    "\n",
    "Table of contents:\n",
    "\n",
    "- [Python](#python)\n",
    "  - [Basic data types](#python-basic)\n",
    "  - [Containers](#python-containers)\n",
    "      - [Lists](#python-lists)\n",
    "      - [Dictionaries](#python-dicts)\n",
    "      - [Sets](#python-sets)\n",
    "      - [Tuples](#python-tuples)\n",
    "  - [Functions](#python-functions)\n",
    "  - [Classes](#python-classes)\n",
    "- [Numpy](#numpy)\n",
    "  - [Arrays](#numpy-arrays)\n",
    "  - [Array indexing](#numpy-array-indexing)\n",
    "  - [Datatypes](#numpy-datatypes)\n",
    "  - [Array math](#numpy-math)\n",
    "  - [Broadcasting](#numpy-broadcasting)\n",
    "- [SciPy](#scipy)\n",
    "  - [Image operations](#scipy-image)\n",
    "  - [MATLAB files](#scipy-matlab)\n",
    "  - [Distance between points](#scipy-dist)\n",
    "- [Matplotlib](#matplotlib)\n",
    "  - [Plotting](#matplotlib-plotting)\n",
    "  - [Subplots](#matplotlib-subplots)\n",
    "  - [Images](#matplotlib-images)\n",
    "\n",
    "<a name='python'></a>\n",
    "\n",
    "## Python\n",
    "\n",
    "Python is a high-level, dynamically typed multiparadigm programming language.\n",
    "Python code is often said to be almost like pseudocode, since it allows you\n",
    "to express very powerful ideas in very few lines of code while being very\n",
    "readable. As an example, here is an implementation of the classic quicksort\n",
    "algorithm in Python:"
   ]
  },
  {
   "cell_type": "code",
   "execution_count": null,
   "metadata": {
    "colab": {
     "autoexec": {
      "startup": false,
      "wait_interval": 0
     }
    },
    "colab_type": "code",
    "id": "hHt5dKp0doKF",
    "outputId": "cff2cd98-68b3-4fcf-b997-e6c9fdc2c55c"
   },
   "outputs": [],
   "source": [
    "def quicksort(Mlblr_arr):\n",
    "    \n",
    "    if len(Mlblr_arr) <= 1:\n",
    "        return Mlblr_arr\n",
    "\n",
    "    Eip_pivot = Mlblr_arr[len(Mlblr_arr) // 2]\n",
    "    \n",
    "    Mlblr_left = [Eip_x for Eip_x in Mlblr_arr if Eip_x < Eip_pivot]\n",
    "    Mlblr_middle = [Eip_x for Eip_x in Mlblr_arr if Eip_x == Eip_pivot]\n",
    "    Mlblr_right = [Eip_x for Eip_x in Mlblr_arr if Eip_x > Eip_pivot]\n",
    "    \n",
    "    return quicksort(Mlblr_left) + Mlblr_middle + quicksort(Mlblr_right)\n",
    "\n",
    "print(quicksort([3,3,6,8,11,1,2,1]))\n",
    "# Prints \"[1, 1, 2, 3, 3, 6, 8, 11]\""
   ]
  },
  {
   "cell_type": "markdown",
   "metadata": {
    "colab_type": "text",
    "id": "RaU5iI__doKe"
   },
   "source": [
    "### Python versions\n",
    "There are currently two different supported versions of Python, 2.7 and 3.5.\n",
    "Somewhat confusingly, Python 3.0 introduced many backwards-incompatible changes\n",
    "to the language, so code written for 2.7 may not work under 3.5 and vice versa.\n",
    "For this class all code will use Python 3.5.\n",
    "\n",
    "You can check your Python version at the command line by running\n",
    "`python --version`.\n",
    "\n",
    "<a name='python-basic'></a>\n",
    "\n",
    "### Basic data types\n",
    "\n",
    "Like most languages, Python has a number of basic types including integers,\n",
    "floats, booleans, and strings. These data types behave in ways that are\n",
    "familiar from other programming languages.\n",
    "\n",
    "**Numbers:** Integers and floats work as you would expect from other languages:"
   ]
  },
  {
   "cell_type": "code",
   "execution_count": null,
   "metadata": {
    "colab": {
     "autoexec": {
      "startup": false,
      "wait_interval": 0
     }
    },
    "colab_type": "code",
    "id": "n3xhXUAXdoKi",
    "outputId": "2f70e264-03e0-448a-e5fe-6722cfb5eef3"
   },
   "outputs": [],
   "source": [
    "Mlblr_x = 9\n",
    "print(type(Mlblr_x)) # Prints \"<class 'int'>\"\n",
    "print(Mlblr_x)       # Prints \"3\"\n",
    "print(Mlblr_x + 1)   # Addition; prints \"4\"\n",
    "print(Mlblr_x - 1)   # Subtraction; prints \"2\"\n",
    "print(Mlblr_x * 2)   # Multiplication; prints \"6\"\n",
    "print(Mlblr_x ** 2)  # Exponentiation; prints \"9\"\n",
    "Mlblr_x += 1\n",
    "print(Mlblr_x)  # Prints \"4\"\n",
    "Mlblr_x *= 2\n",
    "print(Mlblr_x)  # Prints \"8\"\n",
    "Mlblr_y = 2.5\n",
    "print(type(Mlblr_y)) # Prints \"<class 'float'>\"\n",
    "print(Mlblr_y, Mlblr_y + 1, Mlblr_y * 2, Mlblr_y ** 2) # Prints \"2.5 3.5 5.0 6.25\""
   ]
  },
  {
   "cell_type": "markdown",
   "metadata": {
    "colab_type": "text",
    "id": "PVHrsaIAdoK2"
   },
   "source": [
    "Note that unlike many languages, Python does not have unary increment (`x++`)\n",
    "or decrement (`x--`) operators.\n",
    "\n",
    "Python also has built-in types for complex numbers;\n",
    "you can find all of the details\n",
    "[in the documentation](https://docs.python.org/3.5/library/stdtypes.html#numeric-types-int-float-complex).\n",
    "\n",
    "**Booleans:** Python implements all of the usual operators for Boolean logic,\n",
    "but uses English words rather than symbols (`&&`, `||`, etc.):"
   ]
  },
  {
   "cell_type": "code",
   "execution_count": null,
   "metadata": {
    "colab": {
     "autoexec": {
      "startup": false,
      "wait_interval": 0
     }
    },
    "colab_type": "code",
    "id": "0k7VIqa9doK5",
    "outputId": "ce06e4d5-e554-49ad-a6c3-08d9f360f1af"
   },
   "outputs": [
    {
     "name": "stdout",
     "output_type": "stream",
     "text": [
      "<type 'bool'>\n",
      "False\n",
      "True\n",
      "False\n",
      "True\n"
     ]
    }
   ],
   "source": [
    "Eip_t = True\n",
    "Eip_f = False\n",
    "print(type(Eip_t)) # Prints \"<class 'bool'>\"\n",
    "print(Eip_t and Eip_f) # Logical AND; prints \"False\"\n",
    "print(Eip_t or Eip_f)  # Logical OR; prints \"True\"\n",
    "print(not Eip_t)   # Logical NOT; prints \"False\"\n",
    "print(Eip_t != Eip_f)  # Logical XOR; prints \"True\""
   ]
  },
  {
   "cell_type": "markdown",
   "metadata": {
    "colab_type": "text",
    "id": "MjRqfg74doLH"
   },
   "source": [
    "**Strings:** Python has great support for strings:"
   ]
  },
  {
   "cell_type": "code",
   "execution_count": null,
   "metadata": {
    "colab": {
     "autoexec": {
      "startup": false,
      "wait_interval": 0
     }
    },
    "colab_type": "code",
    "id": "K-maUxqbdoLL",
    "outputId": "3243a732-5d60-417c-9df1-148ecc4aee81"
   },
   "outputs": [
    {
     "name": "stdout",
     "output_type": "stream",
     "text": [
      "hello\n",
      "5\n",
      "hello world\n",
      "hello world 12\n"
     ]
    }
   ],
   "source": [
    "Mlblr_hello = 'hello'    # String literals can use single quotes\n",
    "Mlblr_world = \"world\"    # or double quotes; it does not matter.\n",
    "print(Mlblr_hello)       # Prints \"hello\"\n",
    "print(len(Mlblr_hello))  # String length; prints \"5\"\n",
    "Eip_hw = Mlblr_hello + ' ' + Mlblr_world  # String concatenation\n",
    "print(Eip_hw)  # prints \"hello world\"\n",
    "Eip_hw12 = '%s %s %d' % (Mlblr_hello, Mlblr_world, 12)  # sprintf style string formatting\n",
    "print(Eip_hw12)  # prints \"hello world 12\""
   ]
  },
  {
   "cell_type": "markdown",
   "metadata": {
    "colab_type": "text",
    "id": "EI1Bsr9fdoLc"
   },
   "source": [
    "String objects have a bunch of useful methods; for example:"
   ]
  },
  {
   "cell_type": "code",
   "execution_count": null,
   "metadata": {
    "colab": {
     "autoexec": {
      "startup": false,
      "wait_interval": 0
     }
    },
    "colab_type": "code",
    "id": "nYAXAQFKdoLf",
    "outputId": "4b5c47ff-d35e-472b-fedd-d3c1527aec0b"
   },
   "outputs": [
    {
     "name": "stdout",
     "output_type": "stream",
     "text": [
      "Hello\n",
      "HELLO\n",
      "  hello\n",
      " hello \n",
      "he(ell)(ell)o\n",
      "world\n"
     ]
    }
   ],
   "source": [
    "Eip_s = \"hello\"\n",
    "print(Eip_s.capitalize())  # Capitalize a string; prints \"Hello\"\n",
    "print(Eip_s.upper())       # Convert a string to uppercase; prints \"HELLO\"\n",
    "print(Eip_s.rjust(7))      # Right-justify a string, padding with spaces; prints \"  hello\"\n",
    "print(Eip_s.center(7))     # Center a string, padding with spaces; prints \" hello \"\n",
    "print(Eip_s.replace('l', '(ell)'))  # Replace all instances of one substring with another;\n",
    "                                # prints \"he(ell)(ell)o\"\n",
    "print('  world '.strip())  # Strip leading and trailing whitespace; prints \"world\""
   ]
  },
  {
   "cell_type": "markdown",
   "metadata": {
    "colab_type": "text",
    "id": "S2NbQNVHdoLu"
   },
   "source": [
    "You can find a list of all string methods [in the documentation](https://docs.python.org/3.5/library/stdtypes.html#string-methods).\n",
    "\n",
    "<a name='python-containers'></a>\n",
    "\n",
    "### Containers\n",
    "Python includes several built-in container types: lists, dictionaries, sets, and tuples.\n",
    "\n",
    "<a name='python-lists'></a>\n",
    "\n",
    "#### Lists\n",
    "A list is the Python equivalent of an array, but is resizeable\n",
    "and can contain elements of different types:"
   ]
  },
  {
   "cell_type": "code",
   "execution_count": null,
   "metadata": {
    "colab": {
     "autoexec": {
      "startup": false,
      "wait_interval": 0
     }
    },
    "colab_type": "code",
    "id": "F-Vd_XNYdoLx",
    "outputId": "d44da32f-4b08-4602-bc45-4b7e6782b042"
   },
   "outputs": [
    {
     "name": "stdout",
     "output_type": "stream",
     "text": [
      "([3, 1, 2], 2)\n",
      "2\n",
      "[3, 1, 'foo']\n",
      "[3, 1, 'foo', 'bar']\n",
      "('bar', [3, 1, 'foo'])\n"
     ]
    }
   ],
   "source": [
    "Mlblr_xs = [3, 1, 2]    # Create a list\n",
    "print(Mlblr_xs, Mlblr_xs[2])  # Prints \"[3, 1, 2] 2\"\n",
    "print(Mlblr_xs[-1])     # Negative indices count from the end of the list; prints \"2\"\n",
    "Mlblr_xs[2] = 'foo'     # Lists can contain elements of different types\n",
    "print(Mlblr_xs)         # Prints \"[3, 1, 'foo']\"\n",
    "Mlblr_xs.append('bar')  # Add a new element to the end of the list\n",
    "print(Mlblr_xs)         # Prints \"[3, 1, 'foo', 'bar']\"\n",
    "Eip_x = Mlblr_xs.pop()      # Remove and return the last element of the list\n",
    "print(Eip_x, Mlblr_xs)      # Prints \"bar [3, 1, 'foo']\""
   ]
  },
  {
   "cell_type": "markdown",
   "metadata": {
    "colab_type": "text",
    "id": "Y1DKfgrBdoME"
   },
   "source": [
    "As usual, you can find all the gory details about lists\n",
    "[in the documentation](https://docs.python.org/3.5/tutorial/datastructures.html#more-on-lists).\n",
    "\n",
    "**Slicing:**\n",
    "In addition to accessing list elements one at a time, Python provides\n",
    "concise syntax to access sublists; this is known as *slicing*:"
   ]
  },
  {
   "cell_type": "code",
   "execution_count": null,
   "metadata": {
    "colab": {
     "autoexec": {
      "startup": false,
      "wait_interval": 0
     }
    },
    "colab_type": "code",
    "id": "_exyYNaLdoMI",
    "outputId": "9e59de7f-f046-469f-aaa7-12baa031ce2f"
   },
   "outputs": [
    {
     "name": "stdout",
     "output_type": "stream",
     "text": [
      "[0, 1, 2, 3, 4]\n",
      "[2, 3]\n",
      "[2, 3, 4]\n",
      "[0, 1]\n",
      "[0, 1, 2, 3, 4]\n",
      "[0, 1, 2, 3]\n",
      "[0, 1, 8, 9, 4]\n"
     ]
    }
   ],
   "source": [
    "Eip_nums = list(range(5))     # range is a built-in function that creates a list of integers\n",
    "print(Eip_nums)               # Prints \"[0, 1, 2, 3, 4]\"\n",
    "print(Eip_nums[2:4])          # Get a slice from index 2 to 4 (exclusive); prints \"[2, 3]\"\n",
    "print(Eip_nums[2:])           # Get a slice from index 2 to the end; prints \"[2, 3, 4]\"\n",
    "print(Eip_nums[:2])           # Get a slice from the start to index 2 (exclusive); prints \"[0, 1]\"\n",
    "print(Eip_nums[:])            # Get a slice of the whole list; prints \"[0, 1, 2, 3, 4]\"\n",
    "print(Eip_nums[:-1])          # Slice indices can be negative; prints \"[0, 1, 2, 3]\"\n",
    "Eip_nums[2:4] = [8, 9]        # Assign a new sublist to a slice\n",
    "print(Eip_nums)               # Prints \"[0, 1, 8, 9, 4]\""
   ]
  },
  {
   "cell_type": "markdown",
   "metadata": {
    "colab_type": "text",
    "id": "kkOpZJaLdoMZ"
   },
   "source": [
    "We will see slicing again in the context of numpy arrays.\n",
    "\n",
    "**Loops:** You can loop over the elements of a list like this:"
   ]
  },
  {
   "cell_type": "code",
   "execution_count": null,
   "metadata": {
    "colab": {
     "autoexec": {
      "startup": false,
      "wait_interval": 0
     }
    },
    "colab_type": "code",
    "id": "O0Jx29eVdoMb",
    "outputId": "a3786f42-8a0b-4862-caa8-83ab88c516c1"
   },
   "outputs": [
    {
     "name": "stdout",
     "output_type": "stream",
     "text": [
      "cat\n",
      "dog\n",
      "monkey\n"
     ]
    }
   ],
   "source": [
    "Mlblr_animals = ['cat', 'dog', 'monkey']\n",
    "for Eip_animal_in in Mlblr_animals:\n",
    "    print(Eip_animal_in)\n",
    "# Prints \"cat\", \"dog\", \"monkey\", each on its own line."
   ]
  },
  {
   "cell_type": "markdown",
   "metadata": {
    "colab_type": "text",
    "id": "gP8JKyN4doMn"
   },
   "source": [
    "If you want access to the index of each element within the body of a loop,\n",
    "use the built-in `enumerate` function:"
   ]
  },
  {
   "cell_type": "code",
   "execution_count": null,
   "metadata": {
    "colab": {
     "autoexec": {
      "startup": false,
      "wait_interval": 0
     }
    },
    "colab_type": "code",
    "id": "rkE-UtOidoMp",
    "outputId": "6b020aba-d20e-46fd-fa19-ba036886c81e"
   },
   "outputs": [
    {
     "name": "stdout",
     "output_type": "stream",
     "text": [
      "#1: cat\n",
      "#2: dog\n",
      "#3: monkey\n"
     ]
    }
   ],
   "source": [
    "Eip_animals = ['cat', 'dog', 'monkey']\n",
    "for Eip_idx, Eip_animal in enumerate(Eip_animals):\n",
    "    print('#%d: %s' % (Eip_idx + 1, Eip_animal))\n",
    "# Prints \"#1: cat\", \"#2: dog\", \"#3: monkey\", each on its own line"
   ]
  },
  {
   "cell_type": "markdown",
   "metadata": {
    "colab_type": "text",
    "id": "FpVi-vMVdoNA"
   },
   "source": [
    "**List comprehensions:**\n",
    "When programming, frequently we want to transform one type of data into another.\n",
    "As a simple example, consider the following code that computes square numbers:"
   ]
  },
  {
   "cell_type": "code",
   "execution_count": null,
   "metadata": {
    "colab": {
     "autoexec": {
      "startup": false,
      "wait_interval": 0
     }
    },
    "colab_type": "code",
    "id": "Ppioyl42doND",
    "outputId": "39672599-c329-4d82-f2c4-645758a88e3c"
   },
   "outputs": [
    {
     "name": "stdout",
     "output_type": "stream",
     "text": [
      "[0, 1, 4, 9, 16]\n"
     ]
    }
   ],
   "source": [
    "Eip_nums_list = [0, 1, 2, 3, 4]\n",
    "Mlblr_squares_list = []\n",
    "for Eip_x_in in Eip_nums_list:\n",
    "    Mlblr_squares_list.append(Eip_x_in ** 2)\n",
    "print(Mlblr_squares_list)   # Prints [0, 1, 4, 9, 16]"
   ]
  },
  {
   "cell_type": "markdown",
   "metadata": {
    "colab_type": "text",
    "id": "NGkj0KECdoNZ"
   },
   "source": [
    "You can make this code simpler using a **list comprehension**:"
   ]
  },
  {
   "cell_type": "code",
   "execution_count": null,
   "metadata": {
    "colab": {
     "autoexec": {
      "startup": false,
      "wait_interval": 0
     }
    },
    "colab_type": "code",
    "id": "4pVSEaeWdoNc",
    "outputId": "f9f65d57-2b87-4ba5-d037-47b1a102f0ba"
   },
   "outputs": [
    {
     "name": "stdout",
     "output_type": "stream",
     "text": [
      "[0, 1, 4, 9, 16]\n"
     ]
    }
   ],
   "source": [
    "Mlblr_nums_list = [0, 1, 2, 3, 4]\n",
    "Mlblr_squares_out = [Eip_x ** 2 for Eip_x in Mlblr_nums_list]\n",
    "print(Mlblr_squares_out)   # Prints [0, 1, 4, 9, 16]"
   ]
  },
  {
   "cell_type": "markdown",
   "metadata": {
    "colab_type": "text",
    "id": "2NhEJ5G0doNm"
   },
   "source": [
    "List comprehensions can also contain conditions:"
   ]
  },
  {
   "cell_type": "code",
   "execution_count": null,
   "metadata": {
    "colab": {
     "autoexec": {
      "startup": false,
      "wait_interval": 0
     }
    },
    "colab_type": "code",
    "id": "Qwnx8RIBdoNp",
    "outputId": "47d60ec6-c8d2-4b05-a972-094760f23018"
   },
   "outputs": [
    {
     "name": "stdout",
     "output_type": "stream",
     "text": [
      "[0, 4, 16]\n"
     ]
    }
   ],
   "source": [
    "Eip_nums_list = [0, 1, 2, 3, 4]\n",
    "Mlblr_even_squares_list = [Eip_x_out ** 2 for Eip_x_out in Eip_nums_list if Eip_x_out % 2 == 0]\n",
    "print(Mlblr_even_squares_list)  # Prints \"[0, 4, 16]\""
   ]
  },
  {
   "cell_type": "markdown",
   "metadata": {
    "colab_type": "text",
    "id": "zN3lCXNidoN2"
   },
   "source": [
    "<a name='python-dicts'></a>\n",
    "\n",
    "#### Dictionaries\n",
    "A dictionary stores (key, value) pairs, similar to a `Map` in Java or\n",
    "an object in Javascript. You can use it like this:"
   ]
  },
  {
   "cell_type": "code",
   "execution_count": null,
   "metadata": {
    "colab": {
     "autoexec": {
      "startup": false,
      "wait_interval": 0
     }
    },
    "colab_type": "code",
    "id": "gDKm8_k9doN4",
    "outputId": "e19ec7fb-c897-45e8-8b77-f56ae2e5caa2"
   },
   "outputs": [
    {
     "name": "stdout",
     "output_type": "stream",
     "text": [
      "cute\n",
      "True\n",
      "wet\n",
      "N/A\n",
      "wet\n",
      "N/A\n"
     ]
    }
   ],
   "source": [
    "Eip_dict = {'cat': 'cute', 'Eip_dictog': 'furry'}  # Create a new Eip_dictictionary with some Eip_dictata\n",
    "print(Eip_dict['cat'])       # Get an entry from a Eip_dictictionary; prints \"cute\"\n",
    "print('cat' in Eip_dict)     # Check if a Eip_dictictionary has a given key; prints \"True\"\n",
    "Eip_dict['fish'] = 'wet'     # Set an entry in a Eip_dictictionary\n",
    "print(Eip_dict['fish'])      # Prints \"wet\"\n",
    "# print(Eip_dict['monkey'])  # KeyError: 'monkey' not a key of Eip_dict\n",
    "print(Eip_dict.get('monkey', 'N/A'))  # Get an element with a Eip_dictefault; prints \"N/A\"\n",
    "print(Eip_dict.get('fish', 'N/A'))    # Get an element with a Eip_dictefault; prints \"wet\"\n",
    "del Eip_dict['fish']         # Remove an element from a Eip_dictictionary\n",
    "print(Eip_dict.get('fish', 'N/A')) # \"fish\" is no longer a key; prints \"N/A\""
   ]
  },
  {
   "cell_type": "markdown",
   "metadata": {
    "colab_type": "text",
    "id": "H--lucqFdoOC"
   },
   "source": [
    "You can find all you need to know about dictionaries\n",
    "[in the documentation](https://docs.python.org/3.5/library/stdtypes.html#dict).\n",
    "\n",
    "**Loops:** It is easy to iterate over the keys in a dictionary:"
   ]
  },
  {
   "cell_type": "code",
   "execution_count": null,
   "metadata": {
    "colab": {
     "autoexec": {
      "startup": false,
      "wait_interval": 0
     }
    },
    "colab_type": "code",
    "id": "ryLNO1MzdoOE",
    "outputId": "062b1c92-7f5c-493f-d24a-f4390c26f70f"
   },
   "outputs": [
    {
     "name": "stdout",
     "output_type": "stream",
     "text": [
      "A person has 2 legs\n",
      "A spider has 8 legs\n",
      "A cat has 4 legs\n"
     ]
    }
   ],
   "source": [
    "Mlblr_dict = {'person': 2, 'cat': 4, 'spider': 8}\n",
    "for Eip_animal_out in Mlblr_dict:\n",
    "    Eip_legs_out = Mlblr_dict[Eip_animal_out]\n",
    "    print('A %s has %d legs' % (Eip_animal_out, Eip_legs_out))\n",
    "# Prints \"A person has 2 legs\", \"A cat has 4 legs\", \"A spider has 8 legs\""
   ]
  },
  {
   "cell_type": "markdown",
   "metadata": {
    "colab_type": "text",
    "id": "GXt0aY0FdoOP"
   },
   "source": [
    "If you want access to keys and their corresponding values, use the `items` method:"
   ]
  },
  {
   "cell_type": "code",
   "execution_count": null,
   "metadata": {
    "colab": {
     "autoexec": {
      "startup": false,
      "wait_interval": 0
     }
    },
    "colab_type": "code",
    "id": "Kj_RRpgvdoOQ",
    "outputId": "b53ae323-cf9c-41b9-ec6c-cf8af1cf1382"
   },
   "outputs": [
    {
     "name": "stdout",
     "output_type": "stream",
     "text": [
      "A person has 2 legs\n",
      "A spider has 8 legs\n",
      "A cat has 4 legs\n"
     ]
    }
   ],
   "source": [
    "Eip_dict = {'person': 2, 'cat': 4, 'spider': 8}\n",
    "for Eip_animal_key_out, Eip_legs_value_out in Eip_dict.items():\n",
    "    print('A %s has %d legs' % (Eip_animal_key_out, Eip_legs_value_out))\n",
    "# Prints \"A person has 2 legs\", \"A cat has 4 legs\", \"A spider has 8 legs\""
   ]
  },
  {
   "cell_type": "markdown",
   "metadata": {
    "colab_type": "text",
    "id": "bvtB8lEBdoOi"
   },
   "source": [
    "**Dictionary comprehensions:**\n",
    "These are similar to list comprehensions, but allow you to easily construct\n",
    "dictionaries. For example:"
   ]
  },
  {
   "cell_type": "code",
   "execution_count": null,
   "metadata": {
    "colab": {
     "autoexec": {
      "startup": false,
      "wait_interval": 0
     }
    },
    "colab_type": "code",
    "id": "NJ5QWgrrdoOk",
    "outputId": "946fc548-b5f9-4fb7-fed8-0ddda4656e37"
   },
   "outputs": [
    {
     "name": "stdout",
     "output_type": "stream",
     "text": [
      "{0: 0, 2: 4, 4: 16}\n"
     ]
    }
   ],
   "source": [
    "Eip_nums_list = [0, 1, 2, 3, 4]\n",
    "Mlblr_even_num_to_square_set = {Eip_x_out: Eip_x_out ** 2 for Eip_x_out in Eip_nums_list if Eip_x_out % 2 == 0}\n",
    "print(Mlblr_even_num_to_square_set)  # Prints \"{0: 0, 2: 4, 4: 16}\""
   ]
  },
  {
   "cell_type": "markdown",
   "metadata": {
    "colab_type": "text",
    "id": "5goEqTfrdoOx"
   },
   "source": [
    "<a name='python-sets'></a>\n",
    "\n",
    "#### Sets\n",
    "A set is an unordered collection of distinct elements. As a simple example, consider\n",
    "the following:"
   ]
  },
  {
   "cell_type": "code",
   "execution_count": null,
   "metadata": {
    "colab": {
     "autoexec": {
      "startup": false,
      "wait_interval": 0
     }
    },
    "colab_type": "code",
    "id": "XARfQyrxdoO0",
    "outputId": "371cd907-d059-4f9c-f0a4-43f6d64dd848"
   },
   "outputs": [
    {
     "name": "stdout",
     "output_type": "stream",
     "text": [
      "True\n",
      "False\n",
      "True\n",
      "3\n",
      "3\n",
      "2\n"
     ]
    }
   ],
   "source": [
    "Eip_animals_set = {'cat', 'dog'}\n",
    "print('cat' in Eip_animals_set)   # Check if an element is in a set; prints \"True\"\n",
    "print('fish' in Eip_animals_set)  # prints \"False\"\n",
    "Eip_animals_set.add('fish')       # Add an element to a set\n",
    "print('fish' in Eip_animals_set)  # Prints \"True\"\n",
    "print(len(Eip_animals_set))       # Number of elements in a set; prints \"3\"\n",
    "Eip_animals_set.add('cat')        # Adding an element that is already in the set does nothing\n",
    "print(len(Eip_animals_set))       # Prints \"3\"\n",
    "Eip_animals_set.remove('cat')     # Remove an element from a set\n",
    "print(len(Eip_animals_set))       # Prints \"2\""
   ]
  },
  {
   "cell_type": "markdown",
   "metadata": {
    "colab_type": "text",
    "id": "vegHamyhdoPA"
   },
   "source": [
    "As usual, everything you want to know about sets can be found\n",
    "[in the documentation](https://docs.python.org/3.5/library/stdtypes.html#set).\n",
    "\n",
    "\n",
    "**Loops:**\n",
    "Iterating over a set has the same syntax as iterating over a list;\n",
    "however since sets are unordered, you cannot make assumptions about the order\n",
    "in which you visit the elements of the set:"
   ]
  },
  {
   "cell_type": "code",
   "execution_count": null,
   "metadata": {
    "colab": {
     "autoexec": {
      "startup": false,
      "wait_interval": 0
     }
    },
    "colab_type": "code",
    "id": "lqNyVMA5doPC",
    "outputId": "911beb5d-677c-4b60-cf38-9cff63852e1c"
   },
   "outputs": [
    {
     "name": "stdout",
     "output_type": "stream",
     "text": [
      "#1: fish\n",
      "#2: dog\n",
      "#3: cat\n"
     ]
    }
   ],
   "source": [
    "Eip_animals_set = {'cat', 'dog', 'fish'}\n",
    "for Eip_idx, Eip_animal_set in enumerate(Eip_animals_set):\n",
    "    print('#%d: %s' % (Eip_idx + 1, Eip_animal_set))\n",
    "# Prints \"#1: fish\", \"#2: dog\", \"#3: cat\""
   ]
  },
  {
   "cell_type": "markdown",
   "metadata": {
    "colab_type": "text",
    "id": "vKTo5rr2doPO"
   },
   "source": [
    "**Set comprehensions:**\n",
    "Like lists and dictionaries, we can easily construct sets using set comprehensions:"
   ]
  },
  {
   "cell_type": "code",
   "execution_count": null,
   "metadata": {
    "colab": {
     "autoexec": {
      "startup": false,
      "wait_interval": 0
     }
    },
    "colab_type": "code",
    "id": "SeVOJ-oEdoPR",
    "outputId": "b5a6a746-d7cf-4bac-899f-f4d6a6b65307"
   },
   "outputs": [
    {
     "name": "stdout",
     "output_type": "stream",
     "text": [
      "set([0, 1, 2, 3, 4, 5])\n"
     ]
    }
   ],
   "source": [
    "from math import sqrt\n",
    "Eip_nums_set = {int(sqrt(Eip_x)) for Eip_x in range(30)}\n",
    "print(Eip_nums_set)  # Prints \"{0, 1, 2, 3, 4, 5}\""
   ]
  },
  {
   "cell_type": "markdown",
   "metadata": {
    "colab_type": "text",
    "id": "TO6H1t4IdoPb"
   },
   "source": [
    "<a name='python-tuples'></a>\n",
    "\n",
    "#### Tuples\n",
    "A tuple is an (immutable) ordered list of values.\n",
    "A tuple is in many ways similar to a list; one of the most important differences is that\n",
    "tuples can be used as keys in dictionaries and as elements of sets, while lists cannot.\n",
    "Here is a trivial example:"
   ]
  },
  {
   "cell_type": "code",
   "execution_count": null,
   "metadata": {
    "colab": {
     "autoexec": {
      "startup": false,
      "wait_interval": 0
     }
    },
    "colab_type": "code",
    "id": "CTQghPXLdoPh",
    "outputId": "ea3dc6f8-c282-494b-8e5b-18acc606bbe4"
   },
   "outputs": [
    {
     "name": "stdout",
     "output_type": "stream",
     "text": [
      "{(0, 1): 0, (1, 2): 1, (6, 7): 6, (5, 6): 5, (7, 8): 7, (8, 9): 8, (4, 5): 4, (2, 3): 2, (9, 10): 9, (3, 4): 3}\n",
      "<type 'tuple'>\n",
      "5\n",
      "1\n"
     ]
    }
   ],
   "source": [
    "Eip_dict = {(x, x + 1): x for x in range(10)}  # Create a dictionary with tuple keys\n",
    "print(Eip_dict)\n",
    "Mlblr_tuple = (5, 6)        # Create a tuple\n",
    "print(type(Mlblr_tuple))    # Prints \"<class 'tuple'>\"\n",
    "print(Eip_dict[Mlblr_tuple])       # Prints \"5\"\n",
    "print(Eip_dict[(1, 2)])  # Prints \"1\""
   ]
  },
  {
   "cell_type": "markdown",
   "metadata": {
    "colab_type": "text",
    "id": "wqLNLoxkdoPs"
   },
   "source": [
    "[The documentation](https://docs.python.org/3.5/tutorial/datastructures.html#tuples-and-sequences) has more information about tuples.\n",
    "\n",
    "<a name='python-functions'></a>\n",
    "\n",
    "### Functions\n",
    "Python functions are defined using the `def` keyword. For example:"
   ]
  },
  {
   "cell_type": "code",
   "execution_count": null,
   "metadata": {
    "colab": {
     "autoexec": {
      "startup": false,
      "wait_interval": 0
     }
    },
    "colab_type": "code",
    "id": "LFJFCxcSdoPz",
    "outputId": "e4ebfeae-d034-4558-c7b6-68b0d3da9820"
   },
   "outputs": [
    {
     "name": "stdout",
     "output_type": "stream",
     "text": [
      "negative\n",
      "zero\n",
      "positive\n"
     ]
    }
   ],
   "source": [
    "def sign(Eip_x_in):\n",
    "    if Eip_x_in > 0:\n",
    "        return 'positive'\n",
    "    elif Eip_x_in < 0:\n",
    "        return 'negative'\n",
    "    else:\n",
    "        return 'zero'\n",
    "\n",
    "for Eip_x_in in [-1, 0, 1]:\n",
    "    print(sign(Eip_x_in))\n",
    "# Prints \"negative\", \"zero\", \"positive\""
   ]
  },
  {
   "cell_type": "markdown",
   "metadata": {
    "colab_type": "text",
    "id": "wQGQB3YodoQB"
   },
   "source": [
    "We will often define functions to take optional keyword arguments, like this:"
   ]
  },
  {
   "cell_type": "code",
   "execution_count": null,
   "metadata": {
    "colab": {
     "autoexec": {
      "startup": false,
      "wait_interval": 0
     }
    },
    "colab_type": "code",
    "id": "GELMfZVZdoQF",
    "outputId": "4c27704f-6820-4e78-e3ce-74d2a2a0e4f2"
   },
   "outputs": [
    {
     "name": "stdout",
     "output_type": "stream",
     "text": [
      "Hello, Bob\n",
      "HELLO, FRED!\n"
     ]
    }
   ],
   "source": [
    "def hello(Eip_name_in, Eip_loud_in=False):\n",
    "    if Eip_loud_in:\n",
    "        print('HELLO, %s!' % Eip_name_in.upper())\n",
    "    else:\n",
    "        print('Hello, %s' % Eip_name_in)\n",
    "\n",
    "hello('Bob') # Prints \"Hello, Bob\"\n",
    "hello('Fred', Eip_loud_in=True)  # Prints \"HELLO, FRED!\""
   ]
  },
  {
   "cell_type": "markdown",
   "metadata": {
    "colab_type": "text",
    "id": "9Z-oKQhgdoQe"
   },
   "source": [
    "There is a lot more information about Python functions\n",
    "[in the documentation](https://docs.python.org/3.5/tutorial/controlflow.html#defining-functions).\n",
    "\n",
    "<a name='python-classes'></a>\n",
    "\n",
    "### Classes\n",
    "\n",
    "The syntax for defining classes in Python is straightforward:"
   ]
  },
  {
   "cell_type": "code",
   "execution_count": null,
   "metadata": {
    "colab": {
     "autoexec": {
      "startup": false,
      "wait_interval": 0
     }
    },
    "colab_type": "code",
    "id": "g6Mfnu8kdoQf",
    "outputId": "a870faee-6580-47b3-a6e6-ac34988f91e7"
   },
   "outputs": [
    {
     "name": "stdout",
     "output_type": "stream",
     "text": [
      "Hello, Fred\n",
      "HELLO, FRED!\n"
     ]
    }
   ],
   "source": [
    "class Greeter(object):\n",
    "\n",
    "    # Constructor\n",
    "    def __init__(self, Eip_name_in):\n",
    "        self.Eip_name = Eip_name_in  # Create an instance variable\n",
    "\n",
    "    # Instance method\n",
    "    def greet(self, Eip_loud_in=False):\n",
    "        if Eip_loud_in:\n",
    "            print('HELLO, %s!' % self.Eip_name.upper())\n",
    "        else:\n",
    "            print('Hello, %s' % self.Eip_name)\n",
    "\n",
    "g = Greeter('Fred')  # Construct an instance of the Greeter class\n",
    "g.greet()            # Call an instance method; prints \"Hello, Fred\"\n",
    "g.greet(Eip_loud_in=True)   # Call an instance method; prints \"HELLO, FRED!\""
   ]
  },
  {
   "cell_type": "markdown",
   "metadata": {
    "colab_type": "text",
    "id": "j1NKWdz3doQp"
   },
   "source": [
    "You can read a lot more about Python classes\n",
    "[in the documentation](https://docs.python.org/3.5/tutorial/classes.html).\n",
    "\n",
    "<a name='numpy'></a>\n",
    "\n",
    "## Numpy\n",
    "\n",
    "[Numpy](http://www.numpy.org/) is the core library for scientific computing in Python.\n",
    "It provides a high-performance multidimensional array object, and tools for working with these\n",
    "arrays. If you are already familiar with MATLAB, you might find\n",
    "[this tutorial useful](http://wiki.scipy.org/NumPy_for_Matlab_Users) to get started with Numpy.\n",
    "\n",
    "<a name='numpy-arrays'></a>\n",
    "\n",
    "### Arrays\n",
    "A numpy array is a grid of values, all of the same type, and is indexed by a tuple of\n",
    "nonnegative integers. The number of dimensions is the *rank* of the array; the *shape*\n",
    "of an array is a tuple of integers giving the size of the array along each dimension.\n",
    "\n",
    "We can initialize numpy arrays from nested Python lists,\n",
    "and access elements using square brackets:"
   ]
  },
  {
   "cell_type": "code",
   "execution_count": null,
   "metadata": {
    "colab": {
     "autoexec": {
      "startup": false,
      "wait_interval": 0
     }
    },
    "colab_type": "code",
    "id": "7JmorFM4doQq",
    "outputId": "9ad023c8-4b89-48a0-cc4c-c9bb7603b7c4"
   },
   "outputs": [
    {
     "name": "stdout",
     "output_type": "stream",
     "text": [
      "<type 'numpy.ndarray'>\n",
      "(3,)\n",
      "(1, 2, 3)\n",
      "[5 2 3]\n",
      "(2, 3)\n",
      "(1, 2, 4)\n"
     ]
    }
   ],
   "source": [
    "import numpy as np\n",
    "\n",
    "Eip_a_npa = np.array([1, 2, 3])   # Create a rank 1 array\n",
    "print(type(Eip_a_npa))            # Prints \"<class 'numpy.ndarray'>\"\n",
    "print(Eip_a_npa.shape)            # Prints \"(3,)\"\n",
    "print(Eip_a_npa[0], Eip_a_npa[1], Eip_a_npa[2])   # Prints \"1 2 3\"\n",
    "Eip_a_npa[0] = 5                  # Change an element of the array\n",
    "print(Eip_a_npa)                  # Prints \"[5, 2, 3]\"\n",
    "\n",
    "Eip_b_npa = np.array([[1,2,3],[4,5,6]])    # Create a rank 2 array\n",
    "print(Eip_b_npa.shape)                     # Prints \"(2, 3)\"\n",
    "print(Eip_b_npa[0, 0], Eip_b_npa[0, 1], Eip_b_npa[1, 0])   # Prints \"1 2 4\""
   ]
  },
  {
   "cell_type": "markdown",
   "metadata": {
    "colab_type": "text",
    "id": "hexkIcARdoQz"
   },
   "source": [
    "Numpy also provides many functions to create arrays:"
   ]
  },
  {
   "cell_type": "code",
   "execution_count": null,
   "metadata": {
    "colab": {
     "autoexec": {
      "startup": false,
      "wait_interval": 0
     }
    },
    "colab_type": "code",
    "id": "ED6_A5IOdoQ1",
    "outputId": "e968255f-c20d-4a71-97bf-20a9564b8a46"
   },
   "outputs": [
    {
     "name": "stdout",
     "output_type": "stream",
     "text": [
      "[[0. 0.]\n",
      " [0. 0.]]\n",
      "[[1. 1.]]\n",
      "[[7 7]\n",
      " [7 7]]\n",
      "[[1. 0.]\n",
      " [0. 1.]]\n",
      "[[0.80297699 0.43828853]\n",
      " [0.8652132  0.08060048]]\n"
     ]
    }
   ],
   "source": [
    "import numpy as np\n",
    "\n",
    "Eip_a_npa = np.zeros((2,2))   # Create an array of all zeros\n",
    "print(Eip_a_npa)              # Prints \"[[ 0.  0.]\n",
    "                      #          [ 0.  0.]]\"\n",
    "\n",
    "Eip_b_npa = np.ones((1,2))    # Create an array of all ones\n",
    "print(Eip_b_npa)              # Prints \"[[ 1.  1.]]\"\n",
    "\n",
    "Eip_c_npa = np.full((2,2), 7)  # Create a constant array\n",
    "print(Eip_c_npa)               # Prints \"[[ 7.  7.]\n",
    "                       #          [ 7.  7.]]\"\n",
    "\n",
    "Eip_d_npa = np.eye(2)         # Create a 2x2 identity matrix\n",
    "print(Eip_d_npa)              # Prints \"[[ 1.  0.]\n",
    "                      #          [ 0.  1.]]\"\n",
    "\n",
    "Eip_e_npa = np.random.random((2,2))  # Create an array filled with random values\n",
    "print(Eip_e_npa)                     # Might print \"[[ 0.91940167  0.08143941]\n",
    "                             #               [ 0.68744134  0.87236687]]\""
   ]
  },
  {
   "cell_type": "markdown",
   "metadata": {
    "colab_type": "text",
    "id": "uZLE7YASdoQ_"
   },
   "source": [
    "You can read about other methods of array creation\n",
    "[in the documentation](http://docs.scipy.org/doc/numpy/user/basics.creation.html#arrays-creation).\n",
    "\n",
    "<a name='numpy-array-indexing'></a>\n",
    "\n",
    "### Array indexing\n",
    "Numpy offers several ways to index into arrays.\n",
    "\n",
    "**Slicing:**\n",
    "Similar to Python lists, numpy arrays can be sliced.\n",
    "Since arrays may be multidimensional, you must specify a slice for each dimension\n",
    "of the array:"
   ]
  },
  {
   "cell_type": "code",
   "execution_count": null,
   "metadata": {
    "colab": {
     "autoexec": {
      "startup": false,
      "wait_interval": 0
     }
    },
    "colab_type": "code",
    "id": "g6jdrqmHdoRA",
    "outputId": "347bcd34-9f16-4257-c1f3-3c2c1512fa68"
   },
   "outputs": [
    {
     "name": "stdout",
     "output_type": "stream",
     "text": [
      "2\n",
      "77\n"
     ]
    }
   ],
   "source": [
    "import numpy as np\n",
    "\n",
    "# Create the following rank 2 array with shape (3, 4)\n",
    "# [[ 1  2  3  4]\n",
    "#  [ 5  6  7  8]\n",
    "#  [ 9 10 11 12]]\n",
    "Eip_a_npa = np.array([[1,2,3,4], [5,6,7,8], [9,10,11,12]])\n",
    "\n",
    "# Use slicing to pull out the subarray consisting of the first 2 rows\n",
    "# and columns 1 and 2; b is the following array of shape (2, 2):\n",
    "# [[2 3]\n",
    "#  [6 7]]\n",
    "Eip_b_npa = Eip_a_npa[:2, 1:3]\n",
    "\n",
    "# A slice of an array is a view into the same data, so modifying it\n",
    "# will modify the original array.\n",
    "print(Eip_a_npa[0, 1])   # Prints \"2\"\n",
    "Eip_b_npa[0, 0] = 77     # b[0, 0] is the same piece of data as a[0, 1]\n",
    "print(Eip_a_npa[0, 1])   # Prints \"77\""
   ]
  },
  {
   "cell_type": "markdown",
   "metadata": {
    "colab_type": "text",
    "id": "Q5AgOmlmdoRL"
   },
   "source": [
    "You can also mix integer indexing with slice indexing.\n",
    "However, doing so will yield an array of lower rank than the original array.\n",
    "Note that this is quite different from the way that MATLAB handles array\n",
    "slicing:"
   ]
  },
  {
   "cell_type": "code",
   "execution_count": null,
   "metadata": {
    "colab": {
     "autoexec": {
      "startup": false,
      "wait_interval": 0
     }
    },
    "colab_type": "code",
    "id": "ALHt_xW2doRP",
    "outputId": "1ab2cabe-a85e-49cb-c0dd-ed6250243beb"
   },
   "outputs": [
    {
     "name": "stdout",
     "output_type": "stream",
     "text": [
      "[[ 1  2  3  4]\n",
      " [ 5  6  7  8]\n",
      " [ 9 10 11 12]]\n",
      "(array([5, 6, 7, 8]), (4,))\n",
      "(array([[5, 6, 7, 8]]), (1, 4))\n",
      "(array([ 2,  6, 10]), (3,))\n",
      "(array([[ 2],\n",
      "       [ 6],\n",
      "       [10]]), (3, 1))\n"
     ]
    }
   ],
   "source": [
    "import numpy as np\n",
    "\n",
    "# Create the following rank 2 array with shape (3, 4)\n",
    "# [[ 1  2  3  4]\n",
    "#  [ 5  6  7  8]\n",
    "#  [ 9 10 11 12]]\n",
    "Eip_a_npa = np.array([[1,2,3,4], [5,6,7,8], [9,10,11,12]])\n",
    "print(Eip_a_npa)\n",
    "\n",
    "# Two ways of accessing the data in the middle row of the array.\n",
    "# Mixing integer indexing with slices yields an array of lower rank,\n",
    "# while using only slices yields an array of the same rank as the\n",
    "# original array:\n",
    "Eip_row_r1 = Eip_a_npa[1, :]    # Rank 1 view of the second row of a\n",
    "Eip_row_r2 = Eip_a_npa[1:2, :]  # Rank 2 view of the second row of a\n",
    "print(Eip_row_r1, Eip_row_r1.shape)  # Prints \"[5 6 7 8] (4,)\"\n",
    "print(Eip_row_r2, Eip_row_r2.shape)  # Prints \"[[5 6 7 8]] (1, 4)\"\n",
    "\n",
    "# We can make the same distinction when accessing columns of an array:\n",
    "Eip_col_r1 = Eip_a_npa[:, 1]\n",
    "Eip_col_r2 = Eip_a_npa[:, 1:2]\n",
    "print(Eip_col_r1, Eip_col_r1.shape)  # Prints \"[ 2  6 10] (3,)\"\n",
    "print(Eip_col_r2, Eip_col_r2.shape)  # Prints \"[[ 2]\n",
    "                             #          [ 6]\n",
    "                             #          [10]] (3, 1)\""
   ]
  },
  {
   "cell_type": "markdown",
   "metadata": {
    "colab_type": "text",
    "id": "dGH05jRDdoRc"
   },
   "source": [
    "**Integer array indexing:**\n",
    "When you index into numpy arrays using slicing, the resulting array view\n",
    "will always be a subarray of the original array. In contrast, integer array\n",
    "indexing allows you to construct arbitrary arrays using the data from another\n",
    "array. Here is an example:"
   ]
  },
  {
   "cell_type": "code",
   "execution_count": null,
   "metadata": {
    "colab": {
     "autoexec": {
      "startup": false,
      "wait_interval": 0
     }
    },
    "colab_type": "code",
    "id": "SbEJ0skEdoRe",
    "outputId": "88890b4b-8334-4297-f393-c78ab2476a1a"
   },
   "outputs": [
    {
     "name": "stdout",
     "output_type": "stream",
     "text": [
      "[1 4 5]\n",
      "[1 4 5]\n",
      "[2 2]\n",
      "[2 2]\n"
     ]
    }
   ],
   "source": [
    "import numpy as np\n",
    "\n",
    "Eip_a_npa = np.array([[1,2], [3, 4], [5, 6]])\n",
    "\n",
    "# An example of integer array indexing.\n",
    "# The returned array will have shape (3,) and\n",
    "print(Eip_a_npa[[0, 1, 2], [0, 1, 0]])  # Prints \"[1 4 5]\"\n",
    "\n",
    "# The above example of integer array indexing is equivalent to this:\n",
    "print(np.array([Eip_a_npa[0, 0], Eip_a_npa[1, 1], Eip_a_npa[2, 0]]))  # Prints \"[1 4 5]\"\n",
    "\n",
    "# When using integer array indexing, you can reuse the same\n",
    "# element from the source array:\n",
    "print(Eip_a_npa[[0, 0], [1, 1]])  # Prints \"[2 2]\"\n",
    "\n",
    "# Equivalent to the previous integer array indexing example\n",
    "print(np.array([Eip_a_npa[0, 1], Eip_a_npa[0, 1]]))  # Prints \"[2 2]\""
   ]
  },
  {
   "cell_type": "markdown",
   "metadata": {
    "colab_type": "text",
    "id": "4EOoonH9doR3"
   },
   "source": [
    "One useful trick with integer array indexing is selecting or mutating one\n",
    "element from each row of a matrix:"
   ]
  },
  {
   "cell_type": "code",
   "execution_count": null,
   "metadata": {
    "colab": {
     "autoexec": {
      "startup": false,
      "wait_interval": 0
     }
    },
    "colab_type": "code",
    "id": "ibZkXPGhdoR6",
    "outputId": "04f6c3c4-1cb8-4c8b-d727-b6f51ae8a61a"
   },
   "outputs": [
    {
     "name": "stdout",
     "output_type": "stream",
     "text": [
      "[[ 1  2  3]\n",
      " [ 4  5  6]\n",
      " [ 7  8  9]\n",
      " [10 11 12]]\n",
      "[ 1  6  7 11]\n",
      "[[11  2  3]\n",
      " [ 4  5 16]\n",
      " [17  8  9]\n",
      " [10 21 12]]\n"
     ]
    }
   ],
   "source": [
    "import numpy as np\n",
    "\n",
    "# Create a new array from which we will select elements\n",
    "Eip_a_npa = np.array([[1,2,3], [4,5,6], [7,8,9], [10, 11, 12]])\n",
    "\n",
    "print(Eip_a_npa)  # prints \"array([[ 1,  2,  3],\n",
    "                  #                [ 4,  5,  6],\n",
    "                  #                [ 7,  8,  9],\n",
    "                  #                [10, 11, 12]])\"\n",
    "\n",
    "# Create an array of indices\n",
    "b = np.array([0, 2, 0, 1])\n",
    "\n",
    "# Select one element from each row of a using the indices in b\n",
    "print(Eip_a_npa[np.arange(4), b])  # Prints \"[ 1  6  7 11]\"\n",
    "\n",
    "# Mutate one element from each row of a using the indices in b\n",
    "Eip_a_npa[np.arange(4), b] += 10\n",
    "\n",
    "print(Eip_a_npa)  # prints \"array([[11,  2,  3],\n",
    "          #                [ 4,  5, 16],\n",
    "          #                [17,  8,  9],\n",
    "          #                [10, 21, 12]])"
   ]
  },
  {
   "cell_type": "markdown",
   "metadata": {
    "colab_type": "text",
    "id": "f8o6uFf6doSM"
   },
   "source": [
    "**Boolean array indexing:**\n",
    "Boolean array indexing lets you pick out arbitrary elements of an array.\n",
    "Frequently this type of indexing is used to select the elements of an array\n",
    "that satisfy some condition. Here is an example:"
   ]
  },
  {
   "cell_type": "code",
   "execution_count": null,
   "metadata": {
    "colab": {
     "autoexec": {
      "startup": false,
      "wait_interval": 0
     }
    },
    "colab_type": "code",
    "id": "6SVT8S4NdoSP",
    "outputId": "4e5de4b9-d434-46a3-8983-8069da90a5f8"
   },
   "outputs": [
    {
     "name": "stdout",
     "output_type": "stream",
     "text": [
      "[[False False]\n",
      " [ True  True]\n",
      " [ True  True]]\n",
      "[3 4 5 6]\n",
      "[3 4 5 6]\n"
     ]
    }
   ],
   "source": [
    "import numpy as np\n",
    "\n",
    "Eip_a_npa = np.array([[1,2], [3, 4], [5, 6]])\n",
    "\n",
    "Eip_bool_idx = (Eip_a_npa > 2)   # Find the elements of a that are bigger than 2;\n",
    "                     # this returns a numpy array of Booleans of the same\n",
    "                     # shape as a, where each slot of bool_idx tells\n",
    "                     # whether that element of a is > 2.\n",
    "\n",
    "print(Eip_bool_idx)      # Prints \"[[False False]\n",
    "                     #          [ True  True]\n",
    "                     #          [ True  True]]\"\n",
    "\n",
    "# We use boolean array indexing to construct a rank 1 array\n",
    "# consisting of the elements of a corresponding to the True values\n",
    "# of bool_idx\n",
    "print(Eip_a_npa[Eip_bool_idx])  # Prints \"[3 4 5 6]\"\n",
    "\n",
    "# We can do all of the above in a single concise statement:\n",
    "print(Eip_a_npa[Eip_a_npa > 2])     # Prints \"[3 4 5 6]\""
   ]
  },
  {
   "cell_type": "markdown",
   "metadata": {
    "colab_type": "text",
    "id": "MtkLAtxidoSl"
   },
   "source": [
    "For brevity we have left out a lot of details about numpy array indexing;\n",
    "if you want to know more you should\n",
    "[read the documentation](http://docs.scipy.org/doc/numpy/reference/arrays.indexing.html).\n",
    "\n",
    "<a name='numpy-datatypes'></a>\n",
    "\n",
    "### Datatypes\n",
    "Every numpy array is a grid of elements of the same type.\n",
    "Numpy provides a large set of numeric datatypes that you can use to construct arrays.\n",
    "Numpy tries to guess a datatype when you create an array, but functions that construct\n",
    "arrays usually also include an optional argument to explicitly specify the datatype.\n",
    "Here is an example:"
   ]
  },
  {
   "cell_type": "code",
   "execution_count": null,
   "metadata": {
    "colab": {
     "autoexec": {
      "startup": false,
      "wait_interval": 0
     }
    },
    "colab_type": "code",
    "id": "PTZDEm6LdoSq",
    "outputId": "23e5a6af-5511-4074-ec99-9afd3371cc6e"
   },
   "outputs": [
    {
     "name": "stdout",
     "output_type": "stream",
     "text": [
      "int64\n",
      "float64\n",
      "int64\n"
     ]
    }
   ],
   "source": [
    "import numpy as np\n",
    "\n",
    "Eip_x_npa = np.array([1, 2])   # Let numpy choose the datatype\n",
    "print(Eip_x_npa.dtype)         # Prints \"int64\"\n",
    "\n",
    "Eip_x_npa = np.array([1.0, 2.0])   # Let numpy choose the datatype\n",
    "print(Eip_x_npa.dtype)             # Prints \"float64\"\n",
    "\n",
    "Eip_x_npa = np.array([1, 2], dtype=np.int64)   # Force a particular datatype\n",
    "print(Eip_x_npa.dtype)                         # Prints \"int64\""
   ]
  },
  {
   "cell_type": "markdown",
   "metadata": {
    "colab_type": "text",
    "id": "O9ivONVqdoS0"
   },
   "source": [
    "You can read all about numpy datatypes\n",
    "[in the documentation](http://docs.scipy.org/doc/numpy/reference/arrays.dtypes.html).\n",
    "\n",
    "<a name='numpy-math'></a>\n",
    "\n",
    "### Array math\n",
    "Basic mathematical functions operate elementwise on arrays, and are available\n",
    "both as operator overloads and as functions in the numpy module:"
   ]
  },
  {
   "cell_type": "code",
   "execution_count": null,
   "metadata": {
    "colab": {
     "autoexec": {
      "startup": false,
      "wait_interval": 0
     }
    },
    "colab_type": "code",
    "id": "_Sh4ynhddoS2",
    "outputId": "da2533cf-8da3-43a7-de4b-e04e29597ee1"
   },
   "outputs": [
    {
     "name": "stdout",
     "output_type": "stream",
     "text": [
      "[[1. 2.]\n",
      " [3. 4.]]\n",
      "[[5. 6.]\n",
      " [7. 8.]]\n"
     ]
    }
   ],
   "source": [
    "import numpy as np\n",
    "\n",
    "Eip_x = np.array([[1,2],[3,4]], dtype=np.float64)\n",
    "Eip_y = np.array([[5,6],[7,8]], dtype=np.float64)\n",
    "\n",
    "print(Eip_x)\n",
    "print(Eip_y)"
   ]
  },
  {
   "cell_type": "code",
   "execution_count": null,
   "metadata": {
    "colab": {
     "autoexec": {
      "startup": false,
      "wait_interval": 0
     }
    },
    "colab_type": "code",
    "id": "a79LDbJUdoTR",
    "outputId": "6002af04-83b4-4793-fa19-4285ea5f3495"
   },
   "outputs": [
    {
     "name": "stdout",
     "output_type": "stream",
     "text": [
      "[[ 6.  8.]\n",
      " [10. 12.]]\n",
      "[[ 6.  8.]\n",
      " [10. 12.]]\n"
     ]
    }
   ],
   "source": [
    "# Elementwise sum; both produce the array\n",
    "# [[ 6.0  8.0]\n",
    "#  [10.0 12.0]]\n",
    "print(Eip_x + Eip_y)\n",
    "print(np.add(Eip_x, Eip_y))"
   ]
  },
  {
   "cell_type": "code",
   "execution_count": null,
   "metadata": {
    "colab": {
     "autoexec": {
      "startup": false,
      "wait_interval": 0
     }
    },
    "colab_type": "code",
    "id": "f8PVUtzLdoTg",
    "outputId": "752afd4c-f750-42b5-9aaa-921dd6f12f00"
   },
   "outputs": [
    {
     "name": "stdout",
     "output_type": "stream",
     "text": [
      "[[-4. -4.]\n",
      " [-4. -4.]]\n",
      "[[-4. -4.]\n",
      " [-4. -4.]]\n"
     ]
    }
   ],
   "source": [
    "# Elementwise difference; both produce the array\n",
    "# [[-4.0 -4.0]\n",
    "#  [-4.0 -4.0]]\n",
    "print(Eip_x - Eip_y)\n",
    "print(np.subtract(Eip_x, Eip_y))"
   ]
  },
  {
   "cell_type": "code",
   "execution_count": null,
   "metadata": {
    "colab": {
     "autoexec": {
      "startup": false,
      "wait_interval": 0
     }
    },
    "colab_type": "code",
    "id": "yia8znTRdoTp",
    "outputId": "6e26a79e-e285-45b2-ffa3-6b84f4fd3f54"
   },
   "outputs": [
    {
     "name": "stdout",
     "output_type": "stream",
     "text": [
      "[[ 5. 12.]\n",
      " [21. 32.]]\n",
      "[[ 5. 12.]\n",
      " [21. 32.]]\n"
     ]
    }
   ],
   "source": [
    "# Elementwise product; both produce the array\n",
    "# [[ 5.0 12.0]\n",
    "#  [21.0 32.0]]\n",
    "print(Eip_x * Eip_y)\n",
    "print(np.multiply(Eip_x, Eip_y))"
   ]
  },
  {
   "cell_type": "code",
   "execution_count": null,
   "metadata": {
    "colab": {
     "autoexec": {
      "startup": false,
      "wait_interval": 0
     }
    },
    "colab_type": "code",
    "id": "4v7m4vONdoT4",
    "outputId": "e7320d89-adb0-4c27-8e55-84912feaeb76"
   },
   "outputs": [
    {
     "name": "stdout",
     "output_type": "stream",
     "text": [
      "[[0.2        0.33333333]\n",
      " [0.42857143 0.5       ]]\n",
      "[[0.2        0.33333333]\n",
      " [0.42857143 0.5       ]]\n"
     ]
    }
   ],
   "source": [
    "# Elementwise division; both produce the array\n",
    "# [[ 0.2         0.33333333]\n",
    "#  [ 0.42857143  0.5       ]]\n",
    "print(Eip_x / Eip_y)\n",
    "print(np.divide(Eip_x, Eip_y))"
   ]
  },
  {
   "cell_type": "code",
   "execution_count": null,
   "metadata": {
    "colab": {
     "autoexec": {
      "startup": false,
      "wait_interval": 0
     }
    },
    "colab_type": "code",
    "id": "0BQD8XJudoT-",
    "outputId": "c5776337-8feb-4d30-d44c-26b7911e4766"
   },
   "outputs": [
    {
     "name": "stdout",
     "output_type": "stream",
     "text": [
      "[[1.         1.41421356]\n",
      " [1.73205081 2.        ]]\n"
     ]
    }
   ],
   "source": [
    "# Elementwise square root; produces the array\n",
    "# [[ 1.          1.41421356]\n",
    "#  [ 1.73205081  2.        ]]\n",
    "print(np.sqrt(Eip_x))"
   ]
  },
  {
   "cell_type": "markdown",
   "metadata": {
    "colab_type": "text",
    "id": "nE5rwLh3doUI"
   },
   "source": [
    "Note that unlike MATLAB, `*` is elementwise multiplication, not matrix\n",
    "multiplication. We instead use the `dot` function to compute inner\n",
    "products of vectors, to multiply a vector by a matrix, and to\n",
    "multiply matrices. `dot` is available both as a function in the numpy\n",
    "module and as an instance method of array objects:"
   ]
  },
  {
   "cell_type": "code",
   "execution_count": null,
   "metadata": {
    "colab": {
     "autoexec": {
      "startup": false,
      "wait_interval": 0
     }
    },
    "colab_type": "code",
    "id": "OMDWSFDydoUK",
    "outputId": "84ec5a55-0125-450c-8458-10716083c0f0"
   },
   "outputs": [
    {
     "name": "stdout",
     "output_type": "stream",
     "text": [
      "219\n",
      "219\n",
      "[29 67]\n",
      "[29 67]\n",
      "[[19 22]\n",
      " [43 50]]\n",
      "[[19 22]\n",
      " [43 50]]\n"
     ]
    }
   ],
   "source": [
    "import numpy as np\n",
    "\n",
    "Eip_x = np.array([[1,2],[3,4]])\n",
    "Eip_y = np.array([[5,6],[7,8]])\n",
    "\n",
    "Eip_v = np.array([9,10])\n",
    "Eip_w = np.array([11, 12])\n",
    "\n",
    "# Inner product of vectors; both produce 219\n",
    "print(Eip_v.dot(Eip_w))\n",
    "print(np.dot(Eip_v, Eip_w))\n",
    "\n",
    "# Matrix / vector product; both produce the rank 1 array [29 67]\n",
    "print(Eip_x.dot(Eip_v))\n",
    "print(np.dot(Eip_x, Eip_v))\n",
    "\n",
    "# Matrix / matrix product; both produce the rank 2 array\n",
    "# [[19 22]\n",
    "#  [43 50]]\n",
    "print(Eip_x.dot(Eip_y))\n",
    "print(np.dot(Eip_x, Eip_y))"
   ]
  },
  {
   "cell_type": "markdown",
   "metadata": {
    "colab_type": "text",
    "id": "gNepyOuFdoUW"
   },
   "source": [
    "Numpy provides many useful functions for performing computations on\n",
    "arrays; one of the most useful is `sum`:"
   ]
  },
  {
   "cell_type": "code",
   "execution_count": null,
   "metadata": {
    "colab": {
     "autoexec": {
      "startup": false,
      "wait_interval": 0
     }
    },
    "colab_type": "code",
    "id": "2-wlme4jdoUY",
    "outputId": "3c3fc788-58d0-4b84-97ad-4484fd454ff1"
   },
   "outputs": [
    {
     "name": "stdout",
     "output_type": "stream",
     "text": [
      "10\n",
      "[4 6]\n",
      "[3 7]\n"
     ]
    }
   ],
   "source": [
    "import numpy as np\n",
    "\n",
    "Eip_x = np.array([[1,2],[3,4]])\n",
    "\n",
    "print(np.sum(Eip_x))  # Compute sum of all elements; prints \"10\"\n",
    "print(np.sum(Eip_x, axis=0))  # Compute sum of each column; prints \"[4 6]\"\n",
    "print(np.sum(Eip_x, axis=1))  # Compute sum of each row; prints \"[3 7]\""
   ]
  },
  {
   "cell_type": "markdown",
   "metadata": {
    "colab_type": "text",
    "id": "y2sI3BUqdoUf"
   },
   "source": [
    "You can find the full list of mathematical functions provided by numpy\n",
    "[in the documentation](http://docs.scipy.org/doc/numpy/reference/routines.math.html).\n",
    "\n",
    "Apart from computing mathematical functions using arrays, we frequently\n",
    "need to reshape or otherwise manipulate data in arrays. The simplest example\n",
    "of this type of operation is transposing a matrix; to transpose a matrix,\n",
    "simply use the `T` attribute of an array object:"
   ]
  },
  {
   "cell_type": "code",
   "execution_count": null,
   "metadata": {
    "colab": {
     "autoexec": {
      "startup": false,
      "wait_interval": 0
     }
    },
    "colab_type": "code",
    "id": "IE1TZIkMdoUh",
    "outputId": "4fd556f5-a10a-449d-c5a0-e2d691173a1c"
   },
   "outputs": [
    {
     "name": "stdout",
     "output_type": "stream",
     "text": [
      "[[1 2]\n",
      " [3 4]]\n",
      "[[1 3]\n",
      " [2 4]]\n",
      "[1 2 3]\n",
      "[1 2 3]\n"
     ]
    }
   ],
   "source": [
    "import numpy as np\n",
    "\n",
    "Eip_x = np.array([[1,2], [3,4]])\n",
    "print(Eip_x)    # Prints \"[[1 2]\n",
    "            #          [3 4]]\"\n",
    "print(Eip_x.T)  # Prints \"[[1 3]\n",
    "            #          [2 4]]\"\n",
    "\n",
    "# Note that taking the transpose of a rank 1 array does nothing:\n",
    "Eip_v = np.array([1,2,3])\n",
    "print(Eip_v)    # Prints \"[1 2 3]\"\n",
    "print(Eip_v.T)  # Prints \"[1 2 3]\""
   ]
  },
  {
   "cell_type": "markdown",
   "metadata": {
    "colab_type": "text",
    "id": "w0C2I5WjdoUw"
   },
   "source": [
    "Numpy provides many more functions for manipulating arrays; you can see the full list\n",
    "[in the documentation](http://docs.scipy.org/doc/numpy/reference/routines.array-manipulation.html).\n",
    "\n",
    "\n",
    "<a name='numpy-broadcasting'></a>\n",
    "\n",
    "### Broadcasting\n",
    "Broadcasting is a powerful mechanism that allows numpy to work with arrays of different\n",
    "shapes when performing arithmetic operations. Frequently we have a smaller array and a\n",
    "larger array, and we want to use the smaller array multiple times to perform some operation\n",
    "on the larger array.\n",
    "\n",
    "For example, suppose that we want to add a constant vector to each\n",
    "row of a matrix. We could do it like this:"
   ]
  },
  {
   "cell_type": "code",
   "execution_count": null,
   "metadata": {
    "colab": {
     "autoexec": {
      "startup": false,
      "wait_interval": 0
     }
    },
    "colab_type": "code",
    "id": "6kwudi9GdoUy",
    "outputId": "f674a900-b498-442a-fdbf-221f01edc869"
   },
   "outputs": [
    {
     "name": "stdout",
     "output_type": "stream",
     "text": [
      "[[ 2  2  4]\n",
      " [ 5  5  7]\n",
      " [ 8  8 10]\n",
      " [11 11 13]]\n"
     ]
    }
   ],
   "source": [
    "import numpy as np\n",
    "\n",
    "# We will add the vector v to each row of the matrix x,\n",
    "# storing the result in the matrix y\n",
    "Eip_x = np.array([[1,2,3], [4,5,6], [7,8,9], [10, 11, 12]])\n",
    "Eip_v = np.array([1, 0, 1])\n",
    "Eip_y = np.empty_like(Eip_x)   # Create an empty matrix with the same shape as x\n",
    "\n",
    "# Add the vector v to each row of the matrix x with an explicit loop\n",
    "for i in range(4):\n",
    "    Eip_y[i, :] = Eip_x[i, :] + Eip_v\n",
    "\n",
    "# Now y is the following\n",
    "# [[ 2  2  4]\n",
    "#  [ 5  5  7]\n",
    "#  [ 8  8 10]\n",
    "#  [11 11 13]]\n",
    "print(Eip_y)"
   ]
  },
  {
   "cell_type": "markdown",
   "metadata": {
    "colab_type": "text",
    "id": "oKG-z4bzdoU7"
   },
   "source": [
    "This works; however when the matrix `x` is very large, computing an explicit loop\n",
    "in Python could be slow. Note that adding the vector `v` to each row of the matrix\n",
    "`x` is equivalent to forming a matrix `vv` by stacking multiple copies of `v` vertically,\n",
    "then performing elementwise summation of `x` and `vv`. We could implement this\n",
    "approach like this:"
   ]
  },
  {
   "cell_type": "code",
   "execution_count": null,
   "metadata": {
    "colab": {
     "autoexec": {
      "startup": false,
      "wait_interval": 0
     }
    },
    "colab_type": "code",
    "id": "oK9e_ZVNdoU_",
    "outputId": "48977dc3-3391-4cf9-9393-b032d7213cfe"
   },
   "outputs": [
    {
     "name": "stdout",
     "output_type": "stream",
     "text": [
      "[[1 0 1]\n",
      " [1 0 1]\n",
      " [1 0 1]\n",
      " [1 0 1]]\n",
      "[[ 2  2  4]\n",
      " [ 5  5  7]\n",
      " [ 8  8 10]\n",
      " [11 11 13]]\n"
     ]
    }
   ],
   "source": [
    "import numpy as np\n",
    "\n",
    "# We will add the vector v to each row of the matrix x,\n",
    "# storing the result in the matrix y\n",
    "Eip_x = np.array([[1,2,3], [4,5,6], [7,8,9], [10, 11, 12]])\n",
    "Eip_v = np.array([1, 0, 1])\n",
    "Eip_vv = np.tile(Eip_v, (4, 1))   # Stack 4 copies of v on top of each other\n",
    "print(Eip_vv)                 # Prints \"[[1 0 1]\n",
    "                          #          [1 0 1]\n",
    "                          #          [1 0 1]\n",
    "                          #          [1 0 1]]\"\n",
    "Eip_y = Eip_x + Eip_vv  # Add x and vv elementwise\n",
    "print(Eip_y)  # Prints \"[[ 2  2  4\n",
    "          #          [ 5  5  7]\n",
    "          #          [ 8  8 10]\n",
    "          #          [11 11 13]]\""
   ]
  },
  {
   "cell_type": "markdown",
   "metadata": {
    "colab_type": "text",
    "id": "CYjhQ-J5doVK"
   },
   "source": [
    "Numpy broadcasting allows us to perform this computation without actually\n",
    "creating multiple copies of `v`. Consider this version, using broadcasting:"
   ]
  },
  {
   "cell_type": "code",
   "execution_count": null,
   "metadata": {
    "colab": {
     "autoexec": {
      "startup": false,
      "wait_interval": 0
     }
    },
    "colab_type": "code",
    "id": "P9JanD54doVM",
    "outputId": "b28b10c5-007b-4c2e-e6aa-e51ce3025769"
   },
   "outputs": [
    {
     "name": "stdout",
     "output_type": "stream",
     "text": [
      "[[ 2  2  4]\n",
      " [ 5  5  7]\n",
      " [ 8  8 10]\n",
      " [11 11 13]]\n"
     ]
    }
   ],
   "source": [
    "import numpy as np\n",
    "\n",
    "# We will add the vector v to each row of the matrix x,\n",
    "# storing the result in the matrix y\n",
    "Eip_x = np.array([[1,2,3], [4,5,6], [7,8,9], [10, 11, 12]])\n",
    "Eip_v = np.array([1, 0, 1])\n",
    "Eip_y = Eip_x + Eip_v  # Add v to each row of x using broadcasting\n",
    "print(Eip_y)  # Prints \"[[ 2  2  4]\n",
    "          #          [ 5  5  7]\n",
    "          #          [ 8  8 10]\n",
    "          #          [11 11 13]]\""
   ]
  },
  {
   "cell_type": "markdown",
   "metadata": {
    "colab_type": "text",
    "id": "gg0FNISndoVc"
   },
   "source": [
    "The line `y = x + v` works even though `x` has shape `(4, 3)` and `v` has shape\n",
    "`(3,)` due to broadcasting; this line works as if `v` actually had shape `(4, 3)`,\n",
    "where each row was a copy of `v`, and the sum was performed elementwise.\n",
    "\n",
    "Broadcasting two arrays together follows these rules:\n",
    "\n",
    "1. If the arrays do not have the same rank, prepend the shape of the lower rank array\n",
    "   with 1s until both shapes have the same length.\n",
    "2. The two arrays are said to be *compatible* in a dimension if they have the same\n",
    "   size in the dimension, or if one of the arrays has size 1 in that dimension.\n",
    "3. The arrays can be broadcast together if they are compatible in all dimensions.\n",
    "4. After broadcasting, each array behaves as if it had shape equal to the elementwise\n",
    "   maximum of shapes of the two input arrays.\n",
    "5. In any dimension where one array had size 1 and the other array had size greater than 1,\n",
    "   the first array behaves as if it were copied along that dimension\n",
    "\n",
    "If this explanation does not make sense, try reading the explanation\n",
    "[from the documentation](http://docs.scipy.org/doc/numpy/user/basics.broadcasting.html)\n",
    "or [this explanation](http://wiki.scipy.org/EricsBroadcastingDoc).\n",
    "\n",
    "Functions that support broadcasting are known as *universal functions*. You can find\n",
    "the list of all universal functions\n",
    "[in the documentation](http://docs.scipy.org/doc/numpy/reference/ufuncs.html#available-ufuncs).\n",
    "\n",
    "Here are some applications of broadcasting:"
   ]
  },
  {
   "cell_type": "code",
   "execution_count": null,
   "metadata": {
    "colab": {
     "autoexec": {
      "startup": false,
      "wait_interval": 0
     }
    },
    "colab_type": "code",
    "id": "tjEjh4cddoVe",
    "outputId": "fb24d2a7-7d81-406a-c12c-6561cc4f5ce9"
   },
   "outputs": [
    {
     "name": "stdout",
     "output_type": "stream",
     "text": [
      "[[ 4  5]\n",
      " [ 8 10]\n",
      " [12 15]]\n",
      "[[2 4 6]\n",
      " [5 7 9]]\n",
      "[[ 5  6  7]\n",
      " [ 9 10 11]]\n",
      "[[ 5  6  7]\n",
      " [ 9 10 11]]\n",
      "[[ 2  4  6]\n",
      " [ 8 10 12]]\n"
     ]
    }
   ],
   "source": [
    "import numpy as np\n",
    "\n",
    "# Compute outer product of vectors\n",
    "Eip_v = np.array([1,2,3])  # v has shape (3,)\n",
    "Eip_w = np.array([4,5])    # w has shape (2,)\n",
    "# To compute an outer product, we first reshape v to be a column\n",
    "# vector of shape (3, 1); we can then broadcast it against w to yield\n",
    "# an output of shape (3, 2), which is the outer product of v and w:\n",
    "# [[ 4  5]\n",
    "#  [ 8 10]\n",
    "#  [12 15]]\n",
    "print(np.reshape(Eip_v, (3, 1)) * Eip_w)\n",
    "\n",
    "# Add a vector to each row of a matrix\n",
    "Eip_x = np.array([[1,2,3], [4,5,6]])\n",
    "# x has shape (2, 3) and v has shape (3,) so they broadcast to (2, 3),\n",
    "# giving the following matrix:\n",
    "# [[2 4 6]\n",
    "#  [5 7 9]]\n",
    "print(Eip_x + Eip_v)\n",
    "\n",
    "# Add a vector to each column of a matrix\n",
    "# x has shape (2, 3) and w has shape (2,).\n",
    "# If we transpose x then it has shape (3, 2) and can be broadcast\n",
    "# against w to yield a result of shape (3, 2); transposing this result\n",
    "# yields the final result of shape (2, 3) which is the matrix x with\n",
    "# the vector w added to each column. Gives the following matrix:\n",
    "# [[ 5  6  7]\n",
    "#  [ 9 10 11]]\n",
    "print((Eip_x.T + Eip_w).T)\n",
    "# Another solution is to reshape w to be a column vector of shape (2, 1);\n",
    "# we can then broadcast it directly against x to produce the same\n",
    "# output.\n",
    "print(Eip_x + np.reshape(Eip_w, (2, 1)))\n",
    "\n",
    "# Multiply a matrix by a constant:\n",
    "# x has shape (2, 3). Numpy treats scalars as arrays of shape ();\n",
    "# these can be broadcast together to shape (2, 3), producing the\n",
    "# following array:\n",
    "# [[ 2  4  6]\n",
    "#  [ 8 10 12]]\n",
    "print(Eip_x * 2)"
   ]
  },
  {
   "cell_type": "markdown",
   "metadata": {
    "colab_type": "text",
    "id": "tWJzkYG7doVn"
   },
   "source": [
    "Broadcasting typically makes your code more concise and faster, so you\n",
    "should strive to use it where possible.\n",
    "\n",
    "### Numpy Documentation\n",
    "This brief overview has touched on many of the important things that you need to\n",
    "know about numpy, but is far from complete. Check out the\n",
    "[numpy reference](http://docs.scipy.org/doc/numpy/reference/)\n",
    "to find out much more about numpy.\n",
    "\n",
    "<a name='scipy'></a>\n",
    "\n",
    "## SciPy\n",
    "Numpy provides a high-performance multidimensional array and basic tools to\n",
    "compute with and manipulate these arrays.\n",
    "[SciPy](http://docs.scipy.org/doc/scipy/reference/)\n",
    "builds on this, and provides\n",
    "a large number of functions that operate on numpy arrays and are useful for\n",
    "different types of scientific and engineering applications.\n",
    "\n",
    "The best way to get familiar with SciPy is to\n",
    "[browse the documentation](http://docs.scipy.org/doc/scipy/reference/index.html).\n",
    "We will highlight some parts of SciPy that you might find useful for this class.\n",
    "\n",
    "<a name='scipy-image'></a>\n",
    "\n",
    "### Image operations\n",
    "SciPy provides some basic functions to work with images.\n",
    "For example, it has functions to read images from disk into numpy arrays,\n",
    "to write numpy arrays to disk as images, and to resize images.\n",
    "Here is a simple example that showcases these functions:"
   ]
  },
  {
   "cell_type": "code",
   "execution_count": null,
   "metadata": {
    "colab": {
     "autoexec": {
      "startup": false,
      "wait_interval": 0
     }
    },
    "colab_type": "code",
    "id": "ckibIVXWdoVp",
    "outputId": "0c463a9c-852d-4f51-a5e5-d477bbea3dc3"
   },
   "outputs": [
    {
     "name": "stdout",
     "output_type": "stream",
     "text": [
      "--2018-04-23 21:27:19--  https://vignette.wikia.nocookie.net/uncyclopedia/images/b/be/Cat.JPG\n",
      "Resolving vignette.wikia.nocookie.net (vignette.wikia.nocookie.net)... 151.101.128.194, 151.101.0.194, 151.101.192.194, ...\n",
      "Connecting to vignette.wikia.nocookie.net (vignette.wikia.nocookie.net)|151.101.128.194|:443... connected.\n",
      "HTTP request sent, awaiting response... 200 OK\n",
      "Length: 68772 (67K) [image/jpeg]\n",
      "Saving to: ‘Cat.JPG.1’\n",
      "\n",
      "Cat.JPG.1           100%[===================>]  67.16K   210KB/s    in 0.3s    \n",
      "\n",
      "2018-04-23 21:27:20 (210 KB/s) - ‘Cat.JPG.1’ saved [68772/68772]\n",
      "\n"
     ]
    }
   ],
   "source": [
    "!wget https://vignette.wikia.nocookie.net/uncyclopedia/images/b/be/Cat.JPG"
   ]
  },
  {
   "cell_type": "code",
   "execution_count": null,
   "metadata": {
    "colab": {
     "autoexec": {
      "startup": false,
      "wait_interval": 0
     }
    },
    "colab_type": "code",
    "id": "dR3sPiyRdoV3",
    "outputId": "4973ca6e-cb23-4b73-dba0-cfbeefe1e30a"
   },
   "outputs": [
    {
     "name": "stdout",
     "output_type": "stream",
     "text": [
      "(dtype('uint8'), (489, 500, 3))\n"
     ]
    },
    {
     "name": "stderr",
     "output_type": "stream",
     "text": [
      "/home/ssk/anaconda2/lib/python2.7/site-packages/ipykernel_launcher.py:4: DeprecationWarning: `imread` is deprecated!\n",
      "`imread` is deprecated in SciPy 1.0.0, and will be removed in 1.2.0.\n",
      "Use ``imageio.imread`` instead.\n",
      "  after removing the cwd from sys.path.\n",
      "/home/ssk/anaconda2/lib/python2.7/site-packages/ipykernel_launcher.py:16: DeprecationWarning: `imresize` is deprecated!\n",
      "`imresize` is deprecated in SciPy 1.0.0, and will be removed in 1.2.0.\n",
      "Use ``skimage.transform.resize`` instead.\n",
      "  app.launch_new_instance()\n",
      "/home/ssk/anaconda2/lib/python2.7/site-packages/ipykernel_launcher.py:19: DeprecationWarning: `imsave` is deprecated!\n",
      "`imsave` is deprecated in SciPy 1.0.0, and will be removed in 1.2.0.\n",
      "Use ``imageio.imwrite`` instead.\n"
     ]
    }
   ],
   "source": [
    "from scipy.misc import imread, imsave, imresize\n",
    "\n",
    "# Read an JPEG image into a numpy array\n",
    "Eip_img = imread('Cat.JPG')\n",
    "print(Eip_img.dtype, Eip_img.shape)  # Prints \"uint8 (400, 248, 3)\"\n",
    "\n",
    "# We can tint the image by scaling each of the color channels\n",
    "# by a different scalar constant. The image has shape (400, 248, 3);\n",
    "# we multiply it by the array [1, 0.95, 0.9] of shape (3,);\n",
    "# numpy broadcasting means that this leaves the red channel unchanged,\n",
    "# and multiplies the green and blue channels by 0.95 and 0.9\n",
    "# respectively.\n",
    "Eip_img_tinted = Eip_img * [1, 0.95, 0.9]\n",
    "\n",
    "# Resize the tinted image to be 300 by 300 pixels.\n",
    "Eip_img_tinted = imresize(Eip_img_tinted, (300, 300))\n",
    "\n",
    "# Write the tinted image back to disk\n",
    "imsave('cat_tinted.jpg', Eip_img_tinted)"
   ]
  },
  {
   "cell_type": "markdown",
   "metadata": {
    "colab_type": "text",
    "id": "xQVkSAf0doWC"
   },
   "source": [
    "<div class='fig figcenter fighighlight'>\n",
    "  <img src='assets/cat.jpg'>\n",
    "  <img src='assets/cat_tinted.jpg'>\n",
    "  <div class='figcaption'>\n",
    "    Left: The original image.\n",
    "    Right: The tinted and resized image.\n",
    "  </div>\n",
    "</div>\n",
    "\n",
    "<a name='scipy-matlab'></a>\n",
    "\n",
    "### MATLAB files\n",
    "The functions `scipy.io.loadmat` and `scipy.io.savemat` allow you to read and\n",
    "write MATLAB files. You can read about them\n",
    "[in the documentation](http://docs.scipy.org/doc/scipy/reference/io.html).\n",
    "\n",
    "<a name='scipy-dist'></a>\n",
    "\n",
    "### Distance between points\n",
    "SciPy defines some useful functions for computing distances between sets of points.\n",
    "\n",
    "The function `scipy.spatial.distance.pdist` computes the distance between all pairs\n",
    "of points in a given set:"
   ]
  },
  {
   "cell_type": "code",
   "execution_count": null,
   "metadata": {
    "colab": {
     "autoexec": {
      "startup": false,
      "wait_interval": 0
     }
    },
    "colab_type": "code",
    "id": "aPfSvUKBdoWH",
    "outputId": "7f52deb3-e57f-4c97-e42c-b82def5a934d"
   },
   "outputs": [
    {
     "name": "stdout",
     "output_type": "stream",
     "text": [
      "[[0 1]\n",
      " [1 0]\n",
      " [2 0]]\n",
      "[[0.         1.41421356 2.23606798]\n",
      " [1.41421356 0.         1.        ]\n",
      " [2.23606798 1.         0.        ]]\n"
     ]
    }
   ],
   "source": [
    "import numpy as np\n",
    "from scipy.spatial.distance import pdist, squareform\n",
    "\n",
    "# Create the following array where each row is a point in 2D space:\n",
    "# [[0 1]\n",
    "#  [1 0]\n",
    "#  [2 0]]\n",
    "Eip_x = np.array([[0, 1], [1, 0], [2, 0]])\n",
    "print(Eip_x)\n",
    "\n",
    "# Compute the Euclidean distance between all rows of x.\n",
    "# d[i, j] is the Euclidean distance between x[i, :] and x[j, :],\n",
    "# and d is the following array:\n",
    "# [[ 0.          1.41421356  2.23606798]\n",
    "#  [ 1.41421356  0.          1.        ]\n",
    "#  [ 2.23606798  1.          0.        ]]\n",
    "Eip_d = squareform(pdist(Eip_x, 'euclidean'))\n",
    "print(Eip_d)"
   ]
  },
  {
   "cell_type": "markdown",
   "metadata": {
    "colab_type": "text",
    "id": "wF3sgkHzdoWb"
   },
   "source": [
    "You can read all the details about this function\n",
    "[in the documentation](http://docs.scipy.org/doc/scipy/reference/generated/scipy.spatial.distance.pdist.html).\n",
    "\n",
    "A similar function (`scipy.spatial.distance.cdist`) computes the distance between all pairs\n",
    "across two sets of points; you can read about it\n",
    "[in the documentation](http://docs.scipy.org/doc/scipy/reference/generated/scipy.spatial.distance.cdist.html).\n",
    "\n",
    "<a name='matplotlib'></a>\n",
    "\n",
    "## Matplotlib\n",
    "[Matplotlib](http://matplotlib.org/) is a plotting library.\n",
    "In this section give a brief introduction to the `matplotlib.pyplot` module,\n",
    "which provides a plotting system similar to that of MATLAB.\n",
    "\n",
    "<a name='matplotlib-plot'></a>\n",
    "\n",
    "### Plotting\n",
    "The most important function in matplotlib is `plot`,\n",
    "which allows you to plot 2D data. Here is a simple example:"
   ]
  },
  {
   "cell_type": "code",
   "execution_count": null,
   "metadata": {
    "colab": {
     "autoexec": {
      "startup": false,
      "wait_interval": 0
     }
    },
    "colab_type": "code",
    "id": "XxQiErIidoWj"
   },
   "outputs": [],
   "source": [
    "%matplotlib inline"
   ]
  },
  {
   "cell_type": "code",
   "execution_count": null,
   "metadata": {
    "colab": {
     "autoexec": {
      "startup": false,
      "wait_interval": 0
     }
    },
    "colab_type": "code",
    "id": "YO7g6JKsdoW3",
    "outputId": "8fe1d877-e83f-4627-9d56-5d388a2365da"
   },
   "outputs": [
    {
     "data": {
      "image/png": "[encoded data removed]",
      "text/plain": [
       "<Figure size 432x288 with 1 Axes>"
      ]
     },
     "metadata": {
      "tags": []
     },
     "output_type": "display_data"
    }
   ],
   "source": [
    "import numpy as np\n",
    "import matplotlib.pyplot as plt\n",
    "\n",
    "# Compute the x and y coordinates for points on a sine curve\n",
    "Eip_x = np.arange(0, 3 * np.pi, 0.1)\n",
    "Eip_y = np.sin(Eip_x)\n",
    "\n",
    "# Plot the points using matplotlib\n",
    "plt.plot(Eip_x, Eip_y)\n",
    "plt.show()  # You must call plt.show() to make graphics appear."
   ]
  },
  {
   "cell_type": "markdown",
   "metadata": {
    "colab_type": "text",
    "id": "2yWl2yyndoXK"
   },
   "source": [
    "Running this code produces the following plot:\n",
    "\n",
    "<div class='fig figcenter fighighlight'>\n",
    "  <img src='assets/sine.png'>\n",
    "</div>\n",
    "\n",
    "With just a little bit of extra work we can easily plot multiple lines\n",
    "at once, and add a title, legend, and axis labels:"
   ]
  },
  {
   "cell_type": "code",
   "execution_count": null,
   "metadata": {
    "colab": {
     "autoexec": {
      "startup": false,
      "wait_interval": 0
     }
    },
    "colab_type": "code",
    "id": "l5CDio4LdoXM",
    "outputId": "eef6d581-f37d-4a22-cfee-b67c62d85913"
   },
   "outputs": [
    {
     "data": {
      "image/png": "[encoded data removed]",
      "text/plain": [
       "<Figure size 432x288 with 1 Axes>"
      ]
     },
     "metadata": {
      "tags": []
     },
     "output_type": "display_data"
    }
   ],
   "source": [
    "import numpy as np\n",
    "import matplotlib.pyplot as plt\n",
    "\n",
    "# Compute the x and y coordinates for points on sine and cosine curves\n",
    "Eip_x = np.arange(0, 3 * np.pi, 0.1)\n",
    "Eip_y_sin = np.sin(Eip_x)\n",
    "Eip_y_cos = np.cos(Eip_x)\n",
    "\n",
    "# Plot the points using matplotlib\n",
    "plt.plot(Eip_x, Eip_y_sin)\n",
    "plt.plot(Eip_x, Eip_y_cos)\n",
    "plt.xlabel('x axis label')\n",
    "plt.ylabel('y axis label')\n",
    "plt.title('Sine and Cosine')\n",
    "plt.legend(['Sine', 'Cosine'])\n",
    "plt.show()"
   ]
  },
  {
   "cell_type": "markdown",
   "metadata": {
    "colab_type": "text",
    "id": "e6l-RCnpdoXS"
   },
   "source": [
    "<div class='fig figcenter fighighlight'>\n",
    "  <img src='assets/sine_cosine.png'>\n",
    "</div>\n",
    "\n",
    "You can read much more about the `plot` function\n",
    "[in the documentation](http://matplotlib.org/api/pyplot_api.html#matplotlib.pyplot.plot).\n",
    "\n",
    "<a name='matplotlib-subplots'></a>\n",
    "\n",
    "### Subplots\n",
    "You can plot different things in the same figure using the `subplot` function.\n",
    "Here is an example:"
   ]
  },
  {
   "cell_type": "code",
   "execution_count": null,
   "metadata": {
    "colab": {
     "autoexec": {
      "startup": false,
      "wait_interval": 0
     }
    },
    "colab_type": "code",
    "id": "_mqocx2adoXT"
   },
   "outputs": [],
   "source": [
    "import numpy as np\n",
    "import matplotlib.pyplot as plt\n",
    "\n",
    "# Compute the x and y coordinates for points on sine and cosine curves\n",
    "x = np.arange(0, 3 * np.pi, 0.1)\n",
    "y_sin = np.sin(x)\n",
    "y_cos = np.cos(x)\n",
    "\n",
    "# Set up a subplot grid that has height 2 and width 1,\n",
    "# and set the first such subplot as active.\n",
    "plt.subplot(2, 1, 1)\n",
    "\n",
    "# Make the first plot\n",
    "plt.plot(x, y_sin)\n",
    "plt.title('Sine')\n",
    "\n",
    "# Set the second subplot as active, and make the second plot.\n",
    "plt.subplot(2, 1, 2)\n",
    "plt.plot(x, y_cos)\n",
    "plt.title('Cosine')\n",
    "\n",
    "# Show the figure.\n",
    "plt.show()"
   ]
  },
  {
   "cell_type": "markdown",
   "metadata": {
    "colab_type": "text",
    "id": "E6HXh1HmdoXd"
   },
   "source": [
    "<div class='fig figcenter fighighlight'>\n",
    "  <img src='assets/sine_cosine_subplot.png'>\n",
    "</div>\n",
    "\n",
    "You can read much more about the `subplot` function\n",
    "[in the documentation](http://matplotlib.org/api/pyplot_api.html#matplotlib.pyplot.subplot).\n",
    "\n",
    "<a name='matplotlib-images'></a>\n",
    "\n",
    "### Images\n",
    "You can use the `imshow` function to show images. Here is an example:"
   ]
  },
  {
   "cell_type": "code",
   "execution_count": null,
   "metadata": {
    "colab": {
     "autoexec": {
      "startup": false,
      "wait_interval": 0
     }
    },
    "colab_type": "code",
    "id": "eNy-Bce_doXf",
    "outputId": "39ae1907-72d7-4753-cc86-017a4cdaad22"
   },
   "outputs": [
    {
     "name": "stderr",
     "output_type": "stream",
     "text": [
      "/home/ssk/anaconda2/lib/python2.7/site-packages/ipykernel_launcher.py:5: DeprecationWarning: `imread` is deprecated!\n",
      "`imread` is deprecated in SciPy 1.0.0, and will be removed in 1.2.0.\n",
      "Use ``imageio.imread`` instead.\n",
      "  \"\"\"\n"
     ]
    },
    {
     "data": {
      "image/png": "[encoded data removed]",
      "text/plain": [
       "<Figure size 432x288 with 2 Axes>"
      ]
     },
     "metadata": {
      "tags": []
     },
     "output_type": "display_data"
    }
   ],
   "source": [
    "import numpy as np\n",
    "from scipy.misc import imread, imresize\n",
    "import matplotlib.pyplot as plt\n",
    "\n",
    "img = imread('images/image.jpg')\n",
    "img_tinted = img * [1, 0.95, 0.9]\n",
    "\n",
    "# Show the original image\n",
    "plt.subplot(1, 2, 1)\n",
    "plt.imshow(img)\n",
    "\n",
    "# Show the tinted image\n",
    "plt.subplot(1, 2, 2)\n",
    "\n",
    "# A slight gotcha with imshow is that it might give strange results\n",
    "# if presented with data that is not uint8. To work around this, we\n",
    "# explicitly cast the image to uint8 before displaying it.\n",
    "plt.imshow(np.uint8(img_tinted))\n",
    "plt.show()"
   ]
  },
  {
   "cell_type": "markdown",
   "metadata": {
    "colab_type": "text",
    "id": "kRj_tA4SdoXm"
   },
   "source": [
    "<div class='fig figcenter fighighlight'>\n",
    "  <img src='assets/cat_tinted_imshow.png'>\n",
    "</div>"
   ]
  }
 ],
 "metadata": {
  "colab": {
   "default_view": {},
   "name": "SenthilKumar_BATCH_1_ASSIGNMENT_2A.ipynb",
   "provenance": [],
   "version": "0.3.2",
   "views": {}
  },
  "kernelspec": {
   "display_name": "Python 3",
   "language": "python",
   "name": "python3"
  },
  "language_info": {
   "codemirror_mode": {
    "name": "ipython",
    "version": 3
   },
   "file_extension": ".py",
   "mimetype": "text/x-python",
   "name": "python",
   "nbconvert_exporter": "python",
   "pygments_lexer": "ipython3",
   "version": "3.6.4"
  }
 },
 "nbformat": 4,
 "nbformat_minor": 2
}
